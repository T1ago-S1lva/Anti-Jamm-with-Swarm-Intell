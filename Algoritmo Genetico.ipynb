{
 "cells": [
  {
   "cell_type": "code",
   "execution_count": 351,
   "metadata": {},
   "outputs": [],
   "source": [
    "import gym\n",
    "from gym import Env, spaces\n",
    "\n",
    "import numpy as np\n",
    "import seaborn as sns\n",
    "from plotly.offline import iplot\n",
    "import matplotlib.pyplot as plt\n",
    "import plotly.graph_objects as go\n",
    "import plotly.express as px"
   ]
  },
  {
   "cell_type": "markdown",
   "metadata": {},
   "source": [
    "Configurar o Enxame\n"
   ]
  },
  {
   "cell_type": "code",
   "execution_count": 352,
   "metadata": {},
   "outputs": [],
   "source": [
    "num_drones = 6\n",
    "limite_y = 80\n",
    "limite_x = 100\n",
    "\n",
    "alcance_comunicacao_jammer = 25\n",
    "alcance_comunicacao_nos=500\n",
    "B_Hz = 2.4e9  # Largura de banda\n",
    "\n",
    "# Posições estáticas dos drones\n",
    "posicoes = np.array([[16, 30], [18, 48], [44, 15], [23, 73], [45, 73], [50, 50]])\n",
    "\n",
    "posicao_jammer = np.array([38,50])\n",
    "\n"
   ]
  },
  {
   "cell_type": "markdown",
   "metadata": {},
   "source": [
    "ENCONTRAR VIZINHOS E NOS AFETADOS"
   ]
  },
  {
   "cell_type": "code",
   "execution_count": 353,
   "metadata": {},
   "outputs": [
    {
     "name": "stdout",
     "output_type": "stream",
     "text": [
      "Nos Vizinhos: {0: [1, 2, 3, 4, 5], 1: [0, 2, 3, 4, 5], 2: [0, 1, 3, 4, 5], 3: [0, 1, 2, 4, 5], 4: [0, 1, 2, 3, 5], 5: [0, 1, 2, 3, 4]}\n",
      "Nos Afetados Jammer: [1, 4, 5]\n"
     ]
    }
   ],
   "source": [
    "def distancia(pos1, pos2):\n",
    "    return np.sqrt((pos1[0] - pos2[0])**2 + (pos1[1] - pos2[1])**2)\n",
    "# Preparando a figura\n",
    "\n",
    "def encontra_vizinhos(posicoes, alcance_comunicacao_nos):\n",
    "    num_drones = posicoes.shape[0]\n",
    "    vizinhos = {}\n",
    "    for i in range(num_drones):\n",
    "        vizinhos[i] = []\n",
    "        for j in range(num_drones):\n",
    "            if i != j and distancia(posicoes[i], posicoes[j]) <= alcance_comunicacao_nos:\n",
    "                vizinhos[i].append(j)\n",
    "    return vizinhos\n",
    "\n",
    "def verifica_jammer(posicoes, posicao_jammer, alcance_comunicacao_jammer):\n",
    "    afetados_pelo_jammer = []\n",
    "    for i in range(posicoes.shape[0]):\n",
    "        if distancia(posicoes[i], posicao_jammer) <= alcance_comunicacao_jammer:\n",
    "            afetados_pelo_jammer.append(i)\n",
    "    return afetados_pelo_jammer\n",
    "\n",
    "vizinhos = encontra_vizinhos(posicoes, alcance_comunicacao_nos)\n",
    "afetados_pelo_jammer = verifica_jammer(posicoes, posicao_jammer, alcance_comunicacao_jammer)\n",
    "\n",
    "print('Nos Vizinhos:', vizinhos)\n",
    "print('Nos Afetados Jammer:', afetados_pelo_jammer)"
   ]
  },
  {
   "cell_type": "markdown",
   "metadata": {},
   "source": [
    "CALCULA AS POTENCIAS DE RECEÇÃO"
   ]
  },
  {
   "cell_type": "code",
   "execution_count": 354,
   "metadata": {},
   "outputs": [
    {
     "name": "stdout",
     "output_type": "stream",
     "text": [
      "resultadosPRX {'Drone 0 para Vizinho 1': -20.20473545739759, 'Drone 0 para Vizinho 2': -25.084908682649896, 'Drone 0 para Vizinho 3': -27.828959101193533, 'Drone 0 para Vizinho 4': -29.343519820304877, 'Drone 0 para Vizinho 5': -26.966092946817497, 'Drone 1 para Vizinho 0': -20.20473545739759, 'Drone 1 para Vizinho 2': -27.513444117519214, 'Drone 1 para Vizinho 3': -23.175130586709358, 'Drone 1 para Vizinho 4': -26.362183663772058, 'Drone 1 para Vizinho 5': -25.16592816687337, 'Drone 2 para Vizinho 0': -25.084908682649896, 'Drone 2 para Vizinho 1': -27.513444117519214, 'Drone 2 para Vizinho 3': -30.84954363134672, 'Drone 2 para Vizinho 4': -30.315847705880756, 'Drone 2 para Vizinho 5': -26.053147886011615, 'Drone 3 para Vizinho 0': -27.828959101193533, 'Drone 3 para Vizinho 1': -23.175130586709358, 'Drone 3 para Vizinho 2': -30.84954363134672, 'Drone 3 para Vizinho 4': -21.894450636724926, 'Drone 3 para Vizinho 5': -26.0428034313733, 'Drone 4 para Vizinho 0': -29.343519820304877, 'Drone 4 para Vizinho 1': -26.362183663772058, 'Drone 4 para Vizinho 2': -30.315847705880756, 'Drone 4 para Vizinho 3': -21.894450636724926, 'Drone 4 para Vizinho 5': -22.48109466756509, 'Drone 5 para Vizinho 0': -26.966092946817497, 'Drone 5 para Vizinho 1': -25.16592816687337, 'Drone 5 para Vizinho 2': -26.053147886011615, 'Drone 5 para Vizinho 3': -26.0428034313733, 'Drone 5 para Vizinho 4': -22.48109466756509}\n",
      "Drone 0 para Vizinho 1: Prx = -20.20 dBm\n",
      "Drone 0 para Vizinho 2: Prx = -25.08 dBm\n",
      "Drone 0 para Vizinho 3: Prx = -27.83 dBm\n",
      "Drone 0 para Vizinho 4: Prx = -29.34 dBm\n",
      "Drone 0 para Vizinho 5: Prx = -26.97 dBm\n",
      "Drone 1 para Vizinho 0: Prx = -20.20 dBm\n",
      "Drone 1 para Vizinho 2: Prx = -27.51 dBm\n",
      "Drone 1 para Vizinho 3: Prx = -23.18 dBm\n",
      "Drone 1 para Vizinho 4: Prx = -26.36 dBm\n",
      "Drone 1 para Vizinho 5: Prx = -25.17 dBm\n",
      "Drone 2 para Vizinho 0: Prx = -25.08 dBm\n",
      "Drone 2 para Vizinho 1: Prx = -27.51 dBm\n",
      "Drone 2 para Vizinho 3: Prx = -30.85 dBm\n",
      "Drone 2 para Vizinho 4: Prx = -30.32 dBm\n",
      "Drone 2 para Vizinho 5: Prx = -26.05 dBm\n",
      "Drone 3 para Vizinho 0: Prx = -27.83 dBm\n",
      "Drone 3 para Vizinho 1: Prx = -23.18 dBm\n",
      "Drone 3 para Vizinho 2: Prx = -30.85 dBm\n",
      "Drone 3 para Vizinho 4: Prx = -21.89 dBm\n",
      "Drone 3 para Vizinho 5: Prx = -26.04 dBm\n",
      "Drone 4 para Vizinho 0: Prx = -29.34 dBm\n",
      "Drone 4 para Vizinho 1: Prx = -26.36 dBm\n",
      "Drone 4 para Vizinho 2: Prx = -30.32 dBm\n",
      "Drone 4 para Vizinho 3: Prx = -21.89 dBm\n",
      "Drone 4 para Vizinho 5: Prx = -22.48 dBm\n",
      "Drone 5 para Vizinho 0: Prx = -26.97 dBm\n",
      "Drone 5 para Vizinho 1: Prx = -25.17 dBm\n",
      "Drone 5 para Vizinho 2: Prx = -26.05 dBm\n",
      "Drone 5 para Vizinho 3: Prx = -26.04 dBm\n",
      "Drone 5 para Vizinho 4: Prx = -22.48 dBm\n"
     ]
    }
   ],
   "source": [
    "Ptx_dBm = 30 \n",
    "Gtx_dBi =0\n",
    "Grx_dBi =15\n",
    "f = 2.4e9 \n",
    "B_Hz= 2.4e9\n",
    "d0=1\n",
    "gamma=2\n",
    "\n",
    "\n",
    "def calcular_Prx_dB(Ptx_dBm, Gtx_dBi, Grx_dBi, d,d0,gamma, f):\n",
    "    \"\"\"\n",
    "    Calcula a potência do sinal recebido usando a equação de Friis.\n",
    "    \"\"\"\n",
    "    c = 3e8  # Velocidade da luz em m/s\n",
    "    lambda_m = c / f  # Comprimento de onda\n",
    "    L = (4 * np.pi * d / lambda_m)**2\n",
    "    Prx_dBm = Ptx_dBm + Gtx_dBi + Grx_dBi - 10 * np.log10(L)\n",
    "    return Prx_dBm\n",
    "\n",
    "\n",
    "def calcular_potencia_recebida_vizinhos(vizinhos, posicoes):\n",
    "    prx_resultados = {}\n",
    "    for drone, seus_vizinhos in vizinhos.items():\n",
    "        for vizinho in seus_vizinhos:\n",
    "            d = distancia(posicoes[drone], posicoes[vizinho])\n",
    "            prx = calcular_Prx_dB(Ptx_dBm, Gtx_dBi, Grx_dBi, d,d0,gamma, f)\n",
    "            prx_resultados[f\"Drone {drone} para Vizinho {vizinho}\"] = prx\n",
    "    return prx_resultados\n",
    "\n",
    "prx_resultados = calcular_potencia_recebida_vizinhos(vizinhos, posicoes)\n",
    "print('resultadosPRX',prx_resultados)\n",
    "\n",
    "# Exibir os resultados\n",
    "for chave, prx in prx_resultados.items():\n",
    "    print(f\"{chave}: Prx = {prx:.2f} dBm\")\n",
    "    \n",
    "    \n",
    "\n",
    "\n"
   ]
  },
  {
   "cell_type": "markdown",
   "metadata": {},
   "source": [
    "CALCULAR AS CAPACIDADES\n",
    "\n",
    "Considero o ruido apenas o efeito dos outros drones que não estão a comunicar diretamente com o meu nó \n",
    "\n",
    "Atribuí um peso de apenas 30% da potencia de receção caso o drone estivesse a apontar diretamente"
   ]
  },
  {
   "cell_type": "code",
   "execution_count": 355,
   "metadata": {},
   "outputs": [
    {
     "name": "stdout",
     "output_type": "stream",
     "text": [
      "Capacidade do canal entre Drone 0 e Drone 1: 365.29 Mbps\n",
      "Capacidade do canal entre Drone 0 e Drone 2: 161.25 Mbps\n",
      "Capacidade do canal entre Drone 0 e Drone 3: 63.87 Mbps\n",
      "Capacidade do canal entre Drone 0 e Drone 4: 71.06 Mbps\n",
      "Capacidade do canal entre Drone 0 e Drone 5: 121.94 Mbps\n",
      "Capacidade do canal entre Drone 1 e Drone 0: 12768.30 Mbps\n",
      "Capacidade do canal entre Drone 1 e Drone 2: 38.27 Mbps\n",
      "Capacidade do canal entre Drone 1 e Drone 3: 117.54 Mbps\n",
      "Capacidade do canal entre Drone 1 e Drone 4: 40.41 Mbps\n",
      "Capacidade do canal entre Drone 1 e Drone 5: 42.77 Mbps\n",
      "Capacidade do canal entre Drone 2 e Drone 0: 194.04 Mbps\n",
      "Capacidade do canal entre Drone 2 e Drone 1: 86.64 Mbps\n",
      "Capacidade do canal entre Drone 2 e Drone 3: 71.65 Mbps\n",
      "Capacidade do canal entre Drone 2 e Drone 4: 80.92 Mbps\n",
      "Capacidade do canal entre Drone 2 e Drone 5: 211.85 Mbps\n",
      "Capacidade do canal entre Drone 3 e Drone 0: 56.92 Mbps\n",
      "Capacidade do canal entre Drone 3 e Drone 1: 167.22 Mbps\n",
      "Capacidade do canal entre Drone 3 e Drone 2: 43.02 Mbps\n",
      "Capacidade do canal entre Drone 3 e Drone 4: 251.13 Mbps\n",
      "Capacidade do canal entre Drone 3 e Drone 5: 128.53 Mbps\n",
      "Capacidade do canal entre Drone 4 e Drone 0: 46.63 Mbps\n",
      "Capacidade do canal entre Drone 4 e Drone 1: 53.19 Mbps\n",
      "Capacidade do canal entre Drone 4 e Drone 2: 37.32 Mbps\n",
      "Capacidade do canal entre Drone 4 e Drone 3: 222.59 Mbps\n",
      "Capacidade do canal entre Drone 4 e Drone 5: 126.88 Mbps\n",
      "Capacidade do canal entre Drone 5 e Drone 0: 11.63 Mbps\n",
      "Capacidade do canal entre Drone 5 e Drone 1: 15.30 Mbps\n",
      "Capacidade do canal entre Drone 5 e Drone 2: 23.19 Mbps\n",
      "Capacidade do canal entre Drone 5 e Drone 3: 16.15 Mbps\n",
      "Capacidade do canal entre Drone 5 e Drone 4: 51.55 Mbps\n",
      "O bottleneck da rota é: 11.63 Mbps\n",
      "{(0, 1): 365.2885747192662, (0, 2): 161.25441353487463, (0, 3): 63.86726503655822, (0, 4): 71.05942387026451, (0, 5): 121.94342184095582, (1, 0): 12768.297096942297, (1, 2): 38.268092586544974, (1, 3): 117.54275959605279, (1, 4): 40.40789146095092, (1, 5): 42.76507880028995, (2, 0): 194.03736269091098, (2, 1): 86.63979639717327, (2, 3): 71.65469668541103, (2, 4): 80.91542861609535, (2, 5): 211.8516504974213, (3, 0): 56.91939402889749, (3, 1): 167.21925976876926, (3, 2): 43.02307990113476, (3, 4): 251.13114475217577, (3, 5): 128.5260308487228, (4, 0): 46.62661513272233, (4, 1): 53.19092857070293, (4, 2): 37.32378698373013, (4, 3): 222.58559366321765, (4, 5): 126.884017156771, (5, 0): 11.628431007399804, (5, 1): 15.303650630075461, (5, 2): 23.19168817216255, (5, 3): 16.15287660019391, (5, 4): 51.54829545451243}\n"
     ]
    }
   ],
   "source": [
    "ganho_maximo_antena_dBi=30\n",
    "potencia_jammer_dBm =30\n",
    "ganho_transmissão_jammer=0\n",
    "HPBW=60\n",
    "\n",
    "def calcular_angulo(pos_drone, orientacao_drone, pos_jammer):\n",
    "    \"\"\"\n",
    "    Calcula o ângulo entre a direção do jammer e a orientação da antena do drone.\n",
    "\n",
    "    :param pos_drone: Posição do drone (x, y).\n",
    "    :param orientacao_drone: Orientação do drone em graus (0-360).\n",
    "    :param pos_jammer: Posição do jammer (x, y).\n",
    "    :return: Ângulo em graus.\n",
    "    \"\"\"\n",
    "    vetor_drone = np.array([np.cos(np.radians(orientacao_drone)), np.sin(np.radians(orientacao_drone))])\n",
    "    vetor_jammer = np.array(pos_jammer) - np.array(pos_drone)\n",
    "    vetor_jammer_normalizado = vetor_jammer / np.linalg.norm(vetor_jammer)\n",
    "    \n",
    "    dot_product = np.dot(vetor_drone, vetor_jammer_normalizado)\n",
    "    angle = np.arccos(dot_product)\n",
    "    \n",
    "    return np.degrees(angle)\n",
    "\n",
    "\n",
    "\n",
    "def calcular_Grx_dBi(angulo, HPBW, max_gain_dBi):\n",
    "\n",
    "    # Normalize angle to range [0, 360)\n",
    "    angulo = angulo % 360\n",
    "\n",
    "    # Calculate the absolute difference from the nearest main lobe direction (0 or 360)\n",
    "    angulo_dif = min(angulo, 360 - angulo)\n",
    "\n",
    "    # Within the main lobe\n",
    "    if 0 < angulo_dif <= 10:\n",
    "        return max_gain_dBi\n",
    "    \n",
    "    elif 10 < angulo_dif <= 20:\n",
    "        return max_gain_dBi*0.9\n",
    "    \n",
    "    elif 20 < angulo_dif <= 90:\n",
    "        # Calculate logarithmic decay\n",
    "        decaimento = 10 * np.log10((angulo_dif - 20) / (90 - 20) + 1)\n",
    "        return max_gain_dBi - decaimento\n",
    "    \n",
    "    elif 90 < angulo_dif <= 270:\n",
    "        return 0  # -∞ dB represents zero gain\n",
    "    # From 270 back to HPBW/2, the gain remains at zero\n",
    "    else:\n",
    "        return 0  # -∞ dB represents zero gain\n",
    "\n",
    "def calcular_capacidade_canal(Prx_dBm, B_Hz, N_dBm):\n",
    "    \"\"\"\n",
    "    Calcula a capacidade do canal usando o teorema de Shannon-Hartley.\n",
    "\n",
    "    :param Prx_dBm: Potência do sinal recebido em dBm.\n",
    "    :param B_Hz: Largura de banda do canal em Hertz.\n",
    "    :param N_dBm: Potência do ruído em dBm.\n",
    "    :return: Capacidade do canal em bits por segundo.\n",
    "    \"\"\"\n",
    "    k = 1.380649e-23\n",
    "    # Temperatura padrão em kelvins (290K é comum para cálculos de RF)\n",
    "    T = 290\n",
    "    \n",
    "    if N_dBm == 0:\n",
    "        # Calcula a densidade espectral de ruído (N_0)\n",
    "        N0_W_Hz = k * T\n",
    "        # Calcula a potência do ruído térmico em watts\n",
    "        N_W = N0_W_Hz * B_Hz\n",
    "        # Converte a potência do ruído térmico para dBm\n",
    "        N_dBm = 10 * np.log10(N_W / 0.001)\n",
    "    # Convertendo potências de dBm para Watts\n",
    "    Prx_W = 10**((Prx_dBm - 30) / 10)\n",
    "    N_W = 10**((N_dBm - 30) / 10)\n",
    "\n",
    "    # Calculando a razão sinal-ruído (SNR)\n",
    "    SNR = Prx_W / N_W\n",
    "\n",
    "    # Calculando a capacidade do canal \n",
    "    C_bps = B_Hz * np.log2(1 + SNR)\n",
    "    return C_bps\n",
    "\n",
    "\n",
    "\n",
    "def calcular_potencia_ruido_jammer(angulo, potencia_jammer_dBm, HPBW, ganho_maximo_antena_dBi,d):\n",
    "    c = 3e8  # Velocidade da luz em m/s\n",
    "    lambda_m = c / f  # Comprimento de onda\n",
    "    L = (4 * np.pi * d / lambda_m)**2\n",
    "    Ptx_dBm=potencia_jammer_dBm\n",
    "    Gtx_dBi=ganho_transmissão_jammer\n",
    "    Grx_dBi=calcular_Grx_dBi(angulo,HPBW,ganho_maximo_antena_dBi)\n",
    "    N_dBm = Ptx_dBm + Gtx_dBi + Grx_dBi - 10 * np.log10(L)\n",
    "    \n",
    "    return N_dBm\n",
    "\n",
    "def calcular_angulo_relativo(pos_drone, pos_vizinho, pos_jammer):\n",
    "    \"\"\"\n",
    "    Calcula o ângulo do jammer em relação à direção do drone para o vizinho, que é a referência de 0º.\n",
    "    \"\"\"\n",
    "    vetor_drone_vizinho = np.array(pos_vizinho) - np.array(pos_drone)\n",
    "    vetor_drone_jammer = np.array(pos_jammer) - np.array(pos_drone)\n",
    "\n",
    "    # Normaliza os vetores\n",
    "    vetor_drone_vizinho = vetor_drone_vizinho / np.linalg.norm(vetor_drone_vizinho)\n",
    "    vetor_drone_jammer = vetor_drone_jammer / np.linalg.norm(vetor_drone_jammer)\n",
    "\n",
    "    # Calcula o cosseno do ângulo entre eles\n",
    "    dot_product = np.dot(vetor_drone_vizinho, vetor_drone_jammer)\n",
    "    \n",
    "    # Evita valores fora do domínio da função arccos devido a erros de precisão numérica\n",
    "    dot_product = np.clip(dot_product, -1.0, 1.0)\n",
    "    \n",
    "    angulo = np.arccos(dot_product)\n",
    "    \n",
    "    # Converte em graus e determina se o ângulo é positivo ou negativo com base no produto vetorial\n",
    "    angulo = np.degrees(angulo) * np.sign(np.cross(vetor_drone_vizinho, vetor_drone_jammer))\n",
    "    # Normaliza o ângulo para estar entre 0 e 360\n",
    "    angulo = angulo % 360\n",
    "    \n",
    "    return angulo\n",
    "\n",
    "def calcular_capacidades_canais(prx_resultados, posicoes):\n",
    "    # Armazena as capacidades de canal para cada link na rota\n",
    "    capacidades = []\n",
    "\n",
    "    for drone, seus_vizinhos in vizinhos.items():\n",
    "        posicao_drone = posicoes[drone]\n",
    "        for vizinho in seus_vizinhos:\n",
    "            posicao_vizinho = posicoes[vizinho]\n",
    "            chave_prx = f'Drone {drone} para Vizinho {vizinho}'\n",
    "            \n",
    "            if chave_prx in prx_resultados:\n",
    "                Prx_dBm = prx_resultados[chave_prx]\n",
    "                \n",
    "                # Calcula o ângulo do jammer em relação à linha drone-vizinho\n",
    "                angulo_relativo = calcular_angulo_relativo(posicao_drone, posicao_vizinho, posicao_jammer)\n",
    "                # print (angulo_relativo)\n",
    "                \n",
    "                # print(drone,vizinho,angulo_relativo)\n",
    "                \n",
    "                # Ajusta o ângulo para a convenção de ângulo da antena\n",
    "                if angulo_relativo < 0:\n",
    "                    angulo_relativo += 360\n",
    "                # print(angulo_relativo)\n",
    "                \n",
    "                \n",
    "                d=distancia(posicoes[drone], posicao_jammer)\n",
    "                # print('Distancia ao jammer do drone',drone,'ao jammer:',d)\n",
    "                # Calcula o ruído com base no ganho da antena\n",
    "                N_dBm = calcular_potencia_ruido_jammer(angulo_relativo, potencia_jammer_dBm, HPBW, ganho_maximo_antena_dBi,d)\n",
    "                # print(Prx_dBm,N_dBm)\n",
    "                # Calcular a capacidade do canal\n",
    "                capacidade_bps = calcular_capacidade_canal(Prx_dBm, B_Hz, N_dBm)\n",
    "                capacidade_bps /= 1e6  # Convertendo para Mbps\n",
    "                capacidades.append((drone, vizinho, capacidade_bps))\n",
    "\n",
    "    return capacidades\n",
    "\n",
    "\n",
    "\n",
    "capacidades = calcular_capacidades_canais(prx_resultados, posicoes)\n",
    "\n",
    "bottleneck_bps = float('inf')\n",
    "\n",
    "# Identificar a capacidade mais baixa ao longo da rota\n",
    "for transmissor, receptor, capacidade_bps in capacidades:\n",
    "    print(f\"Capacidade do canal entre Drone {transmissor} e Drone {receptor}: {capacidade_bps:.2f} Mbps\")\n",
    "    if capacidade_bps < bottleneck_bps:\n",
    "        bottleneck_bps = capacidade_bps\n",
    "\n",
    "# Verifica se um bottleneck foi encontrado\n",
    "if bottleneck_bps < float('inf'):\n",
    "    print(f\"O bottleneck da rota é: {bottleneck_bps:.2f} Mbps\")\n",
    "else:\n",
    "    print(\"Não foi possível determinar o bottleneck.\")\n",
    "\n",
    "\n",
    "capacidade_dict = {(transmissor, receptor): capacidade_bps for transmissor, receptor, capacidade_bps in capacidades}\n",
    "\n",
    "print(capacidade_dict)"
   ]
  },
  {
   "cell_type": "markdown",
   "metadata": {},
   "source": [
    "VIZUALIZAR O ENXAME"
   ]
  },
  {
   "cell_type": "code",
   "execution_count": 356,
   "metadata": {},
   "outputs": [
    {
     "data": {
      "application/vnd.plotly.v1+json": {
       "config": {
        "plotlyServerURL": "https://plot.ly"
       },
       "data": [
        {
         "marker": {
          "color": "blue",
          "size": 10
         },
         "mode": "markers+text",
         "showlegend": false,
         "text": "0",
         "textposition": "bottom center",
         "type": "scatter",
         "x": [
          16
         ],
         "y": [
          30
         ]
        },
        {
         "marker": {
          "color": "orange",
          "size": 10
         },
         "mode": "markers+text",
         "showlegend": false,
         "text": "1",
         "textposition": "bottom center",
         "type": "scatter",
         "x": [
          18
         ],
         "y": [
          48
         ]
        },
        {
         "marker": {
          "color": "blue",
          "size": 10
         },
         "mode": "markers+text",
         "showlegend": false,
         "text": "2",
         "textposition": "bottom center",
         "type": "scatter",
         "x": [
          44
         ],
         "y": [
          15
         ]
        },
        {
         "marker": {
          "color": "blue",
          "size": 10
         },
         "mode": "markers+text",
         "showlegend": false,
         "text": "3",
         "textposition": "bottom center",
         "type": "scatter",
         "x": [
          23
         ],
         "y": [
          73
         ]
        },
        {
         "marker": {
          "color": "orange",
          "size": 10
         },
         "mode": "markers+text",
         "showlegend": false,
         "text": "4",
         "textposition": "bottom center",
         "type": "scatter",
         "x": [
          45
         ],
         "y": [
          73
         ]
        },
        {
         "marker": {
          "color": "orange",
          "size": 10
         },
         "mode": "markers+text",
         "showlegend": false,
         "text": "5",
         "textposition": "bottom center",
         "type": "scatter",
         "x": [
          50
         ],
         "y": [
          50
         ]
        },
        {
         "marker": {
          "color": "red",
          "size": 12
         },
         "mode": "markers",
         "name": "Jammer",
         "type": "scatter",
         "x": [
          38
         ],
         "y": [
          50
         ]
        },
        {
         "marker": {
          "color": "blue",
          "size": 10
         },
         "mode": "markers",
         "name": "Nó não afetado",
         "type": "scatter",
         "x": [
          null
         ],
         "y": [
          null
         ]
        },
        {
         "marker": {
          "color": "orange",
          "size": 10
         },
         "mode": "markers",
         "name": "Nó afetado",
         "type": "scatter",
         "x": [
          null
         ],
         "y": [
          null
         ]
        }
       ],
       "layout": {
        "legend": {
         "itemsizing": "constant",
         "title": {
          "text": "Legenda"
         },
         "traceorder": "normal"
        },
        "template": {
         "data": {
          "bar": [
           {
            "error_x": {
             "color": "#2a3f5f"
            },
            "error_y": {
             "color": "#2a3f5f"
            },
            "marker": {
             "line": {
              "color": "#E5ECF6",
              "width": 0.5
             },
             "pattern": {
              "fillmode": "overlay",
              "size": 10,
              "solidity": 0.2
             }
            },
            "type": "bar"
           }
          ],
          "barpolar": [
           {
            "marker": {
             "line": {
              "color": "#E5ECF6",
              "width": 0.5
             },
             "pattern": {
              "fillmode": "overlay",
              "size": 10,
              "solidity": 0.2
             }
            },
            "type": "barpolar"
           }
          ],
          "carpet": [
           {
            "aaxis": {
             "endlinecolor": "#2a3f5f",
             "gridcolor": "white",
             "linecolor": "white",
             "minorgridcolor": "white",
             "startlinecolor": "#2a3f5f"
            },
            "baxis": {
             "endlinecolor": "#2a3f5f",
             "gridcolor": "white",
             "linecolor": "white",
             "minorgridcolor": "white",
             "startlinecolor": "#2a3f5f"
            },
            "type": "carpet"
           }
          ],
          "choropleth": [
           {
            "colorbar": {
             "outlinewidth": 0,
             "ticks": ""
            },
            "type": "choropleth"
           }
          ],
          "contour": [
           {
            "colorbar": {
             "outlinewidth": 0,
             "ticks": ""
            },
            "colorscale": [
             [
              0,
              "#0d0887"
             ],
             [
              0.1111111111111111,
              "#46039f"
             ],
             [
              0.2222222222222222,
              "#7201a8"
             ],
             [
              0.3333333333333333,
              "#9c179e"
             ],
             [
              0.4444444444444444,
              "#bd3786"
             ],
             [
              0.5555555555555556,
              "#d8576b"
             ],
             [
              0.6666666666666666,
              "#ed7953"
             ],
             [
              0.7777777777777778,
              "#fb9f3a"
             ],
             [
              0.8888888888888888,
              "#fdca26"
             ],
             [
              1,
              "#f0f921"
             ]
            ],
            "type": "contour"
           }
          ],
          "contourcarpet": [
           {
            "colorbar": {
             "outlinewidth": 0,
             "ticks": ""
            },
            "type": "contourcarpet"
           }
          ],
          "heatmap": [
           {
            "colorbar": {
             "outlinewidth": 0,
             "ticks": ""
            },
            "colorscale": [
             [
              0,
              "#0d0887"
             ],
             [
              0.1111111111111111,
              "#46039f"
             ],
             [
              0.2222222222222222,
              "#7201a8"
             ],
             [
              0.3333333333333333,
              "#9c179e"
             ],
             [
              0.4444444444444444,
              "#bd3786"
             ],
             [
              0.5555555555555556,
              "#d8576b"
             ],
             [
              0.6666666666666666,
              "#ed7953"
             ],
             [
              0.7777777777777778,
              "#fb9f3a"
             ],
             [
              0.8888888888888888,
              "#fdca26"
             ],
             [
              1,
              "#f0f921"
             ]
            ],
            "type": "heatmap"
           }
          ],
          "heatmapgl": [
           {
            "colorbar": {
             "outlinewidth": 0,
             "ticks": ""
            },
            "colorscale": [
             [
              0,
              "#0d0887"
             ],
             [
              0.1111111111111111,
              "#46039f"
             ],
             [
              0.2222222222222222,
              "#7201a8"
             ],
             [
              0.3333333333333333,
              "#9c179e"
             ],
             [
              0.4444444444444444,
              "#bd3786"
             ],
             [
              0.5555555555555556,
              "#d8576b"
             ],
             [
              0.6666666666666666,
              "#ed7953"
             ],
             [
              0.7777777777777778,
              "#fb9f3a"
             ],
             [
              0.8888888888888888,
              "#fdca26"
             ],
             [
              1,
              "#f0f921"
             ]
            ],
            "type": "heatmapgl"
           }
          ],
          "histogram": [
           {
            "marker": {
             "pattern": {
              "fillmode": "overlay",
              "size": 10,
              "solidity": 0.2
             }
            },
            "type": "histogram"
           }
          ],
          "histogram2d": [
           {
            "colorbar": {
             "outlinewidth": 0,
             "ticks": ""
            },
            "colorscale": [
             [
              0,
              "#0d0887"
             ],
             [
              0.1111111111111111,
              "#46039f"
             ],
             [
              0.2222222222222222,
              "#7201a8"
             ],
             [
              0.3333333333333333,
              "#9c179e"
             ],
             [
              0.4444444444444444,
              "#bd3786"
             ],
             [
              0.5555555555555556,
              "#d8576b"
             ],
             [
              0.6666666666666666,
              "#ed7953"
             ],
             [
              0.7777777777777778,
              "#fb9f3a"
             ],
             [
              0.8888888888888888,
              "#fdca26"
             ],
             [
              1,
              "#f0f921"
             ]
            ],
            "type": "histogram2d"
           }
          ],
          "histogram2dcontour": [
           {
            "colorbar": {
             "outlinewidth": 0,
             "ticks": ""
            },
            "colorscale": [
             [
              0,
              "#0d0887"
             ],
             [
              0.1111111111111111,
              "#46039f"
             ],
             [
              0.2222222222222222,
              "#7201a8"
             ],
             [
              0.3333333333333333,
              "#9c179e"
             ],
             [
              0.4444444444444444,
              "#bd3786"
             ],
             [
              0.5555555555555556,
              "#d8576b"
             ],
             [
              0.6666666666666666,
              "#ed7953"
             ],
             [
              0.7777777777777778,
              "#fb9f3a"
             ],
             [
              0.8888888888888888,
              "#fdca26"
             ],
             [
              1,
              "#f0f921"
             ]
            ],
            "type": "histogram2dcontour"
           }
          ],
          "mesh3d": [
           {
            "colorbar": {
             "outlinewidth": 0,
             "ticks": ""
            },
            "type": "mesh3d"
           }
          ],
          "parcoords": [
           {
            "line": {
             "colorbar": {
              "outlinewidth": 0,
              "ticks": ""
             }
            },
            "type": "parcoords"
           }
          ],
          "pie": [
           {
            "automargin": true,
            "type": "pie"
           }
          ],
          "scatter": [
           {
            "fillpattern": {
             "fillmode": "overlay",
             "size": 10,
             "solidity": 0.2
            },
            "type": "scatter"
           }
          ],
          "scatter3d": [
           {
            "line": {
             "colorbar": {
              "outlinewidth": 0,
              "ticks": ""
             }
            },
            "marker": {
             "colorbar": {
              "outlinewidth": 0,
              "ticks": ""
             }
            },
            "type": "scatter3d"
           }
          ],
          "scattercarpet": [
           {
            "marker": {
             "colorbar": {
              "outlinewidth": 0,
              "ticks": ""
             }
            },
            "type": "scattercarpet"
           }
          ],
          "scattergeo": [
           {
            "marker": {
             "colorbar": {
              "outlinewidth": 0,
              "ticks": ""
             }
            },
            "type": "scattergeo"
           }
          ],
          "scattergl": [
           {
            "marker": {
             "colorbar": {
              "outlinewidth": 0,
              "ticks": ""
             }
            },
            "type": "scattergl"
           }
          ],
          "scattermapbox": [
           {
            "marker": {
             "colorbar": {
              "outlinewidth": 0,
              "ticks": ""
             }
            },
            "type": "scattermapbox"
           }
          ],
          "scatterpolar": [
           {
            "marker": {
             "colorbar": {
              "outlinewidth": 0,
              "ticks": ""
             }
            },
            "type": "scatterpolar"
           }
          ],
          "scatterpolargl": [
           {
            "marker": {
             "colorbar": {
              "outlinewidth": 0,
              "ticks": ""
             }
            },
            "type": "scatterpolargl"
           }
          ],
          "scatterternary": [
           {
            "marker": {
             "colorbar": {
              "outlinewidth": 0,
              "ticks": ""
             }
            },
            "type": "scatterternary"
           }
          ],
          "surface": [
           {
            "colorbar": {
             "outlinewidth": 0,
             "ticks": ""
            },
            "colorscale": [
             [
              0,
              "#0d0887"
             ],
             [
              0.1111111111111111,
              "#46039f"
             ],
             [
              0.2222222222222222,
              "#7201a8"
             ],
             [
              0.3333333333333333,
              "#9c179e"
             ],
             [
              0.4444444444444444,
              "#bd3786"
             ],
             [
              0.5555555555555556,
              "#d8576b"
             ],
             [
              0.6666666666666666,
              "#ed7953"
             ],
             [
              0.7777777777777778,
              "#fb9f3a"
             ],
             [
              0.8888888888888888,
              "#fdca26"
             ],
             [
              1,
              "#f0f921"
             ]
            ],
            "type": "surface"
           }
          ],
          "table": [
           {
            "cells": {
             "fill": {
              "color": "#EBF0F8"
             },
             "line": {
              "color": "white"
             }
            },
            "header": {
             "fill": {
              "color": "#C8D4E3"
             },
             "line": {
              "color": "white"
             }
            },
            "type": "table"
           }
          ]
         },
         "layout": {
          "annotationdefaults": {
           "arrowcolor": "#2a3f5f",
           "arrowhead": 0,
           "arrowwidth": 1
          },
          "autotypenumbers": "strict",
          "coloraxis": {
           "colorbar": {
            "outlinewidth": 0,
            "ticks": ""
           }
          },
          "colorscale": {
           "diverging": [
            [
             0,
             "#8e0152"
            ],
            [
             0.1,
             "#c51b7d"
            ],
            [
             0.2,
             "#de77ae"
            ],
            [
             0.3,
             "#f1b6da"
            ],
            [
             0.4,
             "#fde0ef"
            ],
            [
             0.5,
             "#f7f7f7"
            ],
            [
             0.6,
             "#e6f5d0"
            ],
            [
             0.7,
             "#b8e186"
            ],
            [
             0.8,
             "#7fbc41"
            ],
            [
             0.9,
             "#4d9221"
            ],
            [
             1,
             "#276419"
            ]
           ],
           "sequential": [
            [
             0,
             "#0d0887"
            ],
            [
             0.1111111111111111,
             "#46039f"
            ],
            [
             0.2222222222222222,
             "#7201a8"
            ],
            [
             0.3333333333333333,
             "#9c179e"
            ],
            [
             0.4444444444444444,
             "#bd3786"
            ],
            [
             0.5555555555555556,
             "#d8576b"
            ],
            [
             0.6666666666666666,
             "#ed7953"
            ],
            [
             0.7777777777777778,
             "#fb9f3a"
            ],
            [
             0.8888888888888888,
             "#fdca26"
            ],
            [
             1,
             "#f0f921"
            ]
           ],
           "sequentialminus": [
            [
             0,
             "#0d0887"
            ],
            [
             0.1111111111111111,
             "#46039f"
            ],
            [
             0.2222222222222222,
             "#7201a8"
            ],
            [
             0.3333333333333333,
             "#9c179e"
            ],
            [
             0.4444444444444444,
             "#bd3786"
            ],
            [
             0.5555555555555556,
             "#d8576b"
            ],
            [
             0.6666666666666666,
             "#ed7953"
            ],
            [
             0.7777777777777778,
             "#fb9f3a"
            ],
            [
             0.8888888888888888,
             "#fdca26"
            ],
            [
             1,
             "#f0f921"
            ]
           ]
          },
          "colorway": [
           "#636efa",
           "#EF553B",
           "#00cc96",
           "#ab63fa",
           "#FFA15A",
           "#19d3f3",
           "#FF6692",
           "#B6E880",
           "#FF97FF",
           "#FECB52"
          ],
          "font": {
           "color": "#2a3f5f"
          },
          "geo": {
           "bgcolor": "white",
           "lakecolor": "white",
           "landcolor": "#E5ECF6",
           "showlakes": true,
           "showland": true,
           "subunitcolor": "white"
          },
          "hoverlabel": {
           "align": "left"
          },
          "hovermode": "closest",
          "mapbox": {
           "style": "light"
          },
          "paper_bgcolor": "white",
          "plot_bgcolor": "#E5ECF6",
          "polar": {
           "angularaxis": {
            "gridcolor": "white",
            "linecolor": "white",
            "ticks": ""
           },
           "bgcolor": "#E5ECF6",
           "radialaxis": {
            "gridcolor": "white",
            "linecolor": "white",
            "ticks": ""
           }
          },
          "scene": {
           "xaxis": {
            "backgroundcolor": "#E5ECF6",
            "gridcolor": "white",
            "gridwidth": 2,
            "linecolor": "white",
            "showbackground": true,
            "ticks": "",
            "zerolinecolor": "white"
           },
           "yaxis": {
            "backgroundcolor": "#E5ECF6",
            "gridcolor": "white",
            "gridwidth": 2,
            "linecolor": "white",
            "showbackground": true,
            "ticks": "",
            "zerolinecolor": "white"
           },
           "zaxis": {
            "backgroundcolor": "#E5ECF6",
            "gridcolor": "white",
            "gridwidth": 2,
            "linecolor": "white",
            "showbackground": true,
            "ticks": "",
            "zerolinecolor": "white"
           }
          },
          "shapedefaults": {
           "line": {
            "color": "#2a3f5f"
           }
          },
          "ternary": {
           "aaxis": {
            "gridcolor": "white",
            "linecolor": "white",
            "ticks": ""
           },
           "baxis": {
            "gridcolor": "white",
            "linecolor": "white",
            "ticks": ""
           },
           "bgcolor": "#E5ECF6",
           "caxis": {
            "gridcolor": "white",
            "linecolor": "white",
            "ticks": ""
           }
          },
          "title": {
           "x": 0.05
          },
          "xaxis": {
           "automargin": true,
           "gridcolor": "white",
           "linecolor": "white",
           "ticks": "",
           "title": {
            "standoff": 15
           },
           "zerolinecolor": "white",
           "zerolinewidth": 2
          },
          "yaxis": {
           "automargin": true,
           "gridcolor": "white",
           "linecolor": "white",
           "ticks": "",
           "title": {
            "standoff": 15
           },
           "zerolinecolor": "white",
           "zerolinewidth": 2
          }
         }
        },
        "title": {
         "text": "Simulação de Modelo de Comunicação Wireless entre Drones"
        },
        "xaxis": {
         "autorange": false,
         "range": [
          0,
          100
         ]
        },
        "yaxis": {
         "autorange": false,
         "range": [
          0,
          80
         ]
        }
       }
      }
     },
     "metadata": {},
     "output_type": "display_data"
    }
   ],
   "source": [
    "fig = go.Figure()\n",
    "\n",
    "# Adiciona os drones\n",
    "for i in range(num_drones):\n",
    "    fig.add_trace(go.Scatter(\n",
    "        x=[posicoes[i, 0]],\n",
    "        y=[posicoes[i, 1]],\n",
    "        mode='markers+text',\n",
    "        marker=dict(size=10, color='orange' if i in afetados_pelo_jammer else 'blue'),\n",
    "        text=str(i),\n",
    "        textposition=\"bottom center\",\n",
    "        showlegend=False  # Oculta esses rastros da legenda\n",
    "    ))\n",
    "\n",
    "# Adiciona o jammer\n",
    "fig.add_trace(go.Scatter(\n",
    "    x=[posicao_jammer[0]],\n",
    "    y=[posicao_jammer[1]],\n",
    "    mode='markers',\n",
    "    marker=dict(size=12, color='red'),\n",
    "    name='Jammer'\n",
    "))\n",
    "\n",
    "# Adiciona rastros para a legenda\n",
    "fig.add_trace(go.Scatter(x=[None], y=[None], mode='markers', marker=dict(size=10, color='blue'), name=\"Nó não afetado\"))\n",
    "fig.add_trace(go.Scatter(x=[None], y=[None], mode='markers', marker=dict(size=10, color='orange'), name=\"Nó afetado\"))\n",
    "# O Jammer já está adicionado com a legenda correta\n",
    "\n",
    "# Configurações do gráfico\n",
    "fig.update_layout(\n",
    "    title=\"Simulação de Modelo de Comunicação Wireless entre Drones\",\n",
    "    xaxis=dict(range=[0, limite_x], autorange=False),\n",
    "    yaxis=dict(range=[0, limite_y], autorange=False),\n",
    "    legend_title_text='Legenda',\n",
    "    legend=dict(traceorder='normal', itemsizing='constant')\n",
    ")\n",
    "\n",
    "fig.show()"
   ]
  },
  {
   "cell_type": "markdown",
   "metadata": {},
   "source": [
    "OPEN AI GYM"
   ]
  },
  {
   "cell_type": "code",
   "execution_count": 360,
   "metadata": {},
   "outputs": [],
   "source": [
    "import seaborn as sns\n",
    "import matplotlib.pyplot as plt\n",
    "\n",
    "class UAVCommunicationEnv(gym.Env):\n",
    "    metadata = {'render.modes': ['human']}\n",
    "\n",
    "    def __init__(self, num_uavs=num_drones, area_size=(100, 100)):\n",
    "        super(UAVCommunicationEnv, self).__init__()\n",
    "        self.num_uavs = num_uavs\n",
    "        self.area_size = area_size\n",
    "        self.posicoes = posicoes\n",
    "        self.posicao_jammer = posicao_jammer\n",
    "        self.afetados_pelo_jammer=afetados_pelo_jammer\n",
    "        self.prx_resultados=prx_resultados\n",
    "        self.B_Hz = B_Hz  # Largura de banda\n",
    "        self.capacidade_bps = capacidade_dict\n",
    "        \n",
    "\n",
    "        self.action_space = spaces.MultiDiscrete([num_uavs] * num_uavs)\n",
    "        \n",
    "        # O estado agora inclui somente as direções de comunicação (índices dos UAVs-alvo)\n",
    "        self.observation_space = spaces.Discrete(num_uavs ** num_uavs)\n",
    "        \n",
    "        self.ultima_acao = np.zeros(num_uavs, dtype=int)  # Inicializa com todos os UAVs não comunicando\n",
    "\n",
    "    def step(self, action):\n",
    "        # Ajuste de ação para garantir que nenhum drone esteja se comunicando consigo mesmo\n",
    "        for i in range(self.num_uavs):\n",
    "            while action[i] == i:\n",
    "                action[i] = np.random.choice([x for x in range(self.num_uavs) if x != i])\n",
    "\n",
    "        self.ultima_acao = action\n",
    "\n",
    "        # Inicializar variáveis para armazenar a capacidade média e a capacidade mínima\n",
    "        capacidade_media = 0\n",
    "        capacidade_min = float('inf')  # Inicia com um valor muito alto para encontrar o mínimo\n",
    "\n",
    "        # Lista para coletar todas as capacidades dos links definidos pela ultima_acao\n",
    "        capacidades_selecionadas = []\n",
    "\n",
    "        for i, destino in enumerate(action):\n",
    "            # A chave é uma tupla de (transmissor, receptor)\n",
    "            chave = (i, destino)\n",
    "            \n",
    "            # Verifica se a chave existe no dicionário de capacidades\n",
    "            if chave in self.capacidade_bps:\n",
    "                capacidade = self.capacidade_bps[chave]\n",
    "                capacidades_selecionadas.append(capacidade)\n",
    "            else:\n",
    "                # Trata casos onde a chave não existe\n",
    "                capacidades_selecionadas.append(0)\n",
    "\n",
    "        # Calcular a capacidade média e mínima se houver capacidades válidas na lista\n",
    "        if capacidades_selecionadas:\n",
    "            capacidade_media = np.mean(capacidades_selecionadas)\n",
    "            capacidade_min = np.min(capacidades_selecionadas)\n",
    "\n",
    "        # Calcular a recompensa baseada na capacidade média e mínima dos links selecionados\n",
    "        recompensa = 0.5 * capacidade_media + 0.5 * capacidade_min\n",
    "\n",
    "        done = False\n",
    "        info = {\n",
    "            'Recompensa:': recompensa,\n",
    "            'capacidade_media:': capacidade_media,\n",
    "            'capacidade_min:': capacidade_min,\n",
    "            'capacidades_selecionadas:': capacidades_selecionadas  # Opcional: para debug ou informação adicional\n",
    "        }\n",
    "\n",
    "        return self.ultima_acao, recompensa, done, info\n",
    "\n",
    "    \n",
    "    \n",
    "    def render(self, mode='human'):\n",
    "\n",
    "        sns.set(style=\"whitegrid\")\n",
    "        fig, ax = plt.subplots(figsize=(9, 4))\n",
    "\n",
    "        # Desenha os drones no gráfico\n",
    "        for i, pos in enumerate(self.posicoes):\n",
    "            color = 'blue'  # Cor padrão para todos os drones\n",
    "            ax.scatter(pos[0], pos[1], color=color, s=100, label='Drone' if i == 0 else \"\")\n",
    "            ax.text(pos[0], pos[1] - 2, f'{i}', horizontalalignment='center', color='white', fontweight='bold')\n",
    "\n",
    "        # Preparando para coletar capacidades para a legenda\n",
    "        capacidades_texto = []\n",
    "\n",
    "        # Desenha as linhas de comunicação e setas\n",
    "        for i, destino in enumerate(self.ultima_acao):\n",
    "            if destino != i:  # Evita que um drone se comunique consigo mesmo\n",
    "                pos_inicio = self.posicoes[i]\n",
    "                pos_final = self.posicoes[destino]\n",
    "                ax.plot([pos_inicio[0], pos_final[0]], [pos_inicio[1], pos_final[1]], 'b--', alpha=0.5)\n",
    "\n",
    "                # Calcula a direção para a seta\n",
    "                direcao = pos_final - pos_inicio\n",
    "                direcao_norm = direcao / np.linalg.norm(direcao)\n",
    "                # Define o comprimento da seta\n",
    "                comprimento_seta = 5\n",
    "                ponto_final_seta = pos_inicio + direcao_norm * comprimento_seta\n",
    "\n",
    "                # Desenha a seta\n",
    "                ax.arrow(pos_inicio[0], pos_inicio[1], ponto_final_seta[0] - pos_inicio[0], ponto_final_seta[1] - pos_inicio[1], \n",
    "                        head_width=2, head_length=2, fc='b', ec='b')\n",
    "\n",
    "                # Coleta capacidades para a legenda\n",
    "                capacidade = self.capacidade_bps.get((i, destino), 0)  # Assume 0 se não definido\n",
    "                capacidades_texto.append(f'Drone {i} para {destino}: {capacidade:.2f} Mbps')\n",
    "\n",
    "        # Desenha o jammer\n",
    "        ax.scatter(self.posicao_jammer[0], self.posicao_jammer[1], color='red', s=100, marker='o', label='Jammer')\n",
    "\n",
    "        # Adiciona capacidades na legenda\n",
    "        if capacidades_texto:\n",
    "            for texto in capacidades_texto:\n",
    "                ax.plot([], [], ' ', label=texto)\n",
    "\n",
    "        # Configurações finais do gráfico\n",
    "        ax.set_xlabel('X')\n",
    "        ax.set_ylabel('Y')\n",
    "        ax.set_xlim(0, self.area_size[0])\n",
    "        ax.set_ylim(0, self.area_size[1])\n",
    "        plt.title('Comunicação UAV com Jammer')\n",
    "        ax.legend(loc='center left', bbox_to_anchor=(1, 0.5), fontsize='small')\n",
    "        plt.show()\n",
    "\n",
    "\n",
    "\n",
    "\n",
    "    \n"
   ]
  },
  {
   "cell_type": "code",
   "execution_count": 361,
   "metadata": {},
   "outputs": [
    {
     "data": {
      "image/png": "[encoded data removed]",
      "text/plain": [
       "<Figure size 900x400 with 1 Axes>"
      ]
     },
     "metadata": {},
     "output_type": "display_data"
    },
    {
     "name": "stdout",
     "output_type": "stream",
     "text": [
      "[2 5 4 1 1 1]\n",
      "{'Recompensa:': 51.039221975105036, 'capacidade_media:': 86.7747933201346, 'capacidade_min:': 15.303650630075461, 'capacidades_selecionadas:': [161.25441353487463, 42.76507880028995, 80.91542861609535, 167.21925976876926, 53.19092857070293, 15.303650630075461]}\n"
     ]
    }
   ],
   "source": [
    "env = UAVCommunicationEnv()\n",
    "\n",
    "state = env.reset()\n",
    "done = False\n",
    "while not done:\n",
    "    action = env.action_space.sample()  # Exemplo: escolha uma ação aleatoriamente\n",
    "    state, reward, done, info = env.step(action)\n",
    "    env.render()  # Chame render a cada passo para visualizar\n",
    "    \n",
    "    print(state)\n",
    "    print(info)\n",
    "    done=True\n"
   ]
  },
  {
   "cell_type": "markdown",
   "metadata": {},
   "source": [
    "Algoritmo Genético"
   ]
  },
  {
   "cell_type": "code",
   "execution_count": 362,
   "metadata": {},
   "outputs": [
    {
     "name": "stdout",
     "output_type": "stream",
     "text": [
      "Generation 0: Best Fitness = 1157.1495251060894\n",
      "Generation 1: Best Fitness = 1181.6660107296639\n",
      "Generation 2: Best Fitness = 1181.6660107296639\n",
      "Generation 3: Best Fitness = 1181.6660107296639\n",
      "Generation 4: Best Fitness = 1181.6660107296639\n",
      "Generation 5: Best Fitness = 1181.6660107296639\n",
      "Generation 6: Best Fitness = 1181.6660107296639\n",
      "Generation 7: Best Fitness = 1181.6660107296639\n",
      "Generation 8: Best Fitness = 1181.6660107296639\n",
      "Generation 9: Best Fitness = 1181.6660107296639\n",
      "Generation 10: Best Fitness = 1181.6660107296639\n",
      "Generation 11: Best Fitness = 1181.6660107296639\n",
      "Generation 12: Best Fitness = 1181.6660107296639\n",
      "Generation 13: Best Fitness = 1181.6660107296639\n",
      "Generation 14: Best Fitness = 1181.6660107296639\n",
      "Generation 15: Best Fitness = 1181.6660107296639\n",
      "Generation 16: Best Fitness = 1181.6660107296639\n",
      "Generation 17: Best Fitness = 1181.6660107296639\n",
      "Generation 18: Best Fitness = 1181.6660107296639\n",
      "Generation 19: Best Fitness = 1181.6660107296639\n",
      "Generation 20: Best Fitness = 1181.6660107296639\n",
      "Generation 21: Best Fitness = 1181.6660107296639\n",
      "Generation 22: Best Fitness = 1181.6660107296639\n",
      "Generation 23: Best Fitness = 1181.6660107296639\n",
      "Generation 24: Best Fitness = 1181.6660107296639\n",
      "Generation 25: Best Fitness = 1181.6660107296639\n",
      "Generation 26: Best Fitness = 1181.6660107296639\n",
      "Generation 27: Best Fitness = 1181.6660107296639\n",
      "Generation 28: Best Fitness = 1181.6660107296639\n",
      "Generation 29: Best Fitness = 1181.6660107296639\n",
      "Generation 30: Best Fitness = 1181.6660107296639\n",
      "Generation 31: Best Fitness = 1181.6660107296639\n",
      "Generation 32: Best Fitness = 1181.6660107296639\n",
      "Generation 33: Best Fitness = 1181.6660107296639\n",
      "Generation 34: Best Fitness = 1181.6660107296639\n",
      "Generation 35: Best Fitness = 1181.6660107296639\n",
      "Generation 36: Best Fitness = 1181.6660107296639\n",
      "Generation 37: Best Fitness = 1181.6660107296639\n",
      "Generation 38: Best Fitness = 1181.6660107296639\n",
      "Generation 39: Best Fitness = 1181.6660107296639\n",
      "Generation 40: Best Fitness = 1181.6660107296639\n",
      "Generation 41: Best Fitness = 1181.6660107296639\n",
      "Generation 42: Best Fitness = 1181.6660107296639\n",
      "Generation 43: Best Fitness = 1181.6660107296639\n",
      "Generation 44: Best Fitness = 1181.6660107296639\n",
      "Generation 45: Best Fitness = 1181.6660107296639\n",
      "Generation 46: Best Fitness = 1181.6660107296639\n",
      "Generation 47: Best Fitness = 1181.6660107296639\n",
      "Generation 48: Best Fitness = 1181.6660107296639\n",
      "Generation 49: Best Fitness = 1181.6660107296639\n",
      "Generation 50: Best Fitness = 1181.6660107296639\n",
      "Generation 51: Best Fitness = 1181.6660107296639\n",
      "Generation 52: Best Fitness = 1181.6660107296639\n",
      "Generation 53: Best Fitness = 1181.6660107296639\n",
      "Generation 54: Best Fitness = 1181.6660107296639\n",
      "Generation 55: Best Fitness = 1181.6660107296639\n",
      "Generation 56: Best Fitness = 1181.6660107296639\n",
      "Generation 57: Best Fitness = 1181.6660107296639\n",
      "Generation 58: Best Fitness = 1181.6660107296639\n",
      "Generation 59: Best Fitness = 1181.6660107296639\n",
      "Generation 60: Best Fitness = 1181.6660107296639\n",
      "Generation 61: Best Fitness = 1181.6660107296639\n",
      "Generation 62: Best Fitness = 1181.6660107296639\n",
      "Generation 63: Best Fitness = 1181.6660107296639\n",
      "Generation 64: Best Fitness = 1181.6660107296639\n",
      "Generation 65: Best Fitness = 1181.6660107296639\n",
      "Generation 66: Best Fitness = 1181.6660107296639\n",
      "Generation 67: Best Fitness = 1181.6660107296639\n",
      "Generation 68: Best Fitness = 1181.6660107296639\n",
      "Generation 69: Best Fitness = 1181.6660107296639\n",
      "Generation 70: Best Fitness = 1181.6660107296639\n",
      "Generation 71: Best Fitness = 1181.6660107296639\n",
      "Generation 72: Best Fitness = 1181.6660107296639\n",
      "Generation 73: Best Fitness = 1181.6660107296639\n",
      "Generation 74: Best Fitness = 1181.6660107296639\n",
      "Generation 75: Best Fitness = 1181.6660107296639\n",
      "Generation 76: Best Fitness = 1181.6660107296639\n",
      "Generation 77: Best Fitness = 1181.6660107296639\n",
      "Generation 78: Best Fitness = 1181.6660107296639\n",
      "Generation 79: Best Fitness = 1181.6660107296639\n",
      "Generation 80: Best Fitness = 1181.6660107296639\n",
      "Generation 81: Best Fitness = 1181.6660107296639\n",
      "Generation 82: Best Fitness = 1181.6660107296639\n",
      "Generation 83: Best Fitness = 1181.6660107296639\n",
      "Generation 84: Best Fitness = 1181.6660107296639\n",
      "Generation 85: Best Fitness = 1181.6660107296639\n",
      "Generation 86: Best Fitness = 1181.6660107296639\n",
      "Generation 87: Best Fitness = 1181.6660107296639\n",
      "Generation 88: Best Fitness = 1181.6660107296639\n",
      "Generation 89: Best Fitness = 1181.6660107296639\n",
      "Generation 90: Best Fitness = 1181.6660107296639\n",
      "Generation 91: Best Fitness = 1181.6660107296639\n",
      "Generation 92: Best Fitness = 1181.6660107296639\n",
      "Generation 93: Best Fitness = 1181.6660107296639\n",
      "Generation 94: Best Fitness = 1181.6660107296639\n",
      "Generation 95: Best Fitness = 1181.6660107296639\n",
      "Generation 96: Best Fitness = 1181.6660107296639\n",
      "Generation 97: Best Fitness = 1181.6660107296639\n",
      "Generation 98: Best Fitness = 1181.6660107296639\n",
      "Generation 99: Best Fitness = 1181.6660107296639\n"
     ]
    },
    {
     "data": {
      "image/png": "[encoded data removed]",
      "text/plain": [
       "<Figure size 900x400 with 1 Axes>"
      ]
     },
     "metadata": {},
     "output_type": "display_data"
    },
    {
     "name": "stdout",
     "output_type": "stream",
     "text": [
      "Melhor solução: [1, 0, 5, 4, 3, 4]\n",
      "Detalhes da melhor solução: {'Recompensa:': 1181.6660107296639, 'capacidade_media:': 2311.7837260048154, 'capacidade_min:': 51.54829545451243, 'capacidades_selecionadas:': [365.2885747192662, 12768.297096942297, 211.8516504974213, 251.13114475217577, 222.58559366321765, 51.54829545451243]}\n"
     ]
    }
   ],
   "source": [
    "import random\n",
    "\n",
    "\n",
    "class GeneticAlgorithm:\n",
    "    def __init__(self, env, population_size=50, generations=100, mutation_rate=0.1):\n",
    "        self.env = env\n",
    "        self.population_size = population_size\n",
    "        self.generations = generations\n",
    "        self.mutation_rate = mutation_rate\n",
    "        self.population = [self.random_chromosome() for _ in range(population_size)]\n",
    "\n",
    "    def random_chromosome(self):\n",
    "        return [random.randint(0, self.env.action_space.nvec[i] - 1) for i in range(self.env.num_uavs)]\n",
    "\n",
    "    def evaluate_fitness(self, chromosome):\n",
    "        self.env.reset()\n",
    "        self.env.ultima_acao = chromosome\n",
    "        _, reward, _, info = self.env.step(chromosome)\n",
    "        return reward, info\n",
    "\n",
    "    def select(self):\n",
    "        tournament_size = 5\n",
    "        selected = []\n",
    "        fitness_scores = [self.evaluate_fitness(chromosome) for chromosome in self.population]\n",
    "        for _ in range(self.population_size):\n",
    "            contenders = random.sample(list(enumerate(fitness_scores)), tournament_size)\n",
    "            winner_index, _ = max(contenders, key=lambda item: item[1][0])\n",
    "            selected.append(self.population[winner_index])\n",
    "        return selected\n",
    "\n",
    "    def crossover(self, parent1, parent2):\n",
    "        point = random.randint(1, self.env.num_uavs - 1)\n",
    "        return parent1[:point] + parent2[point:], parent2[:point] + parent1[point:]\n",
    "\n",
    "    def mutate(self, chromosome):\n",
    "        for i in range(len(chromosome)):\n",
    "            if random.random() < self.mutation_rate:\n",
    "                chromosome[i] = random.randint(0, self.env.action_space.nvec[i] - 1)\n",
    "        return chromosome\n",
    "\n",
    "    def run(self):\n",
    "        best_info = None\n",
    "        for generation in range(self.generations):\n",
    "            new_population = []\n",
    "            parents = self.select()\n",
    "            while len(new_population) < self.population_size:\n",
    "                parent1, parent2 = random.sample(parents, 2)\n",
    "                child1, child2 = self.crossover(parent1, parent2)\n",
    "                new_population.extend([self.mutate(child1), self.mutate(child2)])\n",
    "            self.population = new_population[:self.population_size]\n",
    "            fitness_scores = [self.evaluate_fitness(chrom) for chrom in self.population]\n",
    "            best_fitness, best_info = max(fitness_scores, key=lambda x: x[0])\n",
    "            print(f\"Generation {generation}: Best Fitness = {best_fitness}\")\n",
    "        best_solution_index = max(range(len(self.population)), key=lambda i: fitness_scores[i][0])\n",
    "        best_solution = self.population[best_solution_index]\n",
    "        return best_solution, best_info\n",
    "\n",
    "# Inicia o ambiente e o algoritmo genético\n",
    "env = UAVCommunicationEnv()\n",
    "ga = GeneticAlgorithm(env)\n",
    "\n",
    "# Executa o algoritmo e obtém a melhor solução e informações\n",
    "best_solution, best_info = ga.run()\n",
    "\n",
    "# Renderiza a melhor solução\n",
    "env.ultima_acao = best_solution\n",
    "env.render()\n",
    "\n",
    "# Imprime informações detalhadas sobre a melhor solução\n",
    "print(\"Melhor solução:\", best_solution)\n",
    "print(\"Detalhes da melhor solução:\", best_info)\n"
   ]
  }
 ],
 "metadata": {
  "kernelspec": {
   "display_name": "base",
   "language": "python",
   "name": "python3"
  },
  "language_info": {
   "codemirror_mode": {
    "name": "ipython",
    "version": 3
   },
   "file_extension": ".py",
   "mimetype": "text/x-python",
   "name": "python",
   "nbconvert_exporter": "python",
   "pygments_lexer": "ipython3",
   "version": "3.11.7"
  }
 },
 "nbformat": 4,
 "nbformat_minor": 2
}
