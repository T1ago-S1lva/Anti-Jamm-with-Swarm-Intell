{
 "cells": [
  {
   "cell_type": "code",
   "execution_count": 1,
   "metadata": {},
   "outputs": [
    {
     "name": "stderr",
     "output_type": "stream",
     "text": [
      "c:\\Users\\tass\\anaconda3\\Lib\\site-packages\\plotly\\express\\imshow_utils.py:24: DeprecationWarning:\n",
      "\n",
      "`np.bool8` is a deprecated alias for `np.bool_`.  (Deprecated NumPy 1.24)\n",
      "\n"
     ]
    }
   ],
   "source": [
    "import gym\n",
    "from gym import Env, spaces\n",
    "\n",
    "import numpy as np\n",
    "import seaborn as sns\n",
    "from plotly.offline import iplot\n",
    "import matplotlib.pyplot as plt\n",
    "import plotly.graph_objects as go\n",
    "import plotly.express as px\n",
    "import pandas as pd"
   ]
  },
  {
   "cell_type": "markdown",
   "metadata": {},
   "source": [
    "Configurar o Enxame\n"
   ]
  },
  {
   "cell_type": "code",
   "execution_count": 2,
   "metadata": {},
   "outputs": [],
   "source": [
    "num_drones = 9\n",
    "limite_y = 80\n",
    "limite_x = 100\n",
    "\n",
    "alcance_comunicacao_jammer = 25\n",
    "alcance_comunicacao_nos=500\n",
    "B_Hz = 2.4e9  # Largura de banda\n",
    "\n",
    "# Posições estáticas dos drones\n",
    "posicoes = np.array([[16, 30], [18, 48], [44, 15], [23, 73], [45, 73], [50, 50],[42, 25], [35, 15], [26, 23]])\n",
    "\n",
    "posicao_jammer = np.array([80,70])\n",
    "\n"
   ]
  },
  {
   "cell_type": "markdown",
   "metadata": {},
   "source": [
    "ENCONTRAR VIZINHOS E NOS AFETADOS"
   ]
  },
  {
   "cell_type": "code",
   "execution_count": 3,
   "metadata": {},
   "outputs": [
    {
     "name": "stdout",
     "output_type": "stream",
     "text": [
      "Nos Vizinhos: {0: [1, 2, 3, 4, 5, 6, 7, 8], 1: [0, 2, 3, 4, 5, 6, 7, 8], 2: [0, 1, 3, 4, 5, 6, 7, 8], 3: [0, 1, 2, 4, 5, 6, 7, 8], 4: [0, 1, 2, 3, 5, 6, 7, 8], 5: [0, 1, 2, 3, 4, 6, 7, 8], 6: [0, 1, 2, 3, 4, 5, 7, 8], 7: [0, 1, 2, 3, 4, 5, 6, 8], 8: [0, 1, 2, 3, 4, 5, 6, 7]}\n",
      "Nos Afetados Jammer: []\n"
     ]
    }
   ],
   "source": [
    "def distancia(pos1, pos2):\n",
    "    return np.sqrt((pos1[0] - pos2[0])**2 + (pos1[1] - pos2[1])**2)\n",
    "# Preparando a figura\n",
    "\n",
    "def encontra_vizinhos(posicoes, alcance_comunicacao_nos):\n",
    "    num_drones = posicoes.shape[0]\n",
    "    vizinhos = {}\n",
    "    for i in range(num_drones):\n",
    "        vizinhos[i] = []\n",
    "        for j in range(num_drones):\n",
    "            if i != j and distancia(posicoes[i], posicoes[j]) <= alcance_comunicacao_nos:\n",
    "                vizinhos[i].append(j)\n",
    "    return vizinhos\n",
    "\n",
    "def verifica_jammer(posicoes, posicao_jammer, alcance_comunicacao_jammer):\n",
    "    afetados_pelo_jammer = []\n",
    "    for i in range(posicoes.shape[0]):\n",
    "        if distancia(posicoes[i], posicao_jammer) <= alcance_comunicacao_jammer:\n",
    "            afetados_pelo_jammer.append(i)\n",
    "    return afetados_pelo_jammer\n",
    "\n",
    "vizinhos = encontra_vizinhos(posicoes, alcance_comunicacao_nos)\n",
    "afetados_pelo_jammer = verifica_jammer(posicoes, posicao_jammer, alcance_comunicacao_jammer)\n",
    "\n",
    "print('Nos Vizinhos:', vizinhos)\n",
    "print('Nos Afetados Jammer:', afetados_pelo_jammer)"
   ]
  },
  {
   "cell_type": "markdown",
   "metadata": {},
   "source": [
    "CALCULA AS POTENCIAS DE RECEÇÃO"
   ]
  },
  {
   "cell_type": "code",
   "execution_count": 4,
   "metadata": {},
   "outputs": [
    {
     "name": "stdout",
     "output_type": "stream",
     "text": [
      "resultadosPRX {'Drone 0 para Vizinho 1': -15.20473545739759, 'Drone 0 para Vizinho 2': -20.084908682649896, 'Drone 0 para Vizinho 3': -22.828959101193533, 'Drone 0 para Vizinho 4': -24.343519820304877, 'Drone 0 para Vizinho 5': -21.966092946817497, 'Drone 0 para Vizinho 6': -18.503177199947373, 'Drone 0 para Vizinho 7': -17.724973180461703, 'Drone 0 para Vizinho 8': -11.77785970440354, 'Drone 1 para Vizinho 0': -15.20473545739759, 'Drone 1 para Vizinho 2': -22.513444117519214, 'Drone 1 para Vizinho 3': -18.175130586709358, 'Drone 1 para Vizinho 4': -21.362183663772058, 'Drone 1 para Vizinho 5': -20.16592816687337, 'Drone 1 para Vizinho 6': -20.479619800492088, 'Drone 1 para Vizinho 7': -21.438489195996866, 'Drone 1 para Vizinho 8': -18.428189239357053, 'Drone 2 para Vizinho 0': -20.084908682649896, 'Drone 2 para Vizinho 1': -22.513444117519214, 'Drone 2 para Vizinho 3': -25.84954363134672, 'Drone 2 para Vizinho 4': -25.315847705880756, 'Drone 2 para Vizinho 5': -21.053147886011615, 'Drone 2 para Vizinho 6': -10.216330413268594, 'Drone 2 para Vizinho 7': -9.130847209067298, 'Drone 2 para Vizinho 8': -15.934314276222864, 'Drone 3 para Vizinho 0': -22.828959101193533, 'Drone 3 para Vizinho 1': -18.175130586709358, 'Drone 3 para Vizinho 2': -25.84954363134672, 'Drone 3 para Vizinho 4': -16.894450636724926, 'Drone 3 para Vizinho 5': -21.0428034313733, 'Drone 3 para Vizinho 6': -24.302969153906716, 'Drone 3 para Vizinho 7': -25.496592867220826, 'Drone 3 para Vizinho 8': -24.041003633426897, 'Drone 4 para Vizinho 0': -24.343519820304877, 'Drone 4 para Vizinho 1': -21.362183663772058, 'Drone 4 para Vizinho 2': -25.315847705880756, 'Drone 4 para Vizinho 3': -16.894450636724926, 'Drone 4 para Vizinho 5': -17.48109466756509, 'Drone 4 para Vizinho 6': -23.687753347986998, 'Drone 4 para Vizinho 7': -25.441775853733887, 'Drone 4 para Vizinho 8': -24.611175598333418, 'Drone 5 para Vizinho 0': -21.966092946817497, 'Drone 5 para Vizinho 1': -20.16592816687337, 'Drone 5 para Vizinho 2': -21.053147886011615, 'Drone 5 para Vizinho 3': -21.0428034313733, 'Drone 5 para Vizinho 4': -17.48109466756509, 'Drone 5 para Vizinho 6': -18.428189239357053, 'Drone 5 para Vizinho 7': -21.65967704263055, 'Drone 5 para Vizinho 8': -21.2021021370238, 'Drone 6 para Vizinho 0': -18.503177199947373, 'Drone 6 para Vizinho 1': -20.479619800492088, 'Drone 6 para Vizinho 2': -10.216330413268594, 'Drone 6 para Vizinho 3': -24.302969153906716, 'Drone 6 para Vizinho 4': -23.687753347986998, 'Drone 6 para Vizinho 5': -18.428189239357053, 'Drone 6 para Vizinho 7': -11.77785970440354, 'Drone 6 para Vizinho 8': -14.195730499988969, 'Drone 7 para Vizinho 0': -17.724973180461703, 'Drone 7 para Vizinho 1': -21.438489195996866, 'Drone 7 para Vizinho 2': -9.130847209067298, 'Drone 7 para Vizinho 3': -25.496592867220826, 'Drone 7 para Vizinho 4': -25.441775853733887, 'Drone 7 para Vizinho 5': -21.65967704263055, 'Drone 7 para Vizinho 6': -11.77785970440354, 'Drone 7 para Vizinho 8': -11.659677042630541, 'Drone 8 para Vizinho 0': -11.77785970440354, 'Drone 8 para Vizinho 1': -18.428189239357053, 'Drone 8 para Vizinho 2': -15.934314276222864, 'Drone 8 para Vizinho 3': -24.041003633426897, 'Drone 8 para Vizinho 4': -24.611175598333418, 'Drone 8 para Vizinho 5': -21.2021021370238, 'Drone 8 para Vizinho 6': -14.195730499988969, 'Drone 8 para Vizinho 7': -11.659677042630541}\n",
      "Drone 0 para Vizinho 1: Prx = -15.20 dBm\n",
      "Drone 0 para Vizinho 2: Prx = -20.08 dBm\n",
      "Drone 0 para Vizinho 3: Prx = -22.83 dBm\n",
      "Drone 0 para Vizinho 4: Prx = -24.34 dBm\n",
      "Drone 0 para Vizinho 5: Prx = -21.97 dBm\n",
      "Drone 0 para Vizinho 6: Prx = -18.50 dBm\n",
      "Drone 0 para Vizinho 7: Prx = -17.72 dBm\n",
      "Drone 0 para Vizinho 8: Prx = -11.78 dBm\n",
      "Drone 1 para Vizinho 0: Prx = -15.20 dBm\n",
      "Drone 1 para Vizinho 2: Prx = -22.51 dBm\n",
      "Drone 1 para Vizinho 3: Prx = -18.18 dBm\n",
      "Drone 1 para Vizinho 4: Prx = -21.36 dBm\n",
      "Drone 1 para Vizinho 5: Prx = -20.17 dBm\n",
      "Drone 1 para Vizinho 6: Prx = -20.48 dBm\n",
      "Drone 1 para Vizinho 7: Prx = -21.44 dBm\n",
      "Drone 1 para Vizinho 8: Prx = -18.43 dBm\n",
      "Drone 2 para Vizinho 0: Prx = -20.08 dBm\n",
      "Drone 2 para Vizinho 1: Prx = -22.51 dBm\n",
      "Drone 2 para Vizinho 3: Prx = -25.85 dBm\n",
      "Drone 2 para Vizinho 4: Prx = -25.32 dBm\n",
      "Drone 2 para Vizinho 5: Prx = -21.05 dBm\n",
      "Drone 2 para Vizinho 6: Prx = -10.22 dBm\n",
      "Drone 2 para Vizinho 7: Prx = -9.13 dBm\n",
      "Drone 2 para Vizinho 8: Prx = -15.93 dBm\n",
      "Drone 3 para Vizinho 0: Prx = -22.83 dBm\n",
      "Drone 3 para Vizinho 1: Prx = -18.18 dBm\n",
      "Drone 3 para Vizinho 2: Prx = -25.85 dBm\n",
      "Drone 3 para Vizinho 4: Prx = -16.89 dBm\n",
      "Drone 3 para Vizinho 5: Prx = -21.04 dBm\n",
      "Drone 3 para Vizinho 6: Prx = -24.30 dBm\n",
      "Drone 3 para Vizinho 7: Prx = -25.50 dBm\n",
      "Drone 3 para Vizinho 8: Prx = -24.04 dBm\n",
      "Drone 4 para Vizinho 0: Prx = -24.34 dBm\n",
      "Drone 4 para Vizinho 1: Prx = -21.36 dBm\n",
      "Drone 4 para Vizinho 2: Prx = -25.32 dBm\n",
      "Drone 4 para Vizinho 3: Prx = -16.89 dBm\n",
      "Drone 4 para Vizinho 5: Prx = -17.48 dBm\n",
      "Drone 4 para Vizinho 6: Prx = -23.69 dBm\n",
      "Drone 4 para Vizinho 7: Prx = -25.44 dBm\n",
      "Drone 4 para Vizinho 8: Prx = -24.61 dBm\n",
      "Drone 5 para Vizinho 0: Prx = -21.97 dBm\n",
      "Drone 5 para Vizinho 1: Prx = -20.17 dBm\n",
      "Drone 5 para Vizinho 2: Prx = -21.05 dBm\n",
      "Drone 5 para Vizinho 3: Prx = -21.04 dBm\n",
      "Drone 5 para Vizinho 4: Prx = -17.48 dBm\n",
      "Drone 5 para Vizinho 6: Prx = -18.43 dBm\n",
      "Drone 5 para Vizinho 7: Prx = -21.66 dBm\n",
      "Drone 5 para Vizinho 8: Prx = -21.20 dBm\n",
      "Drone 6 para Vizinho 0: Prx = -18.50 dBm\n",
      "Drone 6 para Vizinho 1: Prx = -20.48 dBm\n",
      "Drone 6 para Vizinho 2: Prx = -10.22 dBm\n",
      "Drone 6 para Vizinho 3: Prx = -24.30 dBm\n",
      "Drone 6 para Vizinho 4: Prx = -23.69 dBm\n",
      "Drone 6 para Vizinho 5: Prx = -18.43 dBm\n",
      "Drone 6 para Vizinho 7: Prx = -11.78 dBm\n",
      "Drone 6 para Vizinho 8: Prx = -14.20 dBm\n",
      "Drone 7 para Vizinho 0: Prx = -17.72 dBm\n",
      "Drone 7 para Vizinho 1: Prx = -21.44 dBm\n",
      "Drone 7 para Vizinho 2: Prx = -9.13 dBm\n",
      "Drone 7 para Vizinho 3: Prx = -25.50 dBm\n",
      "Drone 7 para Vizinho 4: Prx = -25.44 dBm\n",
      "Drone 7 para Vizinho 5: Prx = -21.66 dBm\n",
      "Drone 7 para Vizinho 6: Prx = -11.78 dBm\n",
      "Drone 7 para Vizinho 8: Prx = -11.66 dBm\n",
      "Drone 8 para Vizinho 0: Prx = -11.78 dBm\n",
      "Drone 8 para Vizinho 1: Prx = -18.43 dBm\n",
      "Drone 8 para Vizinho 2: Prx = -15.93 dBm\n",
      "Drone 8 para Vizinho 3: Prx = -24.04 dBm\n",
      "Drone 8 para Vizinho 4: Prx = -24.61 dBm\n",
      "Drone 8 para Vizinho 5: Prx = -21.20 dBm\n",
      "Drone 8 para Vizinho 6: Prx = -14.20 dBm\n",
      "Drone 8 para Vizinho 7: Prx = -11.66 dBm\n"
     ]
    }
   ],
   "source": [
    "Ptx_dBm = 30 \n",
    "Gtx_dBi =10\n",
    "Grx_dBi =10\n",
    "f = 2.4e9 \n",
    "B_Hz= 2.4e9\n",
    "d0=1\n",
    "gamma=2\n",
    "\n",
    "\n",
    "def calcular_Prx_dB(Ptx_dBm, Gtx_dBi, Grx_dBi, d,d0,gamma, f):\n",
    "    \"\"\"\n",
    "    Calcula a potência do sinal recebido usando a equação de Friis.\n",
    "    \"\"\"\n",
    "    c = 3e8  # Velocidade da luz em m/s\n",
    "    lambda_m = c / f  # Comprimento de onda\n",
    "    L = (4 * np.pi * d / lambda_m)**2\n",
    "    Prx_dBm = Ptx_dBm + Gtx_dBi + Grx_dBi - 10 * np.log10(L)\n",
    "    return Prx_dBm\n",
    "\n",
    "\n",
    "def calcular_potencia_recebida_vizinhos(vizinhos, posicoes):\n",
    "    prx_resultados = {}\n",
    "    for drone, seus_vizinhos in vizinhos.items():\n",
    "        for vizinho in seus_vizinhos:\n",
    "            d = distancia(posicoes[drone], posicoes[vizinho])\n",
    "            prx = calcular_Prx_dB(Ptx_dBm, Gtx_dBi, Grx_dBi, d,d0,gamma, f)\n",
    "            prx_resultados[f\"Drone {drone} para Vizinho {vizinho}\"] = prx\n",
    "    return prx_resultados\n",
    "\n",
    "prx_resultados = calcular_potencia_recebida_vizinhos(vizinhos, posicoes)\n",
    "print('resultadosPRX',prx_resultados)\n",
    "\n",
    "# Exibir os resultados\n",
    "for chave, prx in prx_resultados.items():\n",
    "    print(f\"{chave}: Prx = {prx:.2f} dBm\")\n",
    "    \n",
    "    \n",
    "\n",
    "\n"
   ]
  },
  {
   "cell_type": "markdown",
   "metadata": {},
   "source": [
    "CALCULAR AS CAPACIDADES\n",
    "\n",
    "Considero o ruido apenas o efeito dos outros drones que não estão a comunicar diretamente com o meu nó \n",
    "\n",
    "Atribuí um peso de apenas 30% da potencia de receção caso o drone estivesse a apontar diretamente"
   ]
  },
  {
   "cell_type": "code",
   "execution_count": 6,
   "metadata": {},
   "outputs": [
    {
     "name": "stdout",
     "output_type": "stream",
     "text": [
      "Capacidade do canal entre Drone 0 e Drone 1: 0.43 Mbps\n",
      "Capacidade do canal entre Drone 0 e Drone 2: 0.35 Mbps\n",
      "Capacidade do canal entre Drone 0 e Drone 3: 0.05 Mbps\n",
      "Capacidade do canal entre Drone 0 e Drone 4: 0.01 Mbps\n",
      "Capacidade do canal entre Drone 0 e Drone 5: 0.01 Mbps\n",
      "Capacidade do canal entre Drone 0 e Drone 6: 0.08 Mbps\n",
      "Capacidade do canal entre Drone 0 e Drone 7: 1.61 Mbps\n",
      "Capacidade do canal entre Drone 0 e Drone 8: 4.70 Mbps\n",
      "Capacidade do canal entre Drone 1 e Drone 0: 10.94 Mbps\n",
      "Capacidade do canal entre Drone 1 e Drone 2: 0.45 Mbps\n",
      "Capacidade do canal entre Drone 1 e Drone 3: 0.37 Mbps\n",
      "Capacidade do canal entre Drone 1 e Drone 4: 0.02 Mbps\n",
      "Capacidade do canal entre Drone 1 e Drone 5: 0.02 Mbps\n",
      "Capacidade do canal entre Drone 1 e Drone 6: 0.32 Mbps\n",
      "Capacidade do canal entre Drone 1 e Drone 7: 1.65 Mbps\n",
      "Capacidade do canal entre Drone 1 e Drone 8: 9.70 Mbps\n",
      "Capacidade do canal entre Drone 2 e Drone 0: 11.10 Mbps\n",
      "Capacidade do canal entre Drone 2 e Drone 1: 0.45 Mbps\n",
      "Capacidade do canal entre Drone 2 e Drone 3: 0.03 Mbps\n",
      "Capacidade do canal entre Drone 2 e Drone 4: 0.01 Mbps\n",
      "Capacidade do canal entre Drone 2 e Drone 5: 0.02 Mbps\n",
      "Capacidade do canal entre Drone 2 e Drone 6: 0.45 Mbps\n",
      "Capacidade do canal entre Drone 2 e Drone 7: 63.32 Mbps\n",
      "Capacidade do canal entre Drone 2 e Drone 8: 57.22 Mbps\n",
      "Capacidade do canal entre Drone 3 e Drone 0: 5.29 Mbps\n",
      "Capacidade do canal entre Drone 3 e Drone 1: 21.78 Mbps\n",
      "Capacidade do canal entre Drone 3 e Drone 2: 0.11 Mbps\n",
      "Capacidade do canal entre Drone 3 e Drone 4: 0.02 Mbps\n",
      "Capacidade do canal entre Drone 3 e Drone 5: 0.02 Mbps\n",
      "Capacidade do canal entre Drone 3 e Drone 6: 0.12 Mbps\n",
      "Capacidade do canal entre Drone 3 e Drone 7: 0.26 Mbps\n",
      "Capacidade do canal entre Drone 3 e Drone 8: 0.82 Mbps\n",
      "Capacidade do canal entre Drone 4 e Drone 0: 0.33 Mbps\n",
      "Capacidade do canal entre Drone 4 e Drone 1: 1.26 Mbps\n",
      "Capacidade do canal entre Drone 4 e Drone 2: 0.28 Mbps\n",
      "Capacidade do canal entre Drone 4 e Drone 3: 8.23 Mbps\n",
      "Capacidade do canal entre Drone 4 e Drone 5: 0.50 Mbps\n",
      "Capacidade do canal entre Drone 4 e Drone 6: 0.53 Mbps\n",
      "Capacidade do canal entre Drone 4 e Drone 7: 0.92 Mbps\n",
      "Capacidade do canal entre Drone 4 e Drone 8: 0.94 Mbps\n",
      "Capacidade do canal entre Drone 5 e Drone 0: 2.79 Mbps\n",
      "Capacidade do canal entre Drone 5 e Drone 1: 3.10 Mbps\n",
      "Capacidade do canal entre Drone 5 e Drone 2: 1.50 Mbps\n",
      "Capacidade do canal entre Drone 5 e Drone 3: 2.59 Mbps\n",
      "Capacidade do canal entre Drone 5 e Drone 4: 0.35 Mbps\n",
      "Capacidade do canal entre Drone 5 e Drone 6: 3.76 Mbps\n",
      "Capacidade do canal entre Drone 5 e Drone 7: 2.05 Mbps\n",
      "Capacidade do canal entre Drone 5 e Drone 8: 2.74 Mbps\n",
      "Capacidade do canal entre Drone 6 e Drone 0: 5.54 Mbps\n",
      "Capacidade do canal entre Drone 6 e Drone 1: 2.38 Mbps\n",
      "Capacidade do canal entre Drone 6 e Drone 2: 38.47 Mbps\n",
      "Capacidade do canal entre Drone 6 e Drone 3: 0.10 Mbps\n",
      "Capacidade do canal entre Drone 6 e Drone 4: 0.01 Mbps\n",
      "Capacidade do canal entre Drone 6 e Drone 5: 0.02 Mbps\n",
      "Capacidade do canal entre Drone 6 e Drone 7: 74.43 Mbps\n",
      "Capacidade do canal entre Drone 6 e Drone 8: 24.16 Mbps\n",
      "Capacidade do canal entre Drone 7 e Drone 0: 11.20 Mbps\n",
      "Capacidade do canal entre Drone 7 e Drone 1: 0.45 Mbps\n",
      "Capacidade do canal entre Drone 7 e Drone 2: 1.36 Mbps\n",
      "Capacidade do canal entre Drone 7 e Drone 3: 0.03 Mbps\n",
      "Capacidade do canal entre Drone 7 e Drone 4: 0.01 Mbps\n",
      "Capacidade do canal entre Drone 7 e Drone 5: 0.01 Mbps\n",
      "Capacidade do canal entre Drone 7 e Drone 6: 0.12 Mbps\n",
      "Capacidade do canal entre Drone 7 e Drone 8: 31.57 Mbps\n",
      "Capacidade do canal entre Drone 8 e Drone 0: 114.47 Mbps\n",
      "Capacidade do canal entre Drone 8 e Drone 1: 0.92 Mbps\n",
      "Capacidade do canal entre Drone 8 e Drone 2: 1.33 Mbps\n",
      "Capacidade do canal entre Drone 8 e Drone 3: 0.05 Mbps\n",
      "Capacidade do canal entre Drone 8 e Drone 4: 0.01 Mbps\n",
      "Capacidade do canal entre Drone 8 e Drone 5: 0.01 Mbps\n",
      "Capacidade do canal entre Drone 8 e Drone 6: 0.14 Mbps\n",
      "Capacidade do canal entre Drone 8 e Drone 7: 20.25 Mbps\n",
      "O bottleneck da rota é: 0.01 Mbps\n",
      "{(0, 1): 0.42565253351535964, (0, 2): 0.34757041075642464, (0, 3): 0.052078238614094656, (0, 4): 0.010894386986455541, (0, 5): 0.0126749242857276, (0, 6): 0.08302952170464636, (0, 7): 1.614198381668773, (0, 8): 4.704077251780876, (1, 0): 10.94240437436022, (1, 2): 0.4496764269455224, (1, 3): 0.3653732612944257, (1, 4): 0.015960752658369378, (1, 5): 0.016737048262743536, (1, 6): 0.32455656639373337, (1, 7): 1.645586094598124, (1, 8): 9.701641769467681, (2, 0): 11.101520557781166, (2, 1): 0.44688657758222367, (2, 3): 0.031232980288316545, (2, 4): 0.008973965913928707, (2, 5): 0.017110152775611256, (2, 6): 0.45489187417831917, (2, 7): 63.31523002824431, (2, 8): 57.21960767166655, (3, 0): 5.293082423001948, (3, 1): 21.77994945544772, (3, 2): 0.10543276286284028, (3, 4): 0.023307196480360583, (3, 5): 0.02102107400754995, (3, 6): 0.12349003184686126, (3, 7): 0.25542373844800814, (3, 8): 0.8180595031114426, (4, 0): 0.33183932326292903, (4, 1): 1.256040090778809, (4, 2): 0.2777783864919393, (4, 3): 8.228854954278265, (4, 5): 0.49792043270810005, (4, 6): 0.5327112867002124, (4, 7): 0.9248366991309224, (4, 8): 0.9421585510397786, (5, 0): 2.787049870688292, (5, 1): 3.098429986465402, (5, 2): 1.504941648336637, (5, 3): 2.5911107808907414, (5, 4): 0.35139641818415723, (5, 6): 3.757285990057243, (5, 7): 2.0503714039099727, (5, 8): 2.7387150766903257, (6, 0): 5.540188807707104, (6, 1): 2.377271065131882, (6, 2): 38.47173463232313, (6, 3): 0.09769823997805488, (6, 4): 0.01245700579581117, (6, 5): 0.024398848391789373, (6, 7): 74.42653866670169, (6, 8): 24.16020718147774, (7, 0): 11.196368351969781, (7, 1): 0.45123174148199857, (7, 2): 1.361779316851225, (7, 3): 0.03144963444131815, (7, 4): 0.00897632797765947, (7, 5): 0.013687000974287987, (7, 6): 0.1173501180416722, (7, 8): 31.573847800275637, (8, 0): 114.47077339210908, (8, 1): 0.9158049632850511, (8, 2): 1.3340258931929851, (8, 3): 0.050069799114914555, (8, 4): 0.010388698468164686, (8, 5): 0.013914521176065857, (8, 6): 0.14424383359799406, (8, 7): 20.250745332362882}\n"
     ]
    }
   ],
   "source": [
    "# ganho_maximo_antena_dBi=15\n",
    "potencia_jammer_dBm =100\n",
    "ganho_transmissão_jammer=0\n",
    "HPBW=60\n",
    "ganho_maximo_antena_dBi=15\n",
    "def calcular_angulo(pos_drone, orientacao_drone, pos_jammer):\n",
    "    \"\"\"\n",
    "    Calcula o ângulo entre a direção do jammer e a orientação da antena do drone.\n",
    "\n",
    "    :param pos_drone: Posição do drone (x, y).\n",
    "    :param orientacao_drone: Orientação do drone em graus (0-360).\n",
    "    :param pos_jammer: Posição do jammer (x, y).\n",
    "    :return: Ângulo em graus.\n",
    "    \"\"\"\n",
    "    vetor_drone = np.array([np.cos(np.radians(orientacao_drone)), np.sin(np.radians(orientacao_drone))])\n",
    "    vetor_jammer = np.array(pos_jammer) - np.array(pos_drone)\n",
    "    vetor_jammer_normalizado = vetor_jammer / np.linalg.norm(vetor_jammer)\n",
    "    \n",
    "    dot_product = np.dot(vetor_drone, vetor_jammer_normalizado)\n",
    "    angle = np.arccos(dot_product)\n",
    "    \n",
    "    return np.degrees(angle)\n",
    "\n",
    "\n",
    "\n",
    "def calcular_Grx_dBi(angulo, HPBW, max_gain_dBi):\n",
    "    # Carrega os dados do documento\n",
    "    ganhos = pd.read_csv(\"C:/Users/tass/OneDrive - EXÉRCITO PORTUGUÊS/Ambiente de Trabalho/Tese/Simulaçãoes/ganhos.csv\")\n",
    "\n",
    "    # Arredonda e normaliza o ângulo para 0-359\n",
    "    angulo = round(angulo) % 360\n",
    "\n",
    "    # Verifique se o ângulo é um índice válido\n",
    "    if angulo in ganhos.index:\n",
    "        ganho = ganhos.loc[angulo, \"ganho\"]\n",
    "    else:\n",
    "        raise KeyError(f\"O ângulo {angulo} não está no índice do arquivo CSV\")\n",
    "\n",
    "    return ganho\n",
    "\n",
    "def calcular_capacidade_canal(Prx_dBm, B_Hz, N_dBm):\n",
    "    \"\"\"\n",
    "    Calcula a capacidade do canal usando o teorema de Shannon-Hartley.\n",
    "\n",
    "    :param Prx_dBm: Potência do sinal recebido em dBm.\n",
    "    :param B_Hz: Largura de banda do canal em Hertz.\n",
    "    :param N_dBm: Potência do ruído em dBm.\n",
    "    :return: Capacidade do canal em bits por segundo.\n",
    "    \"\"\"\n",
    "    k = 1.380649e-23\n",
    "    # Temperatura padrão em kelvins (290K é comum para cálculos de RF)\n",
    "    T = 290\n",
    "    \n",
    "    if N_dBm == 0:\n",
    "        # Calcula a densidade espectral de ruído (N_0)\n",
    "        N0_W_Hz = k * T\n",
    "        # Calcula a potência do ruído térmico em watts\n",
    "        N_W = N0_W_Hz * B_Hz\n",
    "        # Converte a potência do ruído térmico para dBm\n",
    "        N_dBm = 10 * np.log10(N_W / 0.001)\n",
    "    # Convertendo potências de dBm para Watts\n",
    "    Prx_W = 10**((Prx_dBm - 30) / 10)\n",
    "    N_W = 10**((N_dBm - 30) / 10)\n",
    "\n",
    "    # Calculando a razão sinal-ruído (SNR)\n",
    "    SNR = Prx_W / N_W\n",
    "    # print(SNR)\n",
    "\n",
    "    # Calculando a capacidade do canal \n",
    "    C_bps = B_Hz * np.log2(1 + SNR)\n",
    "    \n",
    "    return C_bps\n",
    "\n",
    "\n",
    "\n",
    "def calcular_potencia_ruido_jammer(angulo, potencia_jammer_dBm, HPBW, ganho_maximo_antena_dBi,d):\n",
    "    c = 3e8  # Velocidade da luz em m/s\n",
    "    lambda_m = c / f  # Comprimento de onda\n",
    "    L = (4 * np.pi * d / lambda_m)**2\n",
    "    Ptx_dBm=potencia_jammer_dBm\n",
    "    Gtx_dBi=ganho_transmissão_jammer\n",
    "    Grx_dBi=calcular_Grx_dBi(angulo,HPBW,ganho_maximo_antena_dBi)\n",
    "    N_dBm = Ptx_dBm + Gtx_dBi + Grx_dBi - 10 * np.log10(L)\n",
    "    \n",
    "    return N_dBm\n",
    "\n",
    "def calcular_angulo_relativo(pos_drone, pos_vizinho, pos_jammer):\n",
    "    \"\"\"\n",
    "    Calcula o ângulo do jammer em relação à direção do drone para o vizinho, que é a referência de 0º.\n",
    "    \"\"\"\n",
    "    vetor_drone_vizinho = np.array(pos_vizinho) - np.array(pos_drone)\n",
    "    vetor_drone_jammer = np.array(pos_jammer) - np.array(pos_drone)\n",
    "\n",
    "    # Normaliza os vetores\n",
    "    vetor_drone_vizinho = vetor_drone_vizinho / np.linalg.norm(vetor_drone_vizinho)\n",
    "    vetor_drone_jammer = vetor_drone_jammer / np.linalg.norm(vetor_drone_jammer)\n",
    "\n",
    "    # Calcula o cosseno do ângulo entre eles\n",
    "    dot_product = np.dot(vetor_drone_vizinho, vetor_drone_jammer)\n",
    "    \n",
    "    # Evita valores fora do domínio da função arccos devido a erros de precisão numérica\n",
    "    dot_product = np.clip(dot_product, -1.0, 1.0)\n",
    "    \n",
    "    angulo = np.arccos(dot_product)\n",
    "    \n",
    "    # Converte em graus e determina se o ângulo é positivo ou negativo com base no produto vetorial\n",
    "    angulo = np.degrees(angulo) * np.sign(np.cross(vetor_drone_vizinho, vetor_drone_jammer))\n",
    "    # Normaliza o ângulo para estar entre 0 e 360\n",
    "    angulo = angulo % 360\n",
    "    \n",
    "    return angulo\n",
    "\n",
    "def calcular_capacidades_canais(prx_resultados, posicoes):\n",
    "    # Armazena as capacidades de canal para cada link na rota\n",
    "    capacidades = []\n",
    "\n",
    "    for drone, seus_vizinhos in vizinhos.items():\n",
    "        posicao_drone = posicoes[drone]\n",
    "        for vizinho in seus_vizinhos:\n",
    "            posicao_vizinho = posicoes[vizinho]\n",
    "            chave_prx = f'Drone {drone} para Vizinho {vizinho}'\n",
    "            \n",
    "            if chave_prx in prx_resultados:\n",
    "                Prx_dBm = prx_resultados[chave_prx]\n",
    "                \n",
    "                # Calcula o ângulo do jammer em relação à linha drone-vizinho\n",
    "                angulo_relativo = calcular_angulo_relativo(posicao_drone, posicao_vizinho, posicao_jammer)\n",
    "                # print (angulo_relativo)\n",
    "                \n",
    "                # print(drone,vizinho,angulo_relativo)\n",
    "                \n",
    "                # Ajusta o ângulo para a convenção de ângulo da antena\n",
    "                if angulo_relativo < 0:\n",
    "                    angulo_relativo += 360\n",
    "                # print(angulo_relativo)\n",
    "                \n",
    "                \n",
    "                d=distancia(posicoes[drone], posicao_jammer)\n",
    "                # print('Distancia ao jammer do drone',drone,'ao jammer:',d)\n",
    "                # Calcula o ruído com base no ganho da antena\n",
    "                N_dBm = calcular_potencia_ruido_jammer(angulo_relativo, potencia_jammer_dBm, HPBW, ganho_maximo_antena_dBi,d)\n",
    "                # print(Prx_dBm,N_dBm)\n",
    "                # Calcular a capacidade do canal\n",
    "                capacidade_bps = calcular_capacidade_canal(Prx_dBm, B_Hz, N_dBm)\n",
    "                capacidade_bps /= 1e6  # Convertendo para Mbps\n",
    "                capacidades.append((drone, vizinho, capacidade_bps))\n",
    "\n",
    "    return capacidades\n",
    "\n",
    "\n",
    "\n",
    "capacidades = calcular_capacidades_canais(prx_resultados, posicoes)\n",
    "\n",
    "bottleneck_bps = float('inf')\n",
    "\n",
    "# Identificar a capacidade mais baixa ao longo da rota\n",
    "for transmissor, receptor, capacidade_bps in capacidades:\n",
    "    print(f\"Capacidade do canal entre Drone {transmissor} e Drone {receptor}: {capacidade_bps:.2f} Mbps\")\n",
    "    if capacidade_bps < bottleneck_bps:\n",
    "        bottleneck_bps = capacidade_bps\n",
    "\n",
    "# Verifica se um bottleneck foi encontrado\n",
    "if bottleneck_bps < float('inf'):\n",
    "    print(f\"O bottleneck da rota é: {bottleneck_bps:.2f} Mbps\")\n",
    "else:\n",
    "    print(\"Não foi possível determinar o bottleneck.\")\n",
    "\n",
    "\n",
    "capacidade_dict = {(transmissor, receptor): capacidade_bps for transmissor, receptor, capacidade_bps in capacidades}\n",
    "\n",
    "print(capacidade_dict)"
   ]
  },
  {
   "cell_type": "markdown",
   "metadata": {},
   "source": [
    "VIZUALIZAR O ENXAME"
   ]
  },
  {
   "cell_type": "code",
   "execution_count": null,
   "metadata": {},
   "outputs": [
    {
     "name": "stderr",
     "output_type": "stream",
     "text": [
      "c:\\Users\\tass\\anaconda3\\Lib\\site-packages\\plotly\\io\\_renderers.py:395: DeprecationWarning:\n",
      "\n",
      "distutils Version classes are deprecated. Use packaging.version instead.\n",
      "\n"
     ]
    },
    {
     "data": {
      "application/vnd.plotly.v1+json": {
       "config": {
        "plotlyServerURL": "https://plot.ly"
       },
       "data": [
        {
         "marker": {
          "color": "blue",
          "size": 10
         },
         "mode": "markers+text",
         "showlegend": false,
         "text": "0",
         "textposition": "bottom center",
         "type": "scatter",
         "x": [
          16
         ],
         "y": [
          30
         ]
        },
        {
         "marker": {
          "color": "blue",
          "size": 10
         },
         "mode": "markers+text",
         "showlegend": false,
         "text": "1",
         "textposition": "bottom center",
         "type": "scatter",
         "x": [
          18
         ],
         "y": [
          48
         ]
        },
        {
         "marker": {
          "color": "blue",
          "size": 10
         },
         "mode": "markers+text",
         "showlegend": false,
         "text": "2",
         "textposition": "bottom center",
         "type": "scatter",
         "x": [
          44
         ],
         "y": [
          15
         ]
        },
        {
         "marker": {
          "color": "blue",
          "size": 10
         },
         "mode": "markers+text",
         "showlegend": false,
         "text": "3",
         "textposition": "bottom center",
         "type": "scatter",
         "x": [
          23
         ],
         "y": [
          73
         ]
        },
        {
         "marker": {
          "color": "blue",
          "size": 10
         },
         "mode": "markers+text",
         "showlegend": false,
         "text": "4",
         "textposition": "bottom center",
         "type": "scatter",
         "x": [
          45
         ],
         "y": [
          73
         ]
        },
        {
         "marker": {
          "color": "blue",
          "size": 10
         },
         "mode": "markers+text",
         "showlegend": false,
         "text": "5",
         "textposition": "bottom center",
         "type": "scatter",
         "x": [
          50
         ],
         "y": [
          50
         ]
        },
        {
         "marker": {
          "color": "blue",
          "size": 10
         },
         "mode": "markers+text",
         "showlegend": false,
         "text": "6",
         "textposition": "bottom center",
         "type": "scatter",
         "x": [
          42
         ],
         "y": [
          25
         ]
        },
        {
         "marker": {
          "color": "blue",
          "size": 10
         },
         "mode": "markers+text",
         "showlegend": false,
         "text": "7",
         "textposition": "bottom center",
         "type": "scatter",
         "x": [
          35
         ],
         "y": [
          15
         ]
        },
        {
         "marker": {
          "color": "blue",
          "size": 10
         },
         "mode": "markers+text",
         "showlegend": false,
         "text": "8",
         "textposition": "bottom center",
         "type": "scatter",
         "x": [
          26
         ],
         "y": [
          23
         ]
        },
        {
         "marker": {
          "color": "red",
          "size": 12
         },
         "mode": "markers",
         "name": "Jammer",
         "type": "scatter",
         "x": [
          80
         ],
         "y": [
          70
         ]
        },
        {
         "marker": {
          "color": "blue",
          "size": 10
         },
         "mode": "markers",
         "name": "Nó não afetado",
         "type": "scatter",
         "x": [
          null
         ],
         "y": [
          null
         ]
        },
        {
         "marker": {
          "color": "orange",
          "size": 10
         },
         "mode": "markers",
         "name": "Nó afetado",
         "type": "scatter",
         "x": [
          null
         ],
         "y": [
          null
         ]
        }
       ],
       "layout": {
        "legend": {
         "itemsizing": "constant",
         "title": {
          "text": "Legenda"
         },
         "traceorder": "normal"
        },
        "template": {
         "data": {
          "bar": [
           {
            "error_x": {
             "color": "#2a3f5f"
            },
            "error_y": {
             "color": "#2a3f5f"
            },
            "marker": {
             "line": {
              "color": "#E5ECF6",
              "width": 0.5
             },
             "pattern": {
              "fillmode": "overlay",
              "size": 10,
              "solidity": 0.2
             }
            },
            "type": "bar"
           }
          ],
          "barpolar": [
           {
            "marker": {
             "line": {
              "color": "#E5ECF6",
              "width": 0.5
             },
             "pattern": {
              "fillmode": "overlay",
              "size": 10,
              "solidity": 0.2
             }
            },
            "type": "barpolar"
           }
          ],
          "carpet": [
           {
            "aaxis": {
             "endlinecolor": "#2a3f5f",
             "gridcolor": "white",
             "linecolor": "white",
             "minorgridcolor": "white",
             "startlinecolor": "#2a3f5f"
            },
            "baxis": {
             "endlinecolor": "#2a3f5f",
             "gridcolor": "white",
             "linecolor": "white",
             "minorgridcolor": "white",
             "startlinecolor": "#2a3f5f"
            },
            "type": "carpet"
           }
          ],
          "choropleth": [
           {
            "colorbar": {
             "outlinewidth": 0,
             "ticks": ""
            },
            "type": "choropleth"
           }
          ],
          "contour": [
           {
            "colorbar": {
             "outlinewidth": 0,
             "ticks": ""
            },
            "colorscale": [
             [
              0,
              "#0d0887"
             ],
             [
              0.1111111111111111,
              "#46039f"
             ],
             [
              0.2222222222222222,
              "#7201a8"
             ],
             [
              0.3333333333333333,
              "#9c179e"
             ],
             [
              0.4444444444444444,
              "#bd3786"
             ],
             [
              0.5555555555555556,
              "#d8576b"
             ],
             [
              0.6666666666666666,
              "#ed7953"
             ],
             [
              0.7777777777777778,
              "#fb9f3a"
             ],
             [
              0.8888888888888888,
              "#fdca26"
             ],
             [
              1,
              "#f0f921"
             ]
            ],
            "type": "contour"
           }
          ],
          "contourcarpet": [
           {
            "colorbar": {
             "outlinewidth": 0,
             "ticks": ""
            },
            "type": "contourcarpet"
           }
          ],
          "heatmap": [
           {
            "colorbar": {
             "outlinewidth": 0,
             "ticks": ""
            },
            "colorscale": [
             [
              0,
              "#0d0887"
             ],
             [
              0.1111111111111111,
              "#46039f"
             ],
             [
              0.2222222222222222,
              "#7201a8"
             ],
             [
              0.3333333333333333,
              "#9c179e"
             ],
             [
              0.4444444444444444,
              "#bd3786"
             ],
             [
              0.5555555555555556,
              "#d8576b"
             ],
             [
              0.6666666666666666,
              "#ed7953"
             ],
             [
              0.7777777777777778,
              "#fb9f3a"
             ],
             [
              0.8888888888888888,
              "#fdca26"
             ],
             [
              1,
              "#f0f921"
             ]
            ],
            "type": "heatmap"
           }
          ],
          "heatmapgl": [
           {
            "colorbar": {
             "outlinewidth": 0,
             "ticks": ""
            },
            "colorscale": [
             [
              0,
              "#0d0887"
             ],
             [
              0.1111111111111111,
              "#46039f"
             ],
             [
              0.2222222222222222,
              "#7201a8"
             ],
             [
              0.3333333333333333,
              "#9c179e"
             ],
             [
              0.4444444444444444,
              "#bd3786"
             ],
             [
              0.5555555555555556,
              "#d8576b"
             ],
             [
              0.6666666666666666,
              "#ed7953"
             ],
             [
              0.7777777777777778,
              "#fb9f3a"
             ],
             [
              0.8888888888888888,
              "#fdca26"
             ],
             [
              1,
              "#f0f921"
             ]
            ],
            "type": "heatmapgl"
           }
          ],
          "histogram": [
           {
            "marker": {
             "pattern": {
              "fillmode": "overlay",
              "size": 10,
              "solidity": 0.2
             }
            },
            "type": "histogram"
           }
          ],
          "histogram2d": [
           {
            "colorbar": {
             "outlinewidth": 0,
             "ticks": ""
            },
            "colorscale": [
             [
              0,
              "#0d0887"
             ],
             [
              0.1111111111111111,
              "#46039f"
             ],
             [
              0.2222222222222222,
              "#7201a8"
             ],
             [
              0.3333333333333333,
              "#9c179e"
             ],
             [
              0.4444444444444444,
              "#bd3786"
             ],
             [
              0.5555555555555556,
              "#d8576b"
             ],
             [
              0.6666666666666666,
              "#ed7953"
             ],
             [
              0.7777777777777778,
              "#fb9f3a"
             ],
             [
              0.8888888888888888,
              "#fdca26"
             ],
             [
              1,
              "#f0f921"
             ]
            ],
            "type": "histogram2d"
           }
          ],
          "histogram2dcontour": [
           {
            "colorbar": {
             "outlinewidth": 0,
             "ticks": ""
            },
            "colorscale": [
             [
              0,
              "#0d0887"
             ],
             [
              0.1111111111111111,
              "#46039f"
             ],
             [
              0.2222222222222222,
              "#7201a8"
             ],
             [
              0.3333333333333333,
              "#9c179e"
             ],
             [
              0.4444444444444444,
              "#bd3786"
             ],
             [
              0.5555555555555556,
              "#d8576b"
             ],
             [
              0.6666666666666666,
              "#ed7953"
             ],
             [
              0.7777777777777778,
              "#fb9f3a"
             ],
             [
              0.8888888888888888,
              "#fdca26"
             ],
             [
              1,
              "#f0f921"
             ]
            ],
            "type": "histogram2dcontour"
           }
          ],
          "mesh3d": [
           {
            "colorbar": {
             "outlinewidth": 0,
             "ticks": ""
            },
            "type": "mesh3d"
           }
          ],
          "parcoords": [
           {
            "line": {
             "colorbar": {
              "outlinewidth": 0,
              "ticks": ""
             }
            },
            "type": "parcoords"
           }
          ],
          "pie": [
           {
            "automargin": true,
            "type": "pie"
           }
          ],
          "scatter": [
           {
            "fillpattern": {
             "fillmode": "overlay",
             "size": 10,
             "solidity": 0.2
            },
            "type": "scatter"
           }
          ],
          "scatter3d": [
           {
            "line": {
             "colorbar": {
              "outlinewidth": 0,
              "ticks": ""
             }
            },
            "marker": {
             "colorbar": {
              "outlinewidth": 0,
              "ticks": ""
             }
            },
            "type": "scatter3d"
           }
          ],
          "scattercarpet": [
           {
            "marker": {
             "colorbar": {
              "outlinewidth": 0,
              "ticks": ""
             }
            },
            "type": "scattercarpet"
           }
          ],
          "scattergeo": [
           {
            "marker": {
             "colorbar": {
              "outlinewidth": 0,
              "ticks": ""
             }
            },
            "type": "scattergeo"
           }
          ],
          "scattergl": [
           {
            "marker": {
             "colorbar": {
              "outlinewidth": 0,
              "ticks": ""
             }
            },
            "type": "scattergl"
           }
          ],
          "scattermapbox": [
           {
            "marker": {
             "colorbar": {
              "outlinewidth": 0,
              "ticks": ""
             }
            },
            "type": "scattermapbox"
           }
          ],
          "scatterpolar": [
           {
            "marker": {
             "colorbar": {
              "outlinewidth": 0,
              "ticks": ""
             }
            },
            "type": "scatterpolar"
           }
          ],
          "scatterpolargl": [
           {
            "marker": {
             "colorbar": {
              "outlinewidth": 0,
              "ticks": ""
             }
            },
            "type": "scatterpolargl"
           }
          ],
          "scatterternary": [
           {
            "marker": {
             "colorbar": {
              "outlinewidth": 0,
              "ticks": ""
             }
            },
            "type": "scatterternary"
           }
          ],
          "surface": [
           {
            "colorbar": {
             "outlinewidth": 0,
             "ticks": ""
            },
            "colorscale": [
             [
              0,
              "#0d0887"
             ],
             [
              0.1111111111111111,
              "#46039f"
             ],
             [
              0.2222222222222222,
              "#7201a8"
             ],
             [
              0.3333333333333333,
              "#9c179e"
             ],
             [
              0.4444444444444444,
              "#bd3786"
             ],
             [
              0.5555555555555556,
              "#d8576b"
             ],
             [
              0.6666666666666666,
              "#ed7953"
             ],
             [
              0.7777777777777778,
              "#fb9f3a"
             ],
             [
              0.8888888888888888,
              "#fdca26"
             ],
             [
              1,
              "#f0f921"
             ]
            ],
            "type": "surface"
           }
          ],
          "table": [
           {
            "cells": {
             "fill": {
              "color": "#EBF0F8"
             },
             "line": {
              "color": "white"
             }
            },
            "header": {
             "fill": {
              "color": "#C8D4E3"
             },
             "line": {
              "color": "white"
             }
            },
            "type": "table"
           }
          ]
         },
         "layout": {
          "annotationdefaults": {
           "arrowcolor": "#2a3f5f",
           "arrowhead": 0,
           "arrowwidth": 1
          },
          "autotypenumbers": "strict",
          "coloraxis": {
           "colorbar": {
            "outlinewidth": 0,
            "ticks": ""
           }
          },
          "colorscale": {
           "diverging": [
            [
             0,
             "#8e0152"
            ],
            [
             0.1,
             "#c51b7d"
            ],
            [
             0.2,
             "#de77ae"
            ],
            [
             0.3,
             "#f1b6da"
            ],
            [
             0.4,
             "#fde0ef"
            ],
            [
             0.5,
             "#f7f7f7"
            ],
            [
             0.6,
             "#e6f5d0"
            ],
            [
             0.7,
             "#b8e186"
            ],
            [
             0.8,
             "#7fbc41"
            ],
            [
             0.9,
             "#4d9221"
            ],
            [
             1,
             "#276419"
            ]
           ],
           "sequential": [
            [
             0,
             "#0d0887"
            ],
            [
             0.1111111111111111,
             "#46039f"
            ],
            [
             0.2222222222222222,
             "#7201a8"
            ],
            [
             0.3333333333333333,
             "#9c179e"
            ],
            [
             0.4444444444444444,
             "#bd3786"
            ],
            [
             0.5555555555555556,
             "#d8576b"
            ],
            [
             0.6666666666666666,
             "#ed7953"
            ],
            [
             0.7777777777777778,
             "#fb9f3a"
            ],
            [
             0.8888888888888888,
             "#fdca26"
            ],
            [
             1,
             "#f0f921"
            ]
           ],
           "sequentialminus": [
            [
             0,
             "#0d0887"
            ],
            [
             0.1111111111111111,
             "#46039f"
            ],
            [
             0.2222222222222222,
             "#7201a8"
            ],
            [
             0.3333333333333333,
             "#9c179e"
            ],
            [
             0.4444444444444444,
             "#bd3786"
            ],
            [
             0.5555555555555556,
             "#d8576b"
            ],
            [
             0.6666666666666666,
             "#ed7953"
            ],
            [
             0.7777777777777778,
             "#fb9f3a"
            ],
            [
             0.8888888888888888,
             "#fdca26"
            ],
            [
             1,
             "#f0f921"
            ]
           ]
          },
          "colorway": [
           "#636efa",
           "#EF553B",
           "#00cc96",
           "#ab63fa",
           "#FFA15A",
           "#19d3f3",
           "#FF6692",
           "#B6E880",
           "#FF97FF",
           "#FECB52"
          ],
          "font": {
           "color": "#2a3f5f"
          },
          "geo": {
           "bgcolor": "white",
           "lakecolor": "white",
           "landcolor": "#E5ECF6",
           "showlakes": true,
           "showland": true,
           "subunitcolor": "white"
          },
          "hoverlabel": {
           "align": "left"
          },
          "hovermode": "closest",
          "mapbox": {
           "style": "light"
          },
          "paper_bgcolor": "white",
          "plot_bgcolor": "#E5ECF6",
          "polar": {
           "angularaxis": {
            "gridcolor": "white",
            "linecolor": "white",
            "ticks": ""
           },
           "bgcolor": "#E5ECF6",
           "radialaxis": {
            "gridcolor": "white",
            "linecolor": "white",
            "ticks": ""
           }
          },
          "scene": {
           "xaxis": {
            "backgroundcolor": "#E5ECF6",
            "gridcolor": "white",
            "gridwidth": 2,
            "linecolor": "white",
            "showbackground": true,
            "ticks": "",
            "zerolinecolor": "white"
           },
           "yaxis": {
            "backgroundcolor": "#E5ECF6",
            "gridcolor": "white",
            "gridwidth": 2,
            "linecolor": "white",
            "showbackground": true,
            "ticks": "",
            "zerolinecolor": "white"
           },
           "zaxis": {
            "backgroundcolor": "#E5ECF6",
            "gridcolor": "white",
            "gridwidth": 2,
            "linecolor": "white",
            "showbackground": true,
            "ticks": "",
            "zerolinecolor": "white"
           }
          },
          "shapedefaults": {
           "line": {
            "color": "#2a3f5f"
           }
          },
          "ternary": {
           "aaxis": {
            "gridcolor": "white",
            "linecolor": "white",
            "ticks": ""
           },
           "baxis": {
            "gridcolor": "white",
            "linecolor": "white",
            "ticks": ""
           },
           "bgcolor": "#E5ECF6",
           "caxis": {
            "gridcolor": "white",
            "linecolor": "white",
            "ticks": ""
           }
          },
          "title": {
           "x": 0.05
          },
          "xaxis": {
           "automargin": true,
           "gridcolor": "white",
           "linecolor": "white",
           "ticks": "",
           "title": {
            "standoff": 15
           },
           "zerolinecolor": "white",
           "zerolinewidth": 2
          },
          "yaxis": {
           "automargin": true,
           "gridcolor": "white",
           "linecolor": "white",
           "ticks": "",
           "title": {
            "standoff": 15
           },
           "zerolinecolor": "white",
           "zerolinewidth": 2
          }
         }
        },
        "title": {
         "text": "Simulação de Modelo de Comunicação Wireless entre Drones"
        },
        "xaxis": {
         "autorange": false,
         "range": [
          0,
          100
         ]
        },
        "yaxis": {
         "autorange": false,
         "range": [
          0,
          80
         ]
        }
       }
      }
     },
     "metadata": {},
     "output_type": "display_data"
    }
   ],
   "source": [
    "fig = go.Figure()\n",
    "\n",
    "# Adiciona os drones\n",
    "for i in range(num_drones):\n",
    "    fig.add_trace(go.Scatter(\n",
    "        x=[posicoes[i, 0]],\n",
    "        y=[posicoes[i, 1]],\n",
    "        mode='markers+text',\n",
    "        marker=dict(size=10, color='orange' if i in afetados_pelo_jammer else 'blue'),\n",
    "        text=str(i),\n",
    "        textposition=\"bottom center\",\n",
    "        showlegend=False  # Oculta esses rastros da legenda\n",
    "    ))\n",
    "\n",
    "# Adiciona o jammer\n",
    "fig.add_trace(go.Scatter(\n",
    "    x=[posicao_jammer[0]],\n",
    "    y=[posicao_jammer[1]],\n",
    "    mode='markers',\n",
    "    marker=dict(size=12, color='red'),\n",
    "    name='Jammer'\n",
    "))\n",
    "\n",
    "# Adiciona rastros para a legenda\n",
    "fig.add_trace(go.Scatter(x=[None], y=[None], mode='markers', marker=dict(size=10, color='blue'), name=\"Nó não afetado\"))\n",
    "fig.add_trace(go.Scatter(x=[None], y=[None], mode='markers', marker=dict(size=10, color='orange'), name=\"Nó afetado\"))\n",
    "# O Jammer já está adicionado com a legenda correta\n",
    "\n",
    "# Configurações do gráfico\n",
    "fig.update_layout(\n",
    "    title=\"Simulação de Modelo de Comunicação Wireless entre Drones\",\n",
    "    xaxis=dict(range=[0, limite_x], autorange=False),\n",
    "    yaxis=dict(range=[0, limite_y], autorange=False),\n",
    "    legend_title_text='Legenda',\n",
    "    legend=dict(traceorder='normal', itemsizing='constant')\n",
    ")\n",
    "\n",
    "fig.show()"
   ]
  },
  {
   "cell_type": "markdown",
   "metadata": {},
   "source": [
    "OPEN AI GYM"
   ]
  },
  {
   "cell_type": "code",
   "execution_count": null,
   "metadata": {},
   "outputs": [],
   "source": [
    "import seaborn as sns\n",
    "import matplotlib.pyplot as plt\n",
    "\n",
    "class UAVCommunicationEnv(gym.Env):\n",
    "    metadata = {'render.modes': ['human']}\n",
    "\n",
    "    def __init__(self, num_uavs=num_drones, area_size=(100, 100)):\n",
    "        super(UAVCommunicationEnv, self).__init__()\n",
    "        self.num_uavs = num_uavs\n",
    "        self.area_size = area_size\n",
    "        self.posicoes = posicoes\n",
    "        self.posicao_jammer = posicao_jammer\n",
    "        self.afetados_pelo_jammer=afetados_pelo_jammer\n",
    "        self.prx_resultados=prx_resultados\n",
    "        self.B_Hz = B_Hz  # Largura de banda\n",
    "        self.capacidade_bps = capacidade_dict\n",
    "        self.ultimo_info = {}\n",
    "        \n",
    "        self.ultima_acao = np.zeros(self.num_uavs, dtype=int)\n",
    "        \n",
    "        \n",
    "\n",
    "        self.action_space = spaces.MultiDiscrete([num_uavs] * num_uavs)\n",
    "        \n",
    "        # O estado agora inclui somente as direções de comunicação (índices dos UAVs-alvo)\n",
    "        self.observation_space = spaces.Discrete(num_uavs ** num_uavs)\n",
    "        \n",
    "        self.ultima_acao = np.zeros(num_uavs, dtype=int)  # Inicializa com todos os UAVs não comunicando\n",
    "\n",
    "    def step(self, action):\n",
    "        # Ajuste de ação para garantir que nenhum drone esteja se comunicando consigo mesmo\n",
    "        for i in range(self.num_uavs):\n",
    "            while action[i] == i:\n",
    "                action[i] = np.random.choice([x for x in range(self.num_uavs) if x != i])\n",
    "\n",
    "        self.ultima_acao = np.array(action)\n",
    "\n",
    "        # Recalcular a capacidade mínima e média a partir das ações\n",
    "        capacidades_selecionadas = []\n",
    "\n",
    "        for i, destino in enumerate(action):\n",
    "            chave = (i, destino)\n",
    "            capacidade = self.capacidade_bps.get(chave, 0)\n",
    "            capacidades_selecionadas.append(capacidade)\n",
    "\n",
    "        capacidade_media = np.mean(capacidades_selecionadas) if capacidades_selecionadas else 0\n",
    "        capacidade_min = np.min(capacidades_selecionadas) if capacidades_selecionadas else 0\n",
    "\n",
    "        recompensa = 0.4 * capacidade_media + 0.3 * capacidade_min\n",
    "\n",
    "        done = False  # Indicar se o episódio terminou\n",
    "\n",
    "        info = {\n",
    "            'Recompensa': recompensa,\n",
    "            'capacidade_media': capacidade_media,\n",
    "            'capacidade_min': capacidade_min,\n",
    "            'capacidades_selecionadas': capacidades_selecionadas\n",
    "        }\n",
    "\n",
    "        self.ultimo_info = info\n",
    "\n",
    "        return self.ultima_acao, recompensa, done, info\n",
    "\n",
    "    \n",
    "    \n",
    "    def render(self, mode='human'):\n",
    "\n",
    "        sns.set(style=\"whitegrid\")\n",
    "        fig, ax = plt.subplots(figsize=(9, 4))\n",
    "\n",
    "        # Desenha os drones no gráfico\n",
    "        for i, pos in enumerate(self.posicoes):\n",
    "            color = 'blue'  # Cor padrão para todos os drones\n",
    "            ax.scatter(pos[0], pos[1], color=color, s=100, label='Drone' if i == 0 else \"\")\n",
    "            ax.text(pos[0], pos[1] - 2, f'{i}', horizontalalignment='center', color='white', fontweight='bold')\n",
    "\n",
    "        # Preparando para coletar capacidades para a legenda\n",
    "        capacidades_texto = []\n",
    "\n",
    "        # Desenha as linhas de comunicação e setas\n",
    "        for i, destino in enumerate(self.ultima_acao):\n",
    "            if destino != i:  # Evita que um drone se comunique consigo mesmo\n",
    "                pos_inicio = self.posicoes[i]\n",
    "                pos_final = self.posicoes[destino]\n",
    "                ax.plot([pos_inicio[0], pos_final[0]], [pos_inicio[1], pos_final[1]], 'b--', alpha=0.5)\n",
    "\n",
    "                # Calcula a direção para a seta\n",
    "                direcao = pos_final - pos_inicio\n",
    "                direcao_norm = direcao / np.linalg.norm(direcao)\n",
    "                # Define o comprimento da seta\n",
    "                comprimento_seta = 5\n",
    "                ponto_final_seta = pos_inicio + direcao_norm * comprimento_seta\n",
    "\n",
    "                # Desenha a seta\n",
    "                ax.arrow(pos_inicio[0], pos_inicio[1], ponto_final_seta[0] - pos_inicio[0], ponto_final_seta[1] - pos_inicio[1], \n",
    "                        head_width=2, head_length=2, fc='b', ec='b')\n",
    "\n",
    "                # Coleta capacidades para a legenda\n",
    "                capacidade = self.capacidade_bps.get((i, destino), 0)  # Assume 0 se não definido\n",
    "                capacidades_texto.append(f'Drone {i} para {destino}: {capacidade:.2f} Mbps')\n",
    "\n",
    "        # Desenha o jammer\n",
    "        ax.scatter(self.posicao_jammer[0], self.posicao_jammer[1], color='red', s=100, marker='o', label='Jammer')\n",
    "\n",
    "        # Adiciona capacidades na legenda\n",
    "        if capacidades_texto:\n",
    "            for texto in capacidades_texto:\n",
    "                ax.plot([], [], ' ', label=texto)\n",
    "\n",
    "        # Configurações finais do gráfico\n",
    "        ax.set_xlabel('X')\n",
    "        ax.set_ylabel('Y')\n",
    "        ax.set_xlim(0, self.area_size[0])\n",
    "        ax.set_ylim(0, self.area_size[1])\n",
    "        plt.title('Comunicação UAV com Jammer')\n",
    "        ax.legend(loc='center left', bbox_to_anchor=(1, 0.5), fontsize='small')\n",
    "        plt.show()\n",
    "\n",
    "\n",
    "def reset(self):\n",
    "    # Estado inicial\n",
    "    self.ultima_acao = np.zeros(self.num_uavs, dtype=int)  # Reset action\n",
    "    \n",
    "    # Retorna um estado e informações (no caso, informação sobre recompensas e capacidades)\n",
    "    obs = self.ultima_acao  # Estado inicial\n",
    "    print('ahahhahaha',obs)\n",
    "    info = {}  # Garantir que um dicionário vazio seja retornado se `ultimo_info` for None\n",
    "    \n",
    "    if self.ultimo_info:\n",
    "        info.update(self.ultimo_info)  # Se existir, atualiza as informações\n",
    "    \n",
    "    return obs, info\n",
    "\n",
    "\n",
    "\n",
    "\n",
    "    \n"
   ]
  },
  {
   "cell_type": "code",
   "execution_count": null,
   "metadata": {},
   "outputs": [],
   "source": [
    "# env = UAVCommunicationEnv()\n",
    "\n",
    "# # Testar a função `reset()`\n",
    "# state, info = env.reset()  # Deve retornar uma tupla\n",
    "\n",
    "# print(\"Estado inicial:\", state)\n",
    "# print(\"Informações iniciais:\", info)  # Verificar se é uma tupla"
   ]
  },
  {
   "cell_type": "code",
   "execution_count": null,
   "metadata": {},
   "outputs": [
    {
     "data": {
      "image/png": "[encoded data removed]",
      "text/plain": [
       "<Figure size 900x400 with 1 Axes>"
      ]
     },
     "metadata": {},
     "output_type": "display_data"
    },
    {
     "name": "stdout",
     "output_type": "stream",
     "text": [
      "[7 8 8 6 5 8 7 0 0]\n",
      "{'Recompensa': 12.125458288435341, 'capacidade_media': 30.221028197203207, 'capacidade_min': 0.12349003184686126, 'capacidades_selecionadas': [1.614198381668773, 9.701641769467681, 57.21960767166655, 0.12349003184686126, 0.49792043270810005, 2.7387150766903257, 74.42653866670169, 11.196368351969781, 114.47077339210908]}\n"
     ]
    }
   ],
   "source": [
    "env = UAVCommunicationEnv()\n",
    "\n",
    "state = env.reset()\n",
    "done = False\n",
    "while not done:\n",
    "    action = env.action_space.sample()  # Exemplo: escolha uma ação aleatoriamente\n",
    "    state, reward, done, info = env.step(action)\n",
    "    env.render()  # Chame render a cada passo para visualizar\n",
    "    \n",
    "    print(state)\n",
    "    print(info)\n",
    "    done=True\n"
   ]
  },
  {
   "cell_type": "markdown",
   "metadata": {},
   "source": [
    "Algoritmo Genético"
   ]
  },
  {
   "cell_type": "code",
   "execution_count": null,
   "metadata": {},
   "outputs": [
    {
     "name": "stdout",
     "output_type": "stream",
     "text": [
      "Generation 0: Best Fitness = 9.95966221047446\n",
      "Generation 1: Best Fitness = 12.370586574803056\n",
      "Generation 2: Best Fitness = 13.341240197364332\n",
      "Generation 3: Best Fitness = 13.439506807331513\n",
      "Generation 4: Best Fitness = 13.405656102611985\n",
      "Generation 5: Best Fitness = 14.246905950622372\n",
      "Generation 6: Best Fitness = 14.279173909022083\n",
      "Generation 7: Best Fitness = 14.621224738692224\n",
      "Generation 8: Best Fitness = 14.621224738692224\n",
      "Generation 9: Best Fitness = 14.635063854948982\n",
      "Generation 10: Best Fitness = 14.635063854948982\n",
      "Generation 11: Best Fitness = 15.653944253929428\n",
      "Generation 12: Best Fitness = 15.653944253929428\n",
      "Generation 13: Best Fitness = 15.653944253929428\n",
      "Generation 14: Best Fitness = 15.653944253929428\n",
      "Generation 15: Best Fitness = 15.653944253929428\n",
      "Generation 16: Best Fitness = 15.709089258591318\n",
      "Generation 17: Best Fitness = 15.709089258591318\n",
      "Generation 18: Best Fitness = 15.709089258591318\n",
      "Generation 19: Best Fitness = 15.709089258591318\n",
      "Generation 20: Best Fitness = 15.709089258591318\n",
      "Generation 21: Best Fitness = 15.880883544055507\n",
      "Generation 22: Best Fitness = 15.936028548717397\n",
      "Generation 23: Best Fitness = 15.936028548717397\n",
      "Generation 24: Best Fitness = 15.936028548717397\n",
      "Generation 25: Best Fitness = 15.936028548717397\n",
      "Generation 26: Best Fitness = 15.936028548717397\n",
      "Generation 27: Best Fitness = 15.936028548717397\n",
      "Generation 28: Best Fitness = 15.936028548717397\n",
      "Generation 29: Best Fitness = 15.936028548717397\n",
      "Generation 30: Best Fitness = 15.936028548717397\n",
      "Generation 31: Best Fitness = 15.936028548717397\n",
      "Generation 32: Best Fitness = 15.936028548717397\n",
      "Generation 33: Best Fitness = 15.936028548717397\n",
      "Generation 34: Best Fitness = 15.936028548717397\n",
      "Generation 35: Best Fitness = 15.936028548717397\n",
      "Generation 36: Best Fitness = 15.936028548717397\n",
      "Generation 37: Best Fitness = 15.936028548717397\n",
      "Generation 38: Best Fitness = 15.936028548717397\n",
      "Generation 39: Best Fitness = 15.936028548717397\n",
      "Generation 40: Best Fitness = 15.936028548717397\n",
      "Generation 41: Best Fitness = 15.936028548717397\n",
      "Generation 42: Best Fitness = 15.936028548717397\n",
      "Generation 43: Best Fitness = 15.936028548717397\n",
      "Generation 44: Best Fitness = 15.936028548717397\n",
      "Generation 45: Best Fitness = 15.936028548717397\n",
      "Generation 46: Best Fitness = 15.936028548717397\n",
      "Generation 47: Best Fitness = 15.936028548717397\n",
      "Generation 48: Best Fitness = 15.936028548717397\n",
      "Generation 49: Best Fitness = 15.936028548717397\n",
      "Generation 50: Best Fitness = 15.936028548717397\n",
      "Generation 51: Best Fitness = 15.936028548717397\n",
      "Generation 52: Best Fitness = 15.936028548717397\n",
      "Generation 53: Best Fitness = 15.936028548717397\n",
      "Generation 54: Best Fitness = 15.936028548717397\n",
      "Generation 55: Best Fitness = 15.936028548717397\n",
      "Generation 56: Best Fitness = 15.936028548717397\n",
      "Generation 57: Best Fitness = 15.936028548717397\n",
      "Generation 58: Best Fitness = 15.936028548717397\n",
      "Generation 59: Best Fitness = 15.936028548717397\n",
      "Generation 60: Best Fitness = 15.936028548717397\n",
      "Generation 61: Best Fitness = 15.936028548717397\n",
      "Generation 62: Best Fitness = 15.936028548717397\n",
      "Generation 63: Best Fitness = 15.936028548717397\n",
      "Generation 64: Best Fitness = 15.936028548717397\n",
      "Generation 65: Best Fitness = 15.936028548717397\n",
      "Generation 66: Best Fitness = 15.936028548717397\n",
      "Generation 67: Best Fitness = 15.936028548717397\n",
      "Generation 68: Best Fitness = 15.936028548717397\n",
      "Generation 69: Best Fitness = 15.936028548717397\n",
      "Generation 70: Best Fitness = 15.936028548717397\n",
      "Generation 71: Best Fitness = 15.936028548717397\n",
      "Generation 72: Best Fitness = 15.936028548717397\n",
      "Generation 73: Best Fitness = 15.936028548717397\n",
      "Generation 74: Best Fitness = 15.936028548717397\n",
      "Generation 75: Best Fitness = 15.936028548717397\n",
      "Generation 76: Best Fitness = 15.936028548717397\n",
      "Generation 77: Best Fitness = 15.936028548717397\n",
      "Generation 78: Best Fitness = 15.936028548717397\n",
      "Generation 79: Best Fitness = 15.936028548717397\n",
      "Generation 80: Best Fitness = 15.936028548717397\n",
      "Generation 81: Best Fitness = 15.936028548717397\n",
      "Generation 82: Best Fitness = 15.936028548717397\n",
      "Generation 83: Best Fitness = 15.936028548717397\n",
      "Generation 84: Best Fitness = 15.936028548717397\n",
      "Generation 85: Best Fitness = 15.936028548717397\n",
      "Generation 86: Best Fitness = 15.936028548717397\n",
      "Generation 87: Best Fitness = 15.936028548717397\n",
      "Generation 88: Best Fitness = 15.936028548717397\n",
      "Generation 89: Best Fitness = 15.936028548717397\n",
      "Generation 90: Best Fitness = 15.936028548717397\n",
      "Generation 91: Best Fitness = 15.936028548717397\n",
      "Generation 92: Best Fitness = 15.936028548717397\n",
      "Generation 93: Best Fitness = 15.936028548717397\n",
      "Generation 94: Best Fitness = 15.936028548717397\n",
      "Generation 95: Best Fitness = 15.936028548717397\n",
      "Generation 96: Best Fitness = 15.936028548717397\n",
      "Generation 97: Best Fitness = 15.936028548717397\n",
      "Generation 98: Best Fitness = 15.936028548717397\n",
      "Generation 99: Best Fitness = 15.936028548717397\n"
     ]
    },
    {
     "data": {
      "image/png": "[encoded data removed]",
      "text/plain": [
       "<Figure size 900x400 with 1 Axes>"
      ]
     },
     "metadata": {},
     "output_type": "display_data"
    },
    {
     "name": "stdout",
     "output_type": "stream",
     "text": [
      "Melhor solução: [8, 0, 7, 1, 3, 6, 7, 8, 0]\n",
      "Detalhes da melhor solução: {'Recompensa': 15.936028548717397, 'capacidade_media': 37.02210687925056, 'capacidade_min': 3.757285990057243, 'capacidades_selecionadas': [4.704077251780876, 10.94240437436022, 63.31523002824431, 21.77994945544772, 8.228854954278265, 3.757285990057243, 74.42653866670169, 31.573847800275637, 114.47077339210908]}\n"
     ]
    }
   ],
   "source": [
    "import random\n",
    "\n",
    "\n",
    "class GeneticAlgorithm:\n",
    "    def __init__(self, env, population_size=50, generations=100, mutation_rate=0.1):\n",
    "        self.env = env\n",
    "        self.population_size = population_size\n",
    "        self.generations = generations\n",
    "        self.mutation_rate = mutation_rate\n",
    "        self.population = [self.random_chromosome() for _ in range(population_size)]\n",
    "\n",
    "    def random_chromosome(self):\n",
    "        return [random.randint(0, self.env.action_space.nvec[i] - 1) for i in range(self.env.num_uavs)]\n",
    "\n",
    "    def evaluate_fitness(self, chromosome):\n",
    "        self.env.reset()\n",
    "        self.env.ultima_acao = chromosome\n",
    "        _, reward, _, info = self.env.step(chromosome)\n",
    "        return reward, info\n",
    "\n",
    "    def select(self):\n",
    "        tournament_size = 5\n",
    "        selected = []\n",
    "        fitness_scores = [self.evaluate_fitness(chromosome) for chromosome in self.population]\n",
    "        for _ in range(self.population_size):\n",
    "            contenders = random.sample(list(enumerate(fitness_scores)), tournament_size)\n",
    "            winner_index, _ = max(contenders, key=lambda item: item[1][0])\n",
    "            selected.append(self.population[winner_index])\n",
    "        return selected\n",
    "\n",
    "    def crossover(self, parent1, parent2):\n",
    "        point = random.randint(1, self.env.num_uavs - 1)\n",
    "        return parent1[:point] + parent2[point:], parent2[:point] + parent1[point:]\n",
    "\n",
    "    def mutate(self, chromosome):\n",
    "        for i in range(len(chromosome)):\n",
    "            if random.random() < self.mutation_rate:\n",
    "                chromosome[i] = random.randint(0, self.env.action_space.nvec[i] - 1)\n",
    "        return chromosome\n",
    "\n",
    "    def run(self):\n",
    "        best_info = None\n",
    "        for generation in range(self.generations):\n",
    "            new_population = []\n",
    "            parents = self.select()\n",
    "            while len(new_population) < self.population_size:\n",
    "                parent1, parent2 = random.sample(parents, 2)\n",
    "                child1, child2 = self.crossover(parent1, parent2)\n",
    "                new_population.extend([self.mutate(child1), self.mutate(child2)])\n",
    "            self.population = new_population[:self.population_size]\n",
    "            fitness_scores = [self.evaluate_fitness(chrom) for chrom in self.population]\n",
    "            best_fitness, best_info = max(fitness_scores, key=lambda x: x[0])\n",
    "            print(f\"Generation {generation}: Best Fitness = {best_fitness}\")\n",
    "        best_solution_index = max(range(len(self.population)), key=lambda i: fitness_scores[i][0])\n",
    "        best_solution = self.population[best_solution_index]\n",
    "        return best_solution, best_info\n",
    "\n",
    "# Inicia o ambiente e o algoritmo genético\n",
    "env = UAVCommunicationEnv()\n",
    "ga = GeneticAlgorithm(env)\n",
    "\n",
    "# Executa o algoritmo e obtém a melhor solução e informações\n",
    "best_solution, best_info = ga.run()\n",
    "\n",
    "# Renderiza a melhor solução\n",
    "env.ultima_acao = best_solution\n",
    "env.render()\n",
    "\n",
    "# Imprime informações detalhadas sobre a melhor solução\n",
    "print(\"Melhor solução:\", best_solution)\n",
    "print(\"Detalhes da melhor solução:\", best_info)\n"
   ]
  }
 ],
 "metadata": {
  "kernelspec": {
   "display_name": "base",
   "language": "python",
   "name": "python3"
  },
  "language_info": {
   "codemirror_mode": {
    "name": "ipython",
    "version": 3
   },
   "file_extension": ".py",
   "mimetype": "text/x-python",
   "name": "python",
   "nbconvert_exporter": "python",
   "pygments_lexer": "ipython3",
   "version": "3.11.7"
  }
 },
 "nbformat": 4,
 "nbformat_minor": 2
}
