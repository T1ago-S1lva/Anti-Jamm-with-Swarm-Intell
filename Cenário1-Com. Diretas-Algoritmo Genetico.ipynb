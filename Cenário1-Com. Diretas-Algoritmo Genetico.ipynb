{
 "cells": [
  {
   "cell_type": "code",
   "execution_count": 1,
   "metadata": {},
   "outputs": [
    {
     "name": "stderr",
     "output_type": "stream",
     "text": [
      "c:\\Users\\tass\\anaconda3\\Lib\\site-packages\\plotly\\express\\imshow_utils.py:24: DeprecationWarning:\n",
      "\n",
      "`np.bool8` is a deprecated alias for `np.bool_`.  (Deprecated NumPy 1.24)\n",
      "\n"
     ]
    }
   ],
   "source": [
    "import gym\n",
    "from gym import Env, spaces\n",
    "\n",
    "import numpy as np\n",
    "import seaborn as sns\n",
    "from plotly.offline import iplot\n",
    "import matplotlib.pyplot as plt\n",
    "import plotly.graph_objects as go\n",
    "import plotly.express as px\n",
    "import pandas as pd"
   ]
  },
  {
   "cell_type": "markdown",
   "metadata": {},
   "source": [
    "Configurar o Enxame\n"
   ]
  },
  {
   "cell_type": "code",
   "execution_count": 2,
   "metadata": {},
   "outputs": [],
   "source": [
    "num_drones = 6\n",
    "limite_y = 80\n",
    "limite_x = 100\n",
    "\n",
    "alcance_comunicacao_jammer = 25\n",
    "alcance_comunicacao_nos=500\n",
    "B_Hz = 2.4e9  # Largura de banda\n",
    "\n",
    "# Posições estáticas dos drones\n",
    "posicoes = np.array([[16, 30], [18, 48], [44, 15], [23, 73], [45, 73], [50, 50]])\n",
    "\n",
    "posicao_jammer = np.array([38,53])\n",
    "\n"
   ]
  },
  {
   "cell_type": "markdown",
   "metadata": {},
   "source": [
    "ENCONTRAR VIZINHOS E NOS AFETADOS"
   ]
  },
  {
   "cell_type": "code",
   "execution_count": 3,
   "metadata": {},
   "outputs": [
    {
     "name": "stdout",
     "output_type": "stream",
     "text": [
      "Nos Vizinhos: {0: [1, 2, 3, 4, 5], 1: [0, 2, 3, 4, 5], 2: [0, 1, 3, 4, 5], 3: [0, 1, 2, 4, 5], 4: [0, 1, 2, 3, 5], 5: [0, 1, 2, 3, 4]}\n",
      "Nos Afetados Jammer: [1, 3, 4, 5]\n"
     ]
    }
   ],
   "source": [
    "def distancia(pos1, pos2):\n",
    "    return np.sqrt((pos1[0] - pos2[0])**2 + (pos1[1] - pos2[1])**2)\n",
    "# Preparando a figura\n",
    "\n",
    "def encontra_vizinhos(posicoes, alcance_comunicacao_nos):\n",
    "    num_drones = posicoes.shape[0]\n",
    "    vizinhos = {}\n",
    "    for i in range(num_drones):\n",
    "        vizinhos[i] = []\n",
    "        for j in range(num_drones):\n",
    "            if i != j and distancia(posicoes[i], posicoes[j]) <= alcance_comunicacao_nos:\n",
    "                vizinhos[i].append(j)\n",
    "    return vizinhos\n",
    "\n",
    "def verifica_jammer(posicoes, posicao_jammer, alcance_comunicacao_jammer):\n",
    "    afetados_pelo_jammer = []\n",
    "    for i in range(posicoes.shape[0]):\n",
    "        if distancia(posicoes[i], posicao_jammer) <= alcance_comunicacao_jammer:\n",
    "            afetados_pelo_jammer.append(i)\n",
    "    return afetados_pelo_jammer\n",
    "\n",
    "vizinhos = encontra_vizinhos(posicoes, alcance_comunicacao_nos)\n",
    "afetados_pelo_jammer = verifica_jammer(posicoes, posicao_jammer, alcance_comunicacao_jammer)\n",
    "\n",
    "print('Nos Vizinhos:', vizinhos)\n",
    "print('Nos Afetados Jammer:', afetados_pelo_jammer)"
   ]
  },
  {
   "cell_type": "markdown",
   "metadata": {},
   "source": [
    "CALCULA AS POTENCIAS DE RECEÇÃO"
   ]
  },
  {
   "cell_type": "code",
   "execution_count": 4,
   "metadata": {},
   "outputs": [
    {
     "name": "stdout",
     "output_type": "stream",
     "text": [
      "resultadosPRX {'Drone 0 para Vizinho 1': -15.20473545739759, 'Drone 0 para Vizinho 2': -20.084908682649896, 'Drone 0 para Vizinho 3': -22.828959101193533, 'Drone 0 para Vizinho 4': -24.343519820304877, 'Drone 0 para Vizinho 5': -21.966092946817497, 'Drone 1 para Vizinho 0': -15.20473545739759, 'Drone 1 para Vizinho 2': -22.513444117519214, 'Drone 1 para Vizinho 3': -18.175130586709358, 'Drone 1 para Vizinho 4': -21.362183663772058, 'Drone 1 para Vizinho 5': -20.16592816687337, 'Drone 2 para Vizinho 0': -20.084908682649896, 'Drone 2 para Vizinho 1': -22.513444117519214, 'Drone 2 para Vizinho 3': -25.84954363134672, 'Drone 2 para Vizinho 4': -25.315847705880756, 'Drone 2 para Vizinho 5': -21.053147886011615, 'Drone 3 para Vizinho 0': -22.828959101193533, 'Drone 3 para Vizinho 1': -18.175130586709358, 'Drone 3 para Vizinho 2': -25.84954363134672, 'Drone 3 para Vizinho 4': -16.894450636724926, 'Drone 3 para Vizinho 5': -21.0428034313733, 'Drone 4 para Vizinho 0': -24.343519820304877, 'Drone 4 para Vizinho 1': -21.362183663772058, 'Drone 4 para Vizinho 2': -25.315847705880756, 'Drone 4 para Vizinho 3': -16.894450636724926, 'Drone 4 para Vizinho 5': -17.48109466756509, 'Drone 5 para Vizinho 0': -21.966092946817497, 'Drone 5 para Vizinho 1': -20.16592816687337, 'Drone 5 para Vizinho 2': -21.053147886011615, 'Drone 5 para Vizinho 3': -21.0428034313733, 'Drone 5 para Vizinho 4': -17.48109466756509}\n",
      "Drone 0 para Vizinho 1: Prx = -15.20 dBm\n",
      "Drone 0 para Vizinho 2: Prx = -20.08 dBm\n",
      "Drone 0 para Vizinho 3: Prx = -22.83 dBm\n",
      "Drone 0 para Vizinho 4: Prx = -24.34 dBm\n",
      "Drone 0 para Vizinho 5: Prx = -21.97 dBm\n",
      "Drone 1 para Vizinho 0: Prx = -15.20 dBm\n",
      "Drone 1 para Vizinho 2: Prx = -22.51 dBm\n",
      "Drone 1 para Vizinho 3: Prx = -18.18 dBm\n",
      "Drone 1 para Vizinho 4: Prx = -21.36 dBm\n",
      "Drone 1 para Vizinho 5: Prx = -20.17 dBm\n",
      "Drone 2 para Vizinho 0: Prx = -20.08 dBm\n",
      "Drone 2 para Vizinho 1: Prx = -22.51 dBm\n",
      "Drone 2 para Vizinho 3: Prx = -25.85 dBm\n",
      "Drone 2 para Vizinho 4: Prx = -25.32 dBm\n",
      "Drone 2 para Vizinho 5: Prx = -21.05 dBm\n",
      "Drone 3 para Vizinho 0: Prx = -22.83 dBm\n",
      "Drone 3 para Vizinho 1: Prx = -18.18 dBm\n",
      "Drone 3 para Vizinho 2: Prx = -25.85 dBm\n",
      "Drone 3 para Vizinho 4: Prx = -16.89 dBm\n",
      "Drone 3 para Vizinho 5: Prx = -21.04 dBm\n",
      "Drone 4 para Vizinho 0: Prx = -24.34 dBm\n",
      "Drone 4 para Vizinho 1: Prx = -21.36 dBm\n",
      "Drone 4 para Vizinho 2: Prx = -25.32 dBm\n",
      "Drone 4 para Vizinho 3: Prx = -16.89 dBm\n",
      "Drone 4 para Vizinho 5: Prx = -17.48 dBm\n",
      "Drone 5 para Vizinho 0: Prx = -21.97 dBm\n",
      "Drone 5 para Vizinho 1: Prx = -20.17 dBm\n",
      "Drone 5 para Vizinho 2: Prx = -21.05 dBm\n",
      "Drone 5 para Vizinho 3: Prx = -21.04 dBm\n",
      "Drone 5 para Vizinho 4: Prx = -17.48 dBm\n"
     ]
    }
   ],
   "source": [
    "Ptx_dBm = 30 \n",
    "Gtx_dBi =10\n",
    "Grx_dBi =10\n",
    "f = 2.4e9 \n",
    "B_Hz= 2.4e9\n",
    "d0=1\n",
    "gamma=2\n",
    "\n",
    "\n",
    "def calcular_Prx_dB(Ptx_dBm, Gtx_dBi, Grx_dBi, d,d0,gamma, f):\n",
    "    \"\"\"\n",
    "    Calcula a potência do sinal recebido usando a equação de Friis.\n",
    "    \"\"\"\n",
    "    c = 3e8  # Velocidade da luz em m/s\n",
    "    lambda_m = c / f  # Comprimento de onda\n",
    "    L = (4 * np.pi * d / lambda_m)**2\n",
    "    Prx_dBm = Ptx_dBm + Gtx_dBi + Grx_dBi - 10 * np.log10(L)\n",
    "    return Prx_dBm\n",
    "\n",
    "\n",
    "def calcular_potencia_recebida_vizinhos(vizinhos, posicoes):\n",
    "    prx_resultados = {}\n",
    "    for drone, seus_vizinhos in vizinhos.items():\n",
    "        for vizinho in seus_vizinhos:\n",
    "            d = distancia(posicoes[drone], posicoes[vizinho])\n",
    "            prx = calcular_Prx_dB(Ptx_dBm, Gtx_dBi, Grx_dBi, d,d0,gamma, f)\n",
    "            prx_resultados[f\"Drone {drone} para Vizinho {vizinho}\"] = prx\n",
    "    return prx_resultados\n",
    "\n",
    "prx_resultados = calcular_potencia_recebida_vizinhos(vizinhos, posicoes)\n",
    "print('resultadosPRX',prx_resultados)\n",
    "\n",
    "# Exibir os resultados\n",
    "for chave, prx in prx_resultados.items():\n",
    "    print(f\"{chave}: Prx = {prx:.2f} dBm\")\n",
    "    \n",
    "    \n",
    "\n",
    "\n"
   ]
  },
  {
   "cell_type": "markdown",
   "metadata": {},
   "source": [
    "CALCULAR AS CAPACIDADES\n",
    "\n",
    "Usei como modelo de antena a seguinte imagem:\n",
    "\n",
    "\n",
    "Os ganhos para cada posição angular estão guaradados em 'ganhos.csv'"
   ]
  },
  {
   "cell_type": "code",
   "execution_count": 5,
   "metadata": {},
   "outputs": [],
   "source": [
    "potencia_jammer_dBm =80\n",
    "ganho_transmissão_jammer=0\n",
    "HPBW=60\n",
    "ganho_maximo_antena_dBi=10"
   ]
  },
  {
   "cell_type": "code",
   "execution_count": 6,
   "metadata": {},
   "outputs": [
    {
     "name": "stdout",
     "output_type": "stream",
     "text": [
      "Capacidade do canal entre Drone 0 e Drone 1: 2.56 Mbps\n",
      "Capacidade do canal entre Drone 0 e Drone 2: 24.69 Mbps\n",
      "Capacidade do canal entre Drone 0 e Drone 3: 0.40 Mbps\n",
      "Capacidade do canal entre Drone 0 e Drone 4: 0.14 Mbps\n",
      "Capacidade do canal entre Drone 0 e Drone 5: 0.26 Mbps\n",
      "Capacidade do canal entre Drone 1 e Drone 0: 139.04 Mbps\n",
      "Capacidade do canal entre Drone 1 e Drone 2: 2.68 Mbps\n",
      "Capacidade do canal entre Drone 1 e Drone 3: 6.60 Mbps\n",
      "Capacidade do canal entre Drone 1 e Drone 4: 0.19 Mbps\n",
      "Capacidade do canal entre Drone 1 e Drone 5: 0.15 Mbps\n",
      "Capacidade do canal entre Drone 2 e Drone 0: 4.03 Mbps\n",
      "Capacidade do canal entre Drone 2 e Drone 1: 0.50 Mbps\n",
      "Capacidade do canal entre Drone 2 e Drone 3: 0.14 Mbps\n",
      "Capacidade do canal entre Drone 2 e Drone 4: 0.16 Mbps\n",
      "Capacidade do canal entre Drone 2 e Drone 5: 0.50 Mbps\n",
      "Capacidade do canal entre Drone 3 e Drone 0: 0.40 Mbps\n",
      "Capacidade do canal entre Drone 3 e Drone 1: 1.49 Mbps\n",
      "Capacidade do canal entre Drone 3 e Drone 2: 0.07 Mbps\n",
      "Capacidade do canal entre Drone 3 e Drone 4: 3.55 Mbps\n",
      "Capacidade do canal entre Drone 3 e Drone 5: 0.19 Mbps\n",
      "Capacidade do canal entre Drone 4 e Drone 0: 0.07 Mbps\n",
      "Capacidade do canal entre Drone 4 e Drone 1: 0.19 Mbps\n",
      "Capacidade do canal entre Drone 4 e Drone 2: 0.06 Mbps\n",
      "Capacidade do canal entre Drone 4 e Drone 3: 16.97 Mbps\n",
      "Capacidade do canal entre Drone 4 e Drone 5: 0.57 Mbps\n",
      "Capacidade do canal entre Drone 5 e Drone 0: 0.11 Mbps\n",
      "Capacidade do canal entre Drone 5 e Drone 1: 0.06 Mbps\n",
      "Capacidade do canal entre Drone 5 e Drone 2: 26.41 Mbps\n",
      "Capacidade do canal entre Drone 5 e Drone 3: 0.07 Mbps\n",
      "Capacidade do canal entre Drone 5 e Drone 4: 2.53 Mbps\n",
      "O bottleneck da rota é: 0.06 Mbps\n",
      "{(0, 1): 2.5642511351969013, (0, 2): 24.691904979102656, (0, 3): 0.39964460459551987, (0, 4): 0.1381129126960857, (0, 5): 0.2588030573587973, (1, 0): 139.04379494959525, (1, 2): 2.6844890295175814, (1, 3): 6.598534079533961, (1, 4): 0.18756175314899198, (1, 5): 0.15338114546109793, (2, 0): 4.03184149323067, (2, 1): 0.5010388057340338, (2, 3): 0.14430579935294663, (2, 4): 0.16317446372026942, (2, 5): 0.4999206275137877, (3, 0): 0.40452393215093885, (3, 1): 1.4868227325854841, (3, 2): 0.06529907686609888, (3, 4): 3.54975023199518, (3, 5): 0.18861374055808483, (4, 0): 0.06635530965701941, (4, 1): 0.19054673308228706, (4, 2): 0.055544820756619345, (4, 3): 16.971567684700503, (4, 5): 0.5663525208350879, (5, 0): 0.10766160920125244, (5, 1): 0.061955549228843415, (5, 2): 26.406146111620625, (5, 3): 0.06597698002726786, (5, 4): 2.5258585667590063}\n"
     ]
    }
   ],
   "source": [
    "\n",
    "\n",
    "def calcular_angulo(pos_drone, orientacao_drone, pos_jammer):\n",
    "    \"\"\"\n",
    "    Calcula o ângulo entre a direção do jammer e a orientação da antena do drone.\n",
    "\n",
    "    :param pos_drone: Posição do drone (x, y).\n",
    "    :param orientacao_drone: Orientação do drone em graus (0-360).\n",
    "    :param pos_jammer: Posição do jammer (x, y).\n",
    "    :return: Ângulo em graus.\n",
    "    \"\"\"\n",
    "    vetor_drone = np.array([np.cos(np.radians(orientacao_drone)), np.sin(np.radians(orientacao_drone))])\n",
    "    vetor_jammer = np.array(pos_jammer) - np.array(pos_drone)\n",
    "    vetor_jammer_normalizado = vetor_jammer / np.linalg.norm(vetor_jammer)\n",
    "    \n",
    "    dot_product = np.dot(vetor_drone, vetor_jammer_normalizado)\n",
    "    angle = np.arccos(dot_product)\n",
    "    \n",
    "    return np.degrees(angle)\n",
    "\n",
    "\n",
    "\n",
    "def calcular_Grx_dBi(angulo, HPBW, max_gain_dBi):\n",
    "    # Carrega os dados do documento\n",
    "    ganhos = pd.read_csv(\"C:/Users/tass/OneDrive - EXÉRCITO PORTUGUÊS/Ambiente de Trabalho/Tese/Simulaçãoes/ganhos.csv\")\n",
    "\n",
    "    # Arredonda e normaliza o ângulo para 0-359\n",
    "    angulo = round(angulo) % 360\n",
    "\n",
    "    # Verifique se o ângulo é um índice válido\n",
    "    if angulo in ganhos.index:\n",
    "        ganho = ganhos.loc[angulo, \"ganho\"]\n",
    "    else:\n",
    "        raise KeyError(f\"O ângulo {angulo} não está no índice do arquivo CSV\")\n",
    "\n",
    "    return ganho\n",
    "\n",
    "def calcular_capacidade_canal(Prx_dBm, B_Hz, N_dBm):\n",
    "    \"\"\"\n",
    "    Calcula a capacidade do canal usando o teorema de Shannon-Hartley.\n",
    "\n",
    "    :param Prx_dBm: Potência do sinal recebido em dBm.\n",
    "    :param B_Hz: Largura de banda do canal em Hertz.\n",
    "    :param N_dBm: Potência do ruído em dBm.\n",
    "    :return: Capacidade do canal em bits por segundo.\n",
    "    \"\"\"\n",
    "    k = 1.380649e-23\n",
    "    # Temperatura padrão em kelvins (290K é comum para cálculos de RF)\n",
    "    T = 290\n",
    "    \n",
    "    if N_dBm == 0:\n",
    "        # Calcula a densidade espectral de ruído (N_0)\n",
    "        N0_W_Hz = k * T\n",
    "        # Calcula a potência do ruído térmico em watts\n",
    "        N_W = N0_W_Hz * B_Hz\n",
    "        # Converte a potência do ruído térmico para dBm\n",
    "        N_dBm = 10 * np.log10(N_W / 0.001)\n",
    "    # Convertendo potências de dBm para Watts\n",
    "    Prx_W = 10**((Prx_dBm - 30) / 10)\n",
    "    N_W = 10**((N_dBm - 30) / 10)\n",
    "\n",
    "    # Calculando a razão sinal-ruído (SNR)\n",
    "    SNR = Prx_W / N_W\n",
    "    # print(SNR)\n",
    "\n",
    "    # Calculando a capacidade do canal \n",
    "    C_bps = B_Hz * np.log2(1 + SNR)\n",
    "    \n",
    "    return C_bps\n",
    "\n",
    "\n",
    "\n",
    "def calcular_potencia_ruido_jammer(angulo, potencia_jammer_dBm, HPBW, ganho_maximo_antena_dBi,d):\n",
    "    c = 3e8  # Velocidade da luz em m/s\n",
    "    lambda_m = c / f  # Comprimento de onda\n",
    "    L = (4 * np.pi * d / lambda_m)**2\n",
    "    Ptx_dBm=potencia_jammer_dBm\n",
    "    Gtx_dBi=ganho_transmissão_jammer\n",
    "    Grx_dBi=calcular_Grx_dBi(angulo,HPBW,ganho_maximo_antena_dBi)\n",
    "    N_dBm = Ptx_dBm + Gtx_dBi + Grx_dBi - 10 * np.log10(L)\n",
    "    \n",
    "    return N_dBm\n",
    "\n",
    "def calcular_angulo_relativo(pos_drone, pos_vizinho, pos_jammer):\n",
    "    \"\"\"\n",
    "    Calcula o ângulo do jammer em relação à direção do drone para o vizinho, que é a referência de 0º.\n",
    "    \"\"\"\n",
    "    vetor_drone_vizinho = np.array(pos_vizinho) - np.array(pos_drone)\n",
    "    vetor_drone_jammer = np.array(pos_jammer) - np.array(pos_drone)\n",
    "\n",
    "    # Normaliza os vetores\n",
    "    vetor_drone_vizinho = vetor_drone_vizinho / np.linalg.norm(vetor_drone_vizinho)\n",
    "    vetor_drone_jammer = vetor_drone_jammer / np.linalg.norm(vetor_drone_jammer)\n",
    "\n",
    "    # Calcula o cosseno do ângulo entre eles\n",
    "    dot_product = np.dot(vetor_drone_vizinho, vetor_drone_jammer)\n",
    "    \n",
    "    # Evita valores fora do domínio da função arccos devido a erros de precisão numérica\n",
    "    dot_product = np.clip(dot_product, -1.0, 1.0)\n",
    "    \n",
    "    angulo = np.arccos(dot_product)\n",
    "    \n",
    "    # Converte em graus e determina se o ângulo é positivo ou negativo com base no produto vetorial\n",
    "    angulo = np.degrees(angulo) * np.sign(np.cross(vetor_drone_vizinho, vetor_drone_jammer))\n",
    "    # Normaliza o ângulo para estar entre 0 e 360\n",
    "    angulo = angulo % 360\n",
    "    \n",
    "    return angulo\n",
    "\n",
    "def calcular_capacidades_canais(prx_resultados, posicoes):\n",
    "    # Armazena as capacidades de canal para cada link na rota\n",
    "    capacidades = []\n",
    "\n",
    "    for drone, seus_vizinhos in vizinhos.items():\n",
    "        posicao_drone = posicoes[drone]\n",
    "        for vizinho in seus_vizinhos:\n",
    "            posicao_vizinho = posicoes[vizinho]\n",
    "            chave_prx = f'Drone {drone} para Vizinho {vizinho}'\n",
    "            \n",
    "            if chave_prx in prx_resultados:\n",
    "                Prx_dBm = prx_resultados[chave_prx]\n",
    "                \n",
    "                # Calcula o ângulo do jammer em relação à linha drone-vizinho\n",
    "                angulo_relativo = calcular_angulo_relativo(posicao_drone, posicao_vizinho, posicao_jammer)\n",
    "                # print (angulo_relativo)\n",
    "                \n",
    "                # print(drone,vizinho,angulo_relativo)\n",
    "                \n",
    "                # Ajusta o ângulo para a convenção de ângulo da antena\n",
    "                if angulo_relativo < 0:\n",
    "                    angulo_relativo += 360\n",
    "                # print(angulo_relativo)\n",
    "                \n",
    "                \n",
    "                d=distancia(posicoes[drone], posicao_jammer)\n",
    "                # print('Distancia ao jammer do drone',drone,'ao jammer:',d)\n",
    "                # Calcula o ruído com base no ganho da antena\n",
    "                N_dBm = calcular_potencia_ruido_jammer(angulo_relativo, potencia_jammer_dBm, HPBW, ganho_maximo_antena_dBi,d)\n",
    "                # print(Prx_dBm,N_dBm)\n",
    "                # Calcular a capacidade do canal\n",
    "                capacidade_bps = calcular_capacidade_canal(Prx_dBm, B_Hz, N_dBm)\n",
    "                capacidade_bps /= 1e6  # Convertendo para Mbps\n",
    "                capacidades.append((drone, vizinho, capacidade_bps))\n",
    "\n",
    "    return capacidades\n",
    "\n",
    "\n",
    "\n",
    "capacidades = calcular_capacidades_canais(prx_resultados, posicoes)\n",
    "\n",
    "bottleneck_bps = float('inf')\n",
    "\n",
    "# Identificar a capacidade mais baixa ao longo da rota\n",
    "for transmissor, receptor, capacidade_bps in capacidades:\n",
    "    print(f\"Capacidade do canal entre Drone {transmissor} e Drone {receptor}: {capacidade_bps:.2f} Mbps\")\n",
    "    if capacidade_bps < bottleneck_bps:\n",
    "        bottleneck_bps = capacidade_bps\n",
    "\n",
    "# Verifica se um bottleneck foi encontrado\n",
    "if bottleneck_bps < float('inf'):\n",
    "    print(f\"O bottleneck da rota é: {bottleneck_bps:.2f} Mbps\")\n",
    "else:\n",
    "    print(\"Não foi possível determinar o bottleneck.\")\n",
    "\n",
    "\n",
    "capacidade_dict = {(transmissor, receptor): capacidade_bps for transmissor, receptor, capacidade_bps in capacidades}\n",
    "\n",
    "print(capacidade_dict)"
   ]
  },
  {
   "cell_type": "code",
   "execution_count": 7,
   "metadata": {},
   "outputs": [
    {
     "data": {
      "image/png": "[encoded data removed]",
      "text/plain": [
       "<Figure size 640x480 with 1 Axes>"
      ]
     },
     "metadata": {},
     "output_type": "display_data"
    }
   ],
   "source": [
    "ganhos = pd.read_csv(\"C:/Users/tass/OneDrive - EXÉRCITO PORTUGUÊS/Ambiente de Trabalho/Tese/Simulaçãoes/ganhos.csv\")\n",
    "angulos = np.deg2rad(ganhos['angulo'])  # Converter graus para radianos\n",
    "ganhos = ganhos['ganho']\n",
    "\n",
    "# Criar um gráfico polar\n",
    "fig, ax = plt.subplots(subplot_kw={'projection': 'polar'})\n",
    "ax.plot(angulos, ganhos, linestyle='-', linewidth=1, label='Ganho da Antena')\n",
    "\n",
    "# Ajustar o layout\n",
    "ax.set_theta_zero_location('N')  # Configurar a direção Norte como o topo do gráfico\n",
    "ax.set_theta_direction(-1)  # Configurar a direção dos ângulos para sentido horário\n",
    "ax.set_rmax(max(ganhos) + 1)  # Ajustar o raio máximo para melhor visualização\n",
    "ax.set_rticks(np.linspace(min(ganhos), max(ganhos), num=5))  # Definir os ticks para o raio\n",
    "ax.set_rlabel_position(45)  # Posicionar os labels do raio\n",
    "\n",
    "# Configurar os ticks para o ângulo\n",
    "ax.set_xticks(np.deg2rad(np.arange(0, 360, 30)))  # Definir marcas de ângulo a cada 30 graus\n",
    "\n",
    "# Adicionar legenda e título\n",
    "ax.legend()\n",
    "ax.set_title('Ganho da Antena por Ângulo', va='bottom')\n",
    "\n",
    "# Mostrar o gráfico\n",
    "plt.show()"
   ]
  },
  {
   "cell_type": "markdown",
   "metadata": {},
   "source": [
    "VIZUALIZAR O ENXAME"
   ]
  },
  {
   "cell_type": "code",
   "execution_count": 8,
   "metadata": {},
   "outputs": [
    {
     "name": "stderr",
     "output_type": "stream",
     "text": [
      "c:\\Users\\tass\\anaconda3\\Lib\\site-packages\\plotly\\io\\_renderers.py:395: DeprecationWarning:\n",
      "\n",
      "distutils Version classes are deprecated. Use packaging.version instead.\n",
      "\n"
     ]
    },
    {
     "data": {
      "application/vnd.plotly.v1+json": {
       "config": {
        "plotlyServerURL": "https://plot.ly"
       },
       "data": [
        {
         "marker": {
          "color": "blue",
          "size": 10
         },
         "mode": "markers+text",
         "showlegend": false,
         "text": "0",
         "textposition": "bottom center",
         "type": "scatter",
         "x": [
          16
         ],
         "y": [
          30
         ]
        },
        {
         "marker": {
          "color": "orange",
          "size": 10
         },
         "mode": "markers+text",
         "showlegend": false,
         "text": "1",
         "textposition": "bottom center",
         "type": "scatter",
         "x": [
          18
         ],
         "y": [
          48
         ]
        },
        {
         "marker": {
          "color": "blue",
          "size": 10
         },
         "mode": "markers+text",
         "showlegend": false,
         "text": "2",
         "textposition": "bottom center",
         "type": "scatter",
         "x": [
          44
         ],
         "y": [
          15
         ]
        },
        {
         "marker": {
          "color": "orange",
          "size": 10
         },
         "mode": "markers+text",
         "showlegend": false,
         "text": "3",
         "textposition": "bottom center",
         "type": "scatter",
         "x": [
          23
         ],
         "y": [
          73
         ]
        },
        {
         "marker": {
          "color": "orange",
          "size": 10
         },
         "mode": "markers+text",
         "showlegend": false,
         "text": "4",
         "textposition": "bottom center",
         "type": "scatter",
         "x": [
          45
         ],
         "y": [
          73
         ]
        },
        {
         "marker": {
          "color": "orange",
          "size": 10
         },
         "mode": "markers+text",
         "showlegend": false,
         "text": "5",
         "textposition": "bottom center",
         "type": "scatter",
         "x": [
          50
         ],
         "y": [
          50
         ]
        },
        {
         "marker": {
          "color": "red",
          "size": 12
         },
         "mode": "markers",
         "name": "Jammer",
         "type": "scatter",
         "x": [
          38
         ],
         "y": [
          53
         ]
        },
        {
         "marker": {
          "color": "blue",
          "size": 10
         },
         "mode": "markers",
         "name": "Nó não afetado",
         "type": "scatter",
         "x": [
          null
         ],
         "y": [
          null
         ]
        },
        {
         "marker": {
          "color": "orange",
          "size": 10
         },
         "mode": "markers",
         "name": "Nó afetado",
         "type": "scatter",
         "x": [
          null
         ],
         "y": [
          null
         ]
        }
       ],
       "layout": {
        "legend": {
         "itemsizing": "constant",
         "title": {
          "text": "Legenda"
         },
         "traceorder": "normal"
        },
        "template": {
         "data": {
          "bar": [
           {
            "error_x": {
             "color": "#2a3f5f"
            },
            "error_y": {
             "color": "#2a3f5f"
            },
            "marker": {
             "line": {
              "color": "#E5ECF6",
              "width": 0.5
             },
             "pattern": {
              "fillmode": "overlay",
              "size": 10,
              "solidity": 0.2
             }
            },
            "type": "bar"
           }
          ],
          "barpolar": [
           {
            "marker": {
             "line": {
              "color": "#E5ECF6",
              "width": 0.5
             },
             "pattern": {
              "fillmode": "overlay",
              "size": 10,
              "solidity": 0.2
             }
            },
            "type": "barpolar"
           }
          ],
          "carpet": [
           {
            "aaxis": {
             "endlinecolor": "#2a3f5f",
             "gridcolor": "white",
             "linecolor": "white",
             "minorgridcolor": "white",
             "startlinecolor": "#2a3f5f"
            },
            "baxis": {
             "endlinecolor": "#2a3f5f",
             "gridcolor": "white",
             "linecolor": "white",
             "minorgridcolor": "white",
             "startlinecolor": "#2a3f5f"
            },
            "type": "carpet"
           }
          ],
          "choropleth": [
           {
            "colorbar": {
             "outlinewidth": 0,
             "ticks": ""
            },
            "type": "choropleth"
           }
          ],
          "contour": [
           {
            "colorbar": {
             "outlinewidth": 0,
             "ticks": ""
            },
            "colorscale": [
             [
              0,
              "#0d0887"
             ],
             [
              0.1111111111111111,
              "#46039f"
             ],
             [
              0.2222222222222222,
              "#7201a8"
             ],
             [
              0.3333333333333333,
              "#9c179e"
             ],
             [
              0.4444444444444444,
              "#bd3786"
             ],
             [
              0.5555555555555556,
              "#d8576b"
             ],
             [
              0.6666666666666666,
              "#ed7953"
             ],
             [
              0.7777777777777778,
              "#fb9f3a"
             ],
             [
              0.8888888888888888,
              "#fdca26"
             ],
             [
              1,
              "#f0f921"
             ]
            ],
            "type": "contour"
           }
          ],
          "contourcarpet": [
           {
            "colorbar": {
             "outlinewidth": 0,
             "ticks": ""
            },
            "type": "contourcarpet"
           }
          ],
          "heatmap": [
           {
            "colorbar": {
             "outlinewidth": 0,
             "ticks": ""
            },
            "colorscale": [
             [
              0,
              "#0d0887"
             ],
             [
              0.1111111111111111,
              "#46039f"
             ],
             [
              0.2222222222222222,
              "#7201a8"
             ],
             [
              0.3333333333333333,
              "#9c179e"
             ],
             [
              0.4444444444444444,
              "#bd3786"
             ],
             [
              0.5555555555555556,
              "#d8576b"
             ],
             [
              0.6666666666666666,
              "#ed7953"
             ],
             [
              0.7777777777777778,
              "#fb9f3a"
             ],
             [
              0.8888888888888888,
              "#fdca26"
             ],
             [
              1,
              "#f0f921"
             ]
            ],
            "type": "heatmap"
           }
          ],
          "heatmapgl": [
           {
            "colorbar": {
             "outlinewidth": 0,
             "ticks": ""
            },
            "colorscale": [
             [
              0,
              "#0d0887"
             ],
             [
              0.1111111111111111,
              "#46039f"
             ],
             [
              0.2222222222222222,
              "#7201a8"
             ],
             [
              0.3333333333333333,
              "#9c179e"
             ],
             [
              0.4444444444444444,
              "#bd3786"
             ],
             [
              0.5555555555555556,
              "#d8576b"
             ],
             [
              0.6666666666666666,
              "#ed7953"
             ],
             [
              0.7777777777777778,
              "#fb9f3a"
             ],
             [
              0.8888888888888888,
              "#fdca26"
             ],
             [
              1,
              "#f0f921"
             ]
            ],
            "type": "heatmapgl"
           }
          ],
          "histogram": [
           {
            "marker": {
             "pattern": {
              "fillmode": "overlay",
              "size": 10,
              "solidity": 0.2
             }
            },
            "type": "histogram"
           }
          ],
          "histogram2d": [
           {
            "colorbar": {
             "outlinewidth": 0,
             "ticks": ""
            },
            "colorscale": [
             [
              0,
              "#0d0887"
             ],
             [
              0.1111111111111111,
              "#46039f"
             ],
             [
              0.2222222222222222,
              "#7201a8"
             ],
             [
              0.3333333333333333,
              "#9c179e"
             ],
             [
              0.4444444444444444,
              "#bd3786"
             ],
             [
              0.5555555555555556,
              "#d8576b"
             ],
             [
              0.6666666666666666,
              "#ed7953"
             ],
             [
              0.7777777777777778,
              "#fb9f3a"
             ],
             [
              0.8888888888888888,
              "#fdca26"
             ],
             [
              1,
              "#f0f921"
             ]
            ],
            "type": "histogram2d"
           }
          ],
          "histogram2dcontour": [
           {
            "colorbar": {
             "outlinewidth": 0,
             "ticks": ""
            },
            "colorscale": [
             [
              0,
              "#0d0887"
             ],
             [
              0.1111111111111111,
              "#46039f"
             ],
             [
              0.2222222222222222,
              "#7201a8"
             ],
             [
              0.3333333333333333,
              "#9c179e"
             ],
             [
              0.4444444444444444,
              "#bd3786"
             ],
             [
              0.5555555555555556,
              "#d8576b"
             ],
             [
              0.6666666666666666,
              "#ed7953"
             ],
             [
              0.7777777777777778,
              "#fb9f3a"
             ],
             [
              0.8888888888888888,
              "#fdca26"
             ],
             [
              1,
              "#f0f921"
             ]
            ],
            "type": "histogram2dcontour"
           }
          ],
          "mesh3d": [
           {
            "colorbar": {
             "outlinewidth": 0,
             "ticks": ""
            },
            "type": "mesh3d"
           }
          ],
          "parcoords": [
           {
            "line": {
             "colorbar": {
              "outlinewidth": 0,
              "ticks": ""
             }
            },
            "type": "parcoords"
           }
          ],
          "pie": [
           {
            "automargin": true,
            "type": "pie"
           }
          ],
          "scatter": [
           {
            "fillpattern": {
             "fillmode": "overlay",
             "size": 10,
             "solidity": 0.2
            },
            "type": "scatter"
           }
          ],
          "scatter3d": [
           {
            "line": {
             "colorbar": {
              "outlinewidth": 0,
              "ticks": ""
             }
            },
            "marker": {
             "colorbar": {
              "outlinewidth": 0,
              "ticks": ""
             }
            },
            "type": "scatter3d"
           }
          ],
          "scattercarpet": [
           {
            "marker": {
             "colorbar": {
              "outlinewidth": 0,
              "ticks": ""
             }
            },
            "type": "scattercarpet"
           }
          ],
          "scattergeo": [
           {
            "marker": {
             "colorbar": {
              "outlinewidth": 0,
              "ticks": ""
             }
            },
            "type": "scattergeo"
           }
          ],
          "scattergl": [
           {
            "marker": {
             "colorbar": {
              "outlinewidth": 0,
              "ticks": ""
             }
            },
            "type": "scattergl"
           }
          ],
          "scattermapbox": [
           {
            "marker": {
             "colorbar": {
              "outlinewidth": 0,
              "ticks": ""
             }
            },
            "type": "scattermapbox"
           }
          ],
          "scatterpolar": [
           {
            "marker": {
             "colorbar": {
              "outlinewidth": 0,
              "ticks": ""
             }
            },
            "type": "scatterpolar"
           }
          ],
          "scatterpolargl": [
           {
            "marker": {
             "colorbar": {
              "outlinewidth": 0,
              "ticks": ""
             }
            },
            "type": "scatterpolargl"
           }
          ],
          "scatterternary": [
           {
            "marker": {
             "colorbar": {
              "outlinewidth": 0,
              "ticks": ""
             }
            },
            "type": "scatterternary"
           }
          ],
          "surface": [
           {
            "colorbar": {
             "outlinewidth": 0,
             "ticks": ""
            },
            "colorscale": [
             [
              0,
              "#0d0887"
             ],
             [
              0.1111111111111111,
              "#46039f"
             ],
             [
              0.2222222222222222,
              "#7201a8"
             ],
             [
              0.3333333333333333,
              "#9c179e"
             ],
             [
              0.4444444444444444,
              "#bd3786"
             ],
             [
              0.5555555555555556,
              "#d8576b"
             ],
             [
              0.6666666666666666,
              "#ed7953"
             ],
             [
              0.7777777777777778,
              "#fb9f3a"
             ],
             [
              0.8888888888888888,
              "#fdca26"
             ],
             [
              1,
              "#f0f921"
             ]
            ],
            "type": "surface"
           }
          ],
          "table": [
           {
            "cells": {
             "fill": {
              "color": "#EBF0F8"
             },
             "line": {
              "color": "white"
             }
            },
            "header": {
             "fill": {
              "color": "#C8D4E3"
             },
             "line": {
              "color": "white"
             }
            },
            "type": "table"
           }
          ]
         },
         "layout": {
          "annotationdefaults": {
           "arrowcolor": "#2a3f5f",
           "arrowhead": 0,
           "arrowwidth": 1
          },
          "autotypenumbers": "strict",
          "coloraxis": {
           "colorbar": {
            "outlinewidth": 0,
            "ticks": ""
           }
          },
          "colorscale": {
           "diverging": [
            [
             0,
             "#8e0152"
            ],
            [
             0.1,
             "#c51b7d"
            ],
            [
             0.2,
             "#de77ae"
            ],
            [
             0.3,
             "#f1b6da"
            ],
            [
             0.4,
             "#fde0ef"
            ],
            [
             0.5,
             "#f7f7f7"
            ],
            [
             0.6,
             "#e6f5d0"
            ],
            [
             0.7,
             "#b8e186"
            ],
            [
             0.8,
             "#7fbc41"
            ],
            [
             0.9,
             "#4d9221"
            ],
            [
             1,
             "#276419"
            ]
           ],
           "sequential": [
            [
             0,
             "#0d0887"
            ],
            [
             0.1111111111111111,
             "#46039f"
            ],
            [
             0.2222222222222222,
             "#7201a8"
            ],
            [
             0.3333333333333333,
             "#9c179e"
            ],
            [
             0.4444444444444444,
             "#bd3786"
            ],
            [
             0.5555555555555556,
             "#d8576b"
            ],
            [
             0.6666666666666666,
             "#ed7953"
            ],
            [
             0.7777777777777778,
             "#fb9f3a"
            ],
            [
             0.8888888888888888,
             "#fdca26"
            ],
            [
             1,
             "#f0f921"
            ]
           ],
           "sequentialminus": [
            [
             0,
             "#0d0887"
            ],
            [
             0.1111111111111111,
             "#46039f"
            ],
            [
             0.2222222222222222,
             "#7201a8"
            ],
            [
             0.3333333333333333,
             "#9c179e"
            ],
            [
             0.4444444444444444,
             "#bd3786"
            ],
            [
             0.5555555555555556,
             "#d8576b"
            ],
            [
             0.6666666666666666,
             "#ed7953"
            ],
            [
             0.7777777777777778,
             "#fb9f3a"
            ],
            [
             0.8888888888888888,
             "#fdca26"
            ],
            [
             1,
             "#f0f921"
            ]
           ]
          },
          "colorway": [
           "#636efa",
           "#EF553B",
           "#00cc96",
           "#ab63fa",
           "#FFA15A",
           "#19d3f3",
           "#FF6692",
           "#B6E880",
           "#FF97FF",
           "#FECB52"
          ],
          "font": {
           "color": "#2a3f5f"
          },
          "geo": {
           "bgcolor": "white",
           "lakecolor": "white",
           "landcolor": "#E5ECF6",
           "showlakes": true,
           "showland": true,
           "subunitcolor": "white"
          },
          "hoverlabel": {
           "align": "left"
          },
          "hovermode": "closest",
          "mapbox": {
           "style": "light"
          },
          "paper_bgcolor": "white",
          "plot_bgcolor": "#E5ECF6",
          "polar": {
           "angularaxis": {
            "gridcolor": "white",
            "linecolor": "white",
            "ticks": ""
           },
           "bgcolor": "#E5ECF6",
           "radialaxis": {
            "gridcolor": "white",
            "linecolor": "white",
            "ticks": ""
           }
          },
          "scene": {
           "xaxis": {
            "backgroundcolor": "#E5ECF6",
            "gridcolor": "white",
            "gridwidth": 2,
            "linecolor": "white",
            "showbackground": true,
            "ticks": "",
            "zerolinecolor": "white"
           },
           "yaxis": {
            "backgroundcolor": "#E5ECF6",
            "gridcolor": "white",
            "gridwidth": 2,
            "linecolor": "white",
            "showbackground": true,
            "ticks": "",
            "zerolinecolor": "white"
           },
           "zaxis": {
            "backgroundcolor": "#E5ECF6",
            "gridcolor": "white",
            "gridwidth": 2,
            "linecolor": "white",
            "showbackground": true,
            "ticks": "",
            "zerolinecolor": "white"
           }
          },
          "shapedefaults": {
           "line": {
            "color": "#2a3f5f"
           }
          },
          "ternary": {
           "aaxis": {
            "gridcolor": "white",
            "linecolor": "white",
            "ticks": ""
           },
           "baxis": {
            "gridcolor": "white",
            "linecolor": "white",
            "ticks": ""
           },
           "bgcolor": "#E5ECF6",
           "caxis": {
            "gridcolor": "white",
            "linecolor": "white",
            "ticks": ""
           }
          },
          "title": {
           "x": 0.05
          },
          "xaxis": {
           "automargin": true,
           "gridcolor": "white",
           "linecolor": "white",
           "ticks": "",
           "title": {
            "standoff": 15
           },
           "zerolinecolor": "white",
           "zerolinewidth": 2
          },
          "yaxis": {
           "automargin": true,
           "gridcolor": "white",
           "linecolor": "white",
           "ticks": "",
           "title": {
            "standoff": 15
           },
           "zerolinecolor": "white",
           "zerolinewidth": 2
          }
         }
        },
        "title": {
         "text": "Simulação de Modelo de Comunicação Wireless entre Drones"
        },
        "xaxis": {
         "autorange": false,
         "range": [
          0,
          100
         ]
        },
        "yaxis": {
         "autorange": false,
         "range": [
          0,
          80
         ]
        }
       }
      }
     },
     "metadata": {},
     "output_type": "display_data"
    }
   ],
   "source": [
    "fig = go.Figure()\n",
    "\n",
    "# Adiciona os drones\n",
    "for i in range(num_drones):\n",
    "    fig.add_trace(go.Scatter(\n",
    "        x=[posicoes[i, 0]],\n",
    "        y=[posicoes[i, 1]],\n",
    "        mode='markers+text',\n",
    "        marker=dict(size=10, color='orange' if i in afetados_pelo_jammer else 'blue'),\n",
    "        text=str(i),\n",
    "        textposition=\"bottom center\",\n",
    "        showlegend=False  # Oculta esses rastros da legenda\n",
    "    ))\n",
    "\n",
    "# Adiciona o jammer\n",
    "fig.add_trace(go.Scatter(\n",
    "    x=[posicao_jammer[0]],\n",
    "    y=[posicao_jammer[1]],\n",
    "    mode='markers',\n",
    "    marker=dict(size=12, color='red'),\n",
    "    name='Jammer'\n",
    "))\n",
    "\n",
    "# Adiciona rastros para a legenda\n",
    "fig.add_trace(go.Scatter(x=[None], y=[None], mode='markers', marker=dict(size=10, color='blue'), name=\"Nó não afetado\"))\n",
    "fig.add_trace(go.Scatter(x=[None], y=[None], mode='markers', marker=dict(size=10, color='orange'), name=\"Nó afetado\"))\n",
    "# O Jammer já está adicionado com a legenda correta\n",
    "\n",
    "# Configurações do gráfico\n",
    "fig.update_layout(\n",
    "    title=\"Simulação de Modelo de Comunicação Wireless entre Drones\",\n",
    "    xaxis=dict(range=[0, limite_x], autorange=False),\n",
    "    yaxis=dict(range=[0, limite_y], autorange=False),\n",
    "    legend_title_text='Legenda',\n",
    "    legend=dict(traceorder='normal', itemsizing='constant')\n",
    ")\n",
    "\n",
    "fig.show()"
   ]
  },
  {
   "cell_type": "markdown",
   "metadata": {},
   "source": [
    "OPEN AI GYM"
   ]
  },
  {
   "cell_type": "code",
   "execution_count": 9,
   "metadata": {},
   "outputs": [],
   "source": [
    "import seaborn as sns\n",
    "import matplotlib.pyplot as plt\n",
    "\n",
    "class UAVCommunicationEnv(gym.Env):\n",
    "    metadata = {'render.modes': ['human']}\n",
    "    \n",
    "    \n",
    "\n",
    "    def __init__(self, num_uavs=num_drones, area_size=(100, 100)):\n",
    "        super(UAVCommunicationEnv, self).__init__()\n",
    "        self.num_uavs = num_uavs\n",
    "        self.area_size = area_size\n",
    "        self.posicoes = posicoes\n",
    "        self.posicao_jammer = posicao_jammer\n",
    "        self.afetados_pelo_jammer=afetados_pelo_jammer\n",
    "        self.prx_resultados=prx_resultados\n",
    "        self.B_Hz = B_Hz  # Largura de banda\n",
    "        self.capacidade_bps = capacidade_dict\n",
    "        self.ultimo_info = {}\n",
    "        \n",
    "        self.ultima_acao = np.zeros(self.num_uavs, dtype=int)\n",
    "        \n",
    "        \n",
    "\n",
    "        self.action_space = spaces.MultiDiscrete([num_uavs] * num_uavs)\n",
    "        \n",
    "        # O estado agora inclui somente as direções de comunicação (índices dos UAVs-alvo)\n",
    "        self.observation_space = spaces.Discrete(num_uavs ** num_uavs)\n",
    "        \n",
    "        self.ultima_acao = np.zeros(num_uavs, dtype=int)  # Inicializa com todos os UAVs não comunicando\n",
    "\n",
    "    def step(self, action):\n",
    "        # Ajuste de ação para garantir que nenhum drone esteja se comunicando consigo mesmo\n",
    "        for i in range(self.num_uavs):\n",
    "            while action[i] == i:\n",
    "                action[i] = np.random.choice([x for x in range(self.num_uavs) if x != i])\n",
    "\n",
    "        self.ultima_acao = np.array(action)\n",
    "\n",
    "        # Recalcular a capacidade mínima e média a partir das ações\n",
    "        capacidades_selecionadas = []\n",
    "\n",
    "        for i, destino in enumerate(action):\n",
    "            chave = (i, destino)\n",
    "            capacidade = self.capacidade_bps.get(chave, 0)\n",
    "            capacidades_selecionadas.append(capacidade)\n",
    "\n",
    "        capacidade_media = np.mean(capacidades_selecionadas) if capacidades_selecionadas else 0\n",
    "        capacidade_min = np.min(capacidades_selecionadas) if capacidades_selecionadas else 0\n",
    "\n",
    "        recompensa = 0.4 * capacidade_media + 0.3 * capacidade_min\n",
    "\n",
    "        done = False  # Indicar se o episódio terminou\n",
    "\n",
    "        info = {\n",
    "            'Recompensa': recompensa,\n",
    "            'capacidade_media': capacidade_media,\n",
    "            'capacidade_min': capacidade_min,\n",
    "            'capacidades_selecionadas': capacidades_selecionadas\n",
    "        }\n",
    "\n",
    "        self.ultimo_info = info\n",
    "\n",
    "        return self.ultima_acao, recompensa, done, info\n",
    "\n",
    "    \n",
    "    \n",
    "    def render(self, mode='human'):\n",
    "\n",
    "        sns.set(style=\"whitegrid\")\n",
    "        fig, ax = plt.subplots(figsize=(9, 4))\n",
    "\n",
    "        # Desenha os drones no gráfico\n",
    "        for i, pos in enumerate(self.posicoes):\n",
    "            color = 'blue'  # Cor padrão para todos os drones\n",
    "            ax.scatter(pos[0], pos[1], color=color, s=100, label='Drone' if i == 0 else \"\")\n",
    "            ax.text(pos[0], pos[1] - 2, f'{i}', horizontalalignment='center', color='white', fontweight='bold')\n",
    "\n",
    "        # Preparando para coletar capacidades para a legenda\n",
    "        capacidades_texto = []\n",
    "\n",
    "        # Desenha as linhas de comunicação e setas\n",
    "        for i, destino in enumerate(self.ultima_acao):\n",
    "            if destino != i:  # Evita que um drone se comunique consigo mesmo\n",
    "                pos_inicio = self.posicoes[i]\n",
    "                pos_final = self.posicoes[destino]\n",
    "                ax.plot([pos_inicio[0], pos_final[0]], [pos_inicio[1], pos_final[1]], 'b--', alpha=0.5)\n",
    "\n",
    "                # Calcula a direção para a seta\n",
    "                direcao = pos_final - pos_inicio\n",
    "                direcao_norm = direcao / np.linalg.norm(direcao)\n",
    "                # Define o comprimento da seta\n",
    "                comprimento_seta = 5\n",
    "                ponto_final_seta = pos_inicio + direcao_norm * comprimento_seta\n",
    "\n",
    "                # Desenha a seta\n",
    "                ax.arrow(pos_inicio[0], pos_inicio[1], ponto_final_seta[0] - pos_inicio[0], ponto_final_seta[1] - pos_inicio[1], \n",
    "                        head_width=2, head_length=2, fc='b', ec='b')\n",
    "\n",
    "                # Coleta capacidades para a legenda\n",
    "                capacidade = self.capacidade_bps.get((i, destino), 0)  # Assume 0 se não definido\n",
    "                capacidades_texto.append(f'Drone {i} para {destino}: {capacidade:.2f} Mbps')\n",
    "\n",
    "        # Desenha o jammer\n",
    "        ax.scatter(self.posicao_jammer[0], self.posicao_jammer[1], color='red', s=100, marker='o', label='Jammer')\n",
    "\n",
    "        # Adiciona capacidades na legenda\n",
    "        if capacidades_texto:\n",
    "            for texto in capacidades_texto:\n",
    "                ax.plot([], [], ' ', label=texto)\n",
    "\n",
    "        # Configurações finais do gráfico\n",
    "        ax.set_xlabel('X')\n",
    "        ax.set_ylabel('Y')\n",
    "        ax.set_xlim(0, self.area_size[0])\n",
    "        ax.set_ylim(0, self.area_size[1])\n",
    "        plt.title('Comunicação UAV com Jammer')\n",
    "        ax.legend(loc='center left', bbox_to_anchor=(1, 0.5), fontsize='small')\n",
    "        plt.show()\n",
    "\n",
    "\n",
    "def reset(self):\n",
    "    # Estado inicial\n",
    "    self.ultima_acao = np.zeros(self.num_uavs, dtype=int)  # Reset action\n",
    "    \n",
    "    # Retorna um estado e informações (no caso, informação sobre recompensas e capacidades)\n",
    "    obs = self.ultima_acao  # Estado inicial\n",
    "    print('ahahhahaha',obs)\n",
    "    info = {}  # Garantir que um dicionário vazio seja retornado se `ultimo_info` for None\n",
    "    \n",
    "    if self.ultimo_info:\n",
    "        info.update(self.ultimo_info)  # Se existir, atualiza as informações\n",
    "    \n",
    "    return obs, info\n",
    "\n",
    "\n",
    "\n",
    "\n",
    "    \n"
   ]
  },
  {
   "cell_type": "code",
   "execution_count": 10,
   "metadata": {},
   "outputs": [],
   "source": [
    "# env = UAVCommunicationEnv()\n",
    "\n",
    "# # Testar a função `reset()`\n",
    "# state, info = env.reset()  # Deve retornar uma tupla\n",
    "\n",
    "# print(\"Estado inicial:\", state)\n",
    "# print(\"Informações iniciais:\", info)  # Verificar se é uma tupla"
   ]
  },
  {
   "cell_type": "code",
   "execution_count": 11,
   "metadata": {},
   "outputs": [
    {
     "data": {
      "image/png": "[encoded data removed]",
      "text/plain": [
       "<Figure size 900x400 with 1 Axes>"
      ]
     },
     "metadata": {},
     "output_type": "display_data"
    },
    {
     "name": "stdout",
     "output_type": "stream",
     "text": [
      "[3 2 4 2 0 1]\n",
      "{'Recompensa': 0.24798120034100854, 'capacidade_media': 0.5734863389308887, 'capacidade_min': 0.061955549228843415, 'capacidades_selecionadas': [0.39964460459551987, 2.6844890295175814, 0.16317446372026942, 0.06529907686609888, 0.06635530965701941, 0.061955549228843415]}\n"
     ]
    }
   ],
   "source": [
    "env = UAVCommunicationEnv()\n",
    "\n",
    "state = env.reset()\n",
    "done = False\n",
    "while not done:\n",
    "    action = env.action_space.sample()  # Exemplo: escolha uma ação aleatoriamente\n",
    "    state, reward, done, info = env.step(action)\n",
    "    env.render()  # Chame render a cada passo para visualizar\n",
    "    \n",
    "    print(state)\n",
    "    print(info)\n",
    "    done=True\n"
   ]
  },
  {
   "cell_type": "markdown",
   "metadata": {},
   "source": [
    "Algoritmo Genético"
   ]
  },
  {
   "cell_type": "code",
   "execution_count": 12,
   "metadata": {},
   "outputs": [
    {
     "name": "stdout",
     "output_type": "stream",
     "text": [
      "Generation 0: Best Fitness = 12.996211044587582\n",
      "Generation 1: Best Fitness = 14.14550871942128\n",
      "Generation 2: Best Fitness = 15.377925432948212\n",
      "Generation 3: Best Fitness = 15.377925432948212\n",
      "Generation 4: Best Fitness = 15.377925432948212\n",
      "Generation 5: Best Fitness = 15.377925432948212\n",
      "Generation 6: Best Fitness = 15.377925432948212\n",
      "Generation 7: Best Fitness = 15.377925432948212\n",
      "Generation 8: Best Fitness = 15.377925432948212\n",
      "Generation 9: Best Fitness = 15.377925432948212\n",
      "Generation 10: Best Fitness = 15.377925432948212\n",
      "Generation 11: Best Fitness = 15.377925432948212\n",
      "Generation 12: Best Fitness = 15.377925432948212\n",
      "Generation 13: Best Fitness = 15.377925432948212\n",
      "Generation 14: Best Fitness = 15.377925432948212\n",
      "Generation 15: Best Fitness = 15.377925432948212\n",
      "Generation 16: Best Fitness = 15.377925432948212\n",
      "Generation 17: Best Fitness = 15.377925432948212\n",
      "Generation 18: Best Fitness = 15.377925432948212\n",
      "Generation 19: Best Fitness = 15.377925432948212\n",
      "Generation 20: Best Fitness = 15.377925432948212\n",
      "Generation 21: Best Fitness = 15.377925432948212\n",
      "Generation 22: Best Fitness = 15.377925432948212\n",
      "Generation 23: Best Fitness = 15.377925432948212\n",
      "Generation 24: Best Fitness = 15.377925432948212\n",
      "Generation 25: Best Fitness = 15.377925432948212\n",
      "Generation 26: Best Fitness = 15.377925432948212\n",
      "Generation 27: Best Fitness = 15.377925432948212\n",
      "Generation 28: Best Fitness = 15.377925432948212\n",
      "Generation 29: Best Fitness = 15.377925432948212\n",
      "Generation 30: Best Fitness = 15.377925432948212\n",
      "Generation 31: Best Fitness = 15.377925432948212\n",
      "Generation 32: Best Fitness = 15.377925432948212\n",
      "Generation 33: Best Fitness = 15.377925432948212\n",
      "Generation 34: Best Fitness = 15.377925432948212\n",
      "Generation 35: Best Fitness = 15.377925432948212\n",
      "Generation 36: Best Fitness = 15.377925432948212\n",
      "Generation 37: Best Fitness = 15.377925432948212\n",
      "Generation 38: Best Fitness = 15.377925432948212\n",
      "Generation 39: Best Fitness = 15.377925432948212\n",
      "Generation 40: Best Fitness = 15.377925432948212\n",
      "Generation 41: Best Fitness = 15.377925432948212\n",
      "Generation 42: Best Fitness = 15.377925432948212\n",
      "Generation 43: Best Fitness = 15.377925432948212\n",
      "Generation 44: Best Fitness = 15.377925432948212\n",
      "Generation 45: Best Fitness = 15.377925432948212\n",
      "Generation 46: Best Fitness = 15.377925432948212\n",
      "Generation 47: Best Fitness = 15.377925432948212\n",
      "Generation 48: Best Fitness = 15.377925432948212\n",
      "Generation 49: Best Fitness = 15.377925432948212\n",
      "Generation 50: Best Fitness = 15.377925432948212\n",
      "Generation 51: Best Fitness = 15.377925432948212\n",
      "Generation 52: Best Fitness = 15.377925432948212\n",
      "Generation 53: Best Fitness = 15.377925432948212\n",
      "Generation 54: Best Fitness = 15.377925432948212\n",
      "Generation 55: Best Fitness = 15.377925432948212\n",
      "Generation 56: Best Fitness = 15.377925432948212\n",
      "Generation 57: Best Fitness = 15.377925432948212\n",
      "Generation 58: Best Fitness = 15.377925432948212\n",
      "Generation 59: Best Fitness = 15.377925432948212\n",
      "Generation 60: Best Fitness = 15.377925432948212\n",
      "Generation 61: Best Fitness = 15.377925432948212\n",
      "Generation 62: Best Fitness = 15.377925432948212\n",
      "Generation 63: Best Fitness = 15.377925432948212\n",
      "Generation 64: Best Fitness = 15.377925432948212\n",
      "Generation 65: Best Fitness = 15.377925432948212\n",
      "Generation 66: Best Fitness = 15.377925432948212\n",
      "Generation 67: Best Fitness = 15.377925432948212\n",
      "Generation 68: Best Fitness = 15.377925432948212\n",
      "Generation 69: Best Fitness = 15.377925432948212\n",
      "Generation 70: Best Fitness = 15.377925432948212\n",
      "Generation 71: Best Fitness = 15.377925432948212\n",
      "Generation 72: Best Fitness = 15.377925432948212\n",
      "Generation 73: Best Fitness = 15.377925432948212\n",
      "Generation 74: Best Fitness = 15.377925432948212\n",
      "Generation 75: Best Fitness = 15.377925432948212\n",
      "Generation 76: Best Fitness = 15.377925432948212\n",
      "Generation 77: Best Fitness = 15.377925432948212\n",
      "Generation 78: Best Fitness = 15.377925432948212\n",
      "Generation 79: Best Fitness = 15.377925432948212\n",
      "Generation 80: Best Fitness = 15.377925432948212\n",
      "Generation 81: Best Fitness = 15.377925432948212\n",
      "Generation 82: Best Fitness = 15.377925432948212\n",
      "Generation 83: Best Fitness = 15.377925432948212\n",
      "Generation 84: Best Fitness = 15.377925432948212\n",
      "Generation 85: Best Fitness = 15.377925432948212\n",
      "Generation 86: Best Fitness = 15.377925432948212\n",
      "Generation 87: Best Fitness = 15.377925432948212\n",
      "Generation 88: Best Fitness = 15.377925432948212\n",
      "Generation 89: Best Fitness = 15.377925432948212\n",
      "Generation 90: Best Fitness = 15.377925432948212\n",
      "Generation 91: Best Fitness = 15.377925432948212\n",
      "Generation 92: Best Fitness = 15.377925432948212\n",
      "Generation 93: Best Fitness = 15.377925432948212\n",
      "Generation 94: Best Fitness = 15.377925432948212\n",
      "Generation 95: Best Fitness = 15.377925432948212\n",
      "Generation 96: Best Fitness = 15.377925432948212\n",
      "Generation 97: Best Fitness = 15.377925432948212\n",
      "Generation 98: Best Fitness = 15.377925432948212\n",
      "Generation 99: Best Fitness = 15.377925432948212\n",
      "Generation 100: Best Fitness = 15.377925432948212\n",
      "Generation 101: Best Fitness = 15.377925432948212\n",
      "Generation 102: Best Fitness = 15.377925432948212\n",
      "Generation 103: Best Fitness = 15.377925432948212\n",
      "Generation 104: Best Fitness = 15.377925432948212\n",
      "Generation 105: Best Fitness = 15.377925432948212\n",
      "Generation 106: Best Fitness = 15.377925432948212\n",
      "Generation 107: Best Fitness = 15.377925432948212\n",
      "Generation 108: Best Fitness = 15.377925432948212\n",
      "Generation 109: Best Fitness = 15.377925432948212\n",
      "Generation 110: Best Fitness = 15.377925432948212\n",
      "Generation 111: Best Fitness = 15.377925432948212\n",
      "Generation 112: Best Fitness = 15.377925432948212\n",
      "Generation 113: Best Fitness = 15.377925432948212\n",
      "Generation 114: Best Fitness = 15.377925432948212\n",
      "Generation 115: Best Fitness = 15.377925432948212\n",
      "Generation 116: Best Fitness = 15.377925432948212\n",
      "Generation 117: Best Fitness = 15.377925432948212\n",
      "Generation 118: Best Fitness = 15.377925432948212\n",
      "Generation 119: Best Fitness = 15.377925432948212\n",
      "Generation 120: Best Fitness = 15.377925432948212\n",
      "Generation 121: Best Fitness = 15.377925432948212\n",
      "Generation 122: Best Fitness = 15.377925432948212\n",
      "Generation 123: Best Fitness = 15.377925432948212\n",
      "Generation 124: Best Fitness = 15.377925432948212\n",
      "Generation 125: Best Fitness = 15.377925432948212\n",
      "Generation 126: Best Fitness = 15.377925432948212\n",
      "Generation 127: Best Fitness = 15.377925432948212\n",
      "Generation 128: Best Fitness = 15.377925432948212\n",
      "Generation 129: Best Fitness = 15.377925432948212\n",
      "Generation 130: Best Fitness = 15.377925432948212\n",
      "Generation 131: Best Fitness = 15.377925432948212\n",
      "Generation 132: Best Fitness = 15.377925432948212\n",
      "Generation 133: Best Fitness = 15.377925432948212\n",
      "Generation 134: Best Fitness = 15.377925432948212\n",
      "Generation 135: Best Fitness = 15.377925432948212\n",
      "Generation 136: Best Fitness = 15.377925432948212\n",
      "Generation 137: Best Fitness = 15.377925432948212\n",
      "Generation 138: Best Fitness = 15.377925432948212\n",
      "Generation 139: Best Fitness = 15.377925432948212\n",
      "Generation 140: Best Fitness = 15.377925432948212\n",
      "Generation 141: Best Fitness = 15.377925432948212\n",
      "Generation 142: Best Fitness = 15.377925432948212\n",
      "Generation 143: Best Fitness = 15.377925432948212\n",
      "Generation 144: Best Fitness = 15.377925432948212\n",
      "Generation 145: Best Fitness = 15.377925432948212\n",
      "Generation 146: Best Fitness = 15.377925432948212\n",
      "Generation 147: Best Fitness = 15.377925432948212\n",
      "Generation 148: Best Fitness = 15.377925432948212\n",
      "Generation 149: Best Fitness = 15.377925432948212\n",
      "Generation 150: Best Fitness = 15.377925432948212\n",
      "Generation 151: Best Fitness = 15.377925432948212\n",
      "Generation 152: Best Fitness = 15.377925432948212\n",
      "Generation 153: Best Fitness = 15.377925432948212\n",
      "Generation 154: Best Fitness = 15.377925432948212\n",
      "Generation 155: Best Fitness = 15.377925432948212\n",
      "Generation 156: Best Fitness = 15.377925432948212\n",
      "Generation 157: Best Fitness = 15.377925432948212\n",
      "Generation 158: Best Fitness = 15.377925432948212\n",
      "Generation 159: Best Fitness = 15.377925432948212\n",
      "Generation 160: Best Fitness = 15.377925432948212\n",
      "Generation 161: Best Fitness = 15.377925432948212\n",
      "Generation 162: Best Fitness = 15.377925432948212\n",
      "Generation 163: Best Fitness = 15.377925432948212\n",
      "Generation 164: Best Fitness = 15.377925432948212\n",
      "Generation 165: Best Fitness = 15.377925432948212\n",
      "Generation 166: Best Fitness = 15.377925432948212\n",
      "Generation 167: Best Fitness = 15.377925432948212\n",
      "Generation 168: Best Fitness = 15.377925432948212\n",
      "Generation 169: Best Fitness = 15.377925432948212\n",
      "Generation 170: Best Fitness = 15.377925432948212\n",
      "Generation 171: Best Fitness = 15.377925432948212\n",
      "Generation 172: Best Fitness = 15.377925432948212\n",
      "Generation 173: Best Fitness = 15.377925432948212\n",
      "Generation 174: Best Fitness = 15.377925432948212\n",
      "Generation 175: Best Fitness = 15.377925432948212\n",
      "Generation 176: Best Fitness = 15.377925432948212\n",
      "Generation 177: Best Fitness = 15.377925432948212\n",
      "Generation 178: Best Fitness = 15.377925432948212\n",
      "Generation 179: Best Fitness = 15.377925432948212\n",
      "Generation 180: Best Fitness = 15.377925432948212\n",
      "Generation 181: Best Fitness = 15.377925432948212\n",
      "Generation 182: Best Fitness = 15.377925432948212\n",
      "Generation 183: Best Fitness = 15.377925432948212\n",
      "Generation 184: Best Fitness = 15.377925432948212\n",
      "Generation 185: Best Fitness = 15.377925432948212\n",
      "Generation 186: Best Fitness = 15.377925432948212\n",
      "Generation 187: Best Fitness = 15.377925432948212\n",
      "Generation 188: Best Fitness = 15.377925432948212\n",
      "Generation 189: Best Fitness = 15.377925432948212\n",
      "Generation 190: Best Fitness = 15.377925432948212\n",
      "Generation 191: Best Fitness = 15.377925432948212\n",
      "Generation 192: Best Fitness = 15.377925432948212\n",
      "Generation 193: Best Fitness = 15.377925432948212\n",
      "Generation 194: Best Fitness = 15.377925432948212\n",
      "Generation 195: Best Fitness = 15.377925432948212\n",
      "Generation 196: Best Fitness = 15.377925432948212\n",
      "Generation 197: Best Fitness = 15.377925432948212\n",
      "Generation 198: Best Fitness = 15.377925432948212\n",
      "Generation 199: Best Fitness = 15.377925432948212\n",
      "Generation 200: Best Fitness = 15.377925432948212\n",
      "Generation 201: Best Fitness = 15.377925432948212\n",
      "Generation 202: Best Fitness = 15.377925432948212\n",
      "Generation 203: Best Fitness = 15.377925432948212\n",
      "Generation 204: Best Fitness = 15.377925432948212\n",
      "Generation 205: Best Fitness = 15.377925432948212\n",
      "Generation 206: Best Fitness = 15.377925432948212\n",
      "Generation 207: Best Fitness = 15.377925432948212\n",
      "Generation 208: Best Fitness = 15.377925432948212\n",
      "Generation 209: Best Fitness = 15.377925432948212\n",
      "Generation 210: Best Fitness = 15.377925432948212\n",
      "Generation 211: Best Fitness = 15.377925432948212\n",
      "Generation 212: Best Fitness = 15.377925432948212\n",
      "Generation 213: Best Fitness = 15.377925432948212\n",
      "Generation 214: Best Fitness = 15.377925432948212\n",
      "Generation 215: Best Fitness = 15.377925432948212\n",
      "Generation 216: Best Fitness = 15.377925432948212\n",
      "Generation 217: Best Fitness = 15.377925432948212\n",
      "Generation 218: Best Fitness = 15.377925432948212\n",
      "Generation 219: Best Fitness = 15.377925432948212\n",
      "Generation 220: Best Fitness = 15.377925432948212\n",
      "Generation 221: Best Fitness = 15.377925432948212\n",
      "Generation 222: Best Fitness = 15.377925432948212\n",
      "Generation 223: Best Fitness = 15.377925432948212\n",
      "Generation 224: Best Fitness = 15.377925432948212\n",
      "Generation 225: Best Fitness = 15.377925432948212\n",
      "Generation 226: Best Fitness = 15.377925432948212\n",
      "Generation 227: Best Fitness = 15.377925432948212\n",
      "Generation 228: Best Fitness = 15.377925432948212\n",
      "Generation 229: Best Fitness = 15.377925432948212\n",
      "Generation 230: Best Fitness = 15.377925432948212\n",
      "Generation 231: Best Fitness = 15.377925432948212\n",
      "Generation 232: Best Fitness = 15.377925432948212\n",
      "Generation 233: Best Fitness = 15.377925432948212\n",
      "Generation 234: Best Fitness = 15.377925432948212\n",
      "Generation 235: Best Fitness = 15.377925432948212\n",
      "Generation 236: Best Fitness = 15.377925432948212\n",
      "Generation 237: Best Fitness = 15.377925432948212\n",
      "Generation 238: Best Fitness = 15.377925432948212\n",
      "Generation 239: Best Fitness = 15.377925432948212\n",
      "Generation 240: Best Fitness = 15.377925432948212\n",
      "Generation 241: Best Fitness = 15.377925432948212\n",
      "Generation 242: Best Fitness = 15.377925432948212\n",
      "Generation 243: Best Fitness = 15.377925432948212\n",
      "Generation 244: Best Fitness = 15.377925432948212\n",
      "Generation 245: Best Fitness = 15.377925432948212\n",
      "Generation 246: Best Fitness = 15.377925432948212\n",
      "Generation 247: Best Fitness = 15.377925432948212\n",
      "Generation 248: Best Fitness = 15.377925432948212\n",
      "Generation 249: Best Fitness = 15.377925432948212\n",
      "Generation 250: Best Fitness = 15.377925432948212\n",
      "Generation 251: Best Fitness = 15.377925432948212\n",
      "Generation 252: Best Fitness = 15.377925432948212\n",
      "Generation 253: Best Fitness = 15.377925432948212\n",
      "Generation 254: Best Fitness = 15.377925432948212\n",
      "Generation 255: Best Fitness = 15.377925432948212\n",
      "Generation 256: Best Fitness = 15.377925432948212\n",
      "Generation 257: Best Fitness = 15.377925432948212\n",
      "Generation 258: Best Fitness = 15.377925432948212\n",
      "Generation 259: Best Fitness = 15.377925432948212\n",
      "Generation 260: Best Fitness = 15.377925432948212\n",
      "Generation 261: Best Fitness = 15.377925432948212\n",
      "Generation 262: Best Fitness = 15.377925432948212\n",
      "Generation 263: Best Fitness = 15.377925432948212\n",
      "Generation 264: Best Fitness = 15.377925432948212\n",
      "Generation 265: Best Fitness = 15.377925432948212\n",
      "Generation 266: Best Fitness = 15.377925432948212\n",
      "Generation 267: Best Fitness = 15.377925432948212\n",
      "Generation 268: Best Fitness = 15.377925432948212\n",
      "Generation 269: Best Fitness = 15.377925432948212\n",
      "Generation 270: Best Fitness = 15.377925432948212\n",
      "Generation 271: Best Fitness = 15.377925432948212\n",
      "Generation 272: Best Fitness = 15.377925432948212\n",
      "Generation 273: Best Fitness = 15.377925432948212\n",
      "Generation 274: Best Fitness = 15.377925432948212\n",
      "Generation 275: Best Fitness = 15.377925432948212\n",
      "Generation 276: Best Fitness = 15.377925432948212\n",
      "Generation 277: Best Fitness = 15.377925432948212\n",
      "Generation 278: Best Fitness = 15.377925432948212\n",
      "Generation 279: Best Fitness = 15.377925432948212\n",
      "Generation 280: Best Fitness = 15.377925432948212\n",
      "Generation 281: Best Fitness = 15.377925432948212\n",
      "Generation 282: Best Fitness = 15.377925432948212\n",
      "Generation 283: Best Fitness = 15.377925432948212\n",
      "Generation 284: Best Fitness = 15.377925432948212\n",
      "Generation 285: Best Fitness = 15.377925432948212\n",
      "Generation 286: Best Fitness = 15.377925432948212\n",
      "Generation 287: Best Fitness = 15.377925432948212\n",
      "Generation 288: Best Fitness = 15.377925432948212\n",
      "Generation 289: Best Fitness = 15.377925432948212\n",
      "Generation 290: Best Fitness = 15.377925432948212\n",
      "Generation 291: Best Fitness = 15.377925432948212\n",
      "Generation 292: Best Fitness = 15.377925432948212\n",
      "Generation 293: Best Fitness = 15.377925432948212\n",
      "Generation 294: Best Fitness = 15.377925432948212\n",
      "Generation 295: Best Fitness = 15.377925432948212\n",
      "Generation 296: Best Fitness = 15.377925432948212\n",
      "Generation 297: Best Fitness = 15.377925432948212\n",
      "Generation 298: Best Fitness = 15.377925432948212\n",
      "Generation 299: Best Fitness = 15.377925432948212\n",
      "Generation 300: Best Fitness = 15.377925432948212\n",
      "Generation 301: Best Fitness = 15.377925432948212\n",
      "Generation 302: Best Fitness = 15.377925432948212\n",
      "Generation 303: Best Fitness = 15.377925432948212\n",
      "Generation 304: Best Fitness = 15.377925432948212\n",
      "Generation 305: Best Fitness = 15.377925432948212\n",
      "Generation 306: Best Fitness = 15.377925432948212\n",
      "Generation 307: Best Fitness = 15.377925432948212\n",
      "Generation 308: Best Fitness = 15.377925432948212\n",
      "Generation 309: Best Fitness = 15.377925432948212\n",
      "Generation 310: Best Fitness = 15.377925432948212\n",
      "Generation 311: Best Fitness = 15.377925432948212\n",
      "Generation 312: Best Fitness = 15.377925432948212\n",
      "Generation 313: Best Fitness = 15.377925432948212\n",
      "Generation 314: Best Fitness = 15.377925432948212\n",
      "Generation 315: Best Fitness = 15.377925432948212\n",
      "Generation 316: Best Fitness = 15.377925432948212\n",
      "Generation 317: Best Fitness = 15.377925432948212\n",
      "Generation 318: Best Fitness = 15.377925432948212\n",
      "Generation 319: Best Fitness = 15.377925432948212\n",
      "Generation 320: Best Fitness = 15.377925432948212\n",
      "Generation 321: Best Fitness = 15.377925432948212\n",
      "Generation 322: Best Fitness = 15.377925432948212\n",
      "Generation 323: Best Fitness = 15.377925432948212\n",
      "Generation 324: Best Fitness = 15.377925432948212\n",
      "Generation 325: Best Fitness = 15.377925432948212\n",
      "Generation 326: Best Fitness = 15.377925432948212\n",
      "Generation 327: Best Fitness = 15.377925432948212\n",
      "Generation 328: Best Fitness = 15.377925432948212\n",
      "Generation 329: Best Fitness = 15.377925432948212\n",
      "Generation 330: Best Fitness = 15.377925432948212\n",
      "Generation 331: Best Fitness = 15.377925432948212\n",
      "Generation 332: Best Fitness = 15.377925432948212\n",
      "Generation 333: Best Fitness = 15.377925432948212\n",
      "Generation 334: Best Fitness = 15.377925432948212\n",
      "Generation 335: Best Fitness = 15.377925432948212\n",
      "Generation 336: Best Fitness = 15.377925432948212\n",
      "Generation 337: Best Fitness = 15.377925432948212\n",
      "Generation 338: Best Fitness = 15.377925432948212\n",
      "Generation 339: Best Fitness = 15.377925432948212\n",
      "Generation 340: Best Fitness = 15.377925432948212\n",
      "Generation 341: Best Fitness = 15.377925432948212\n",
      "Generation 342: Best Fitness = 15.377925432948212\n",
      "Generation 343: Best Fitness = 15.377925432948212\n",
      "Generation 344: Best Fitness = 15.377925432948212\n",
      "Generation 345: Best Fitness = 15.377925432948212\n",
      "Generation 346: Best Fitness = 15.377925432948212\n",
      "Generation 347: Best Fitness = 15.377925432948212\n",
      "Generation 348: Best Fitness = 15.377925432948212\n",
      "Generation 349: Best Fitness = 15.377925432948212\n",
      "Generation 350: Best Fitness = 15.377925432948212\n",
      "Generation 351: Best Fitness = 15.377925432948212\n",
      "Generation 352: Best Fitness = 15.377925432948212\n",
      "Generation 353: Best Fitness = 15.377925432948212\n",
      "Generation 354: Best Fitness = 15.377925432948212\n",
      "Generation 355: Best Fitness = 15.377925432948212\n",
      "Generation 356: Best Fitness = 15.377925432948212\n",
      "Generation 357: Best Fitness = 15.377925432948212\n",
      "Generation 358: Best Fitness = 15.377925432948212\n",
      "Generation 359: Best Fitness = 15.377925432948212\n",
      "Generation 360: Best Fitness = 15.377925432948212\n",
      "Generation 361: Best Fitness = 15.377925432948212\n",
      "Generation 362: Best Fitness = 15.377925432948212\n",
      "Generation 363: Best Fitness = 15.377925432948212\n",
      "Generation 364: Best Fitness = 15.377925432948212\n",
      "Generation 365: Best Fitness = 15.377925432948212\n",
      "Generation 366: Best Fitness = 15.377925432948212\n",
      "Generation 367: Best Fitness = 15.377925432948212\n",
      "Generation 368: Best Fitness = 15.377925432948212\n",
      "Generation 369: Best Fitness = 15.377925432948212\n",
      "Generation 370: Best Fitness = 15.377925432948212\n",
      "Generation 371: Best Fitness = 15.377925432948212\n",
      "Generation 372: Best Fitness = 15.377925432948212\n",
      "Generation 373: Best Fitness = 15.377925432948212\n",
      "Generation 374: Best Fitness = 15.377925432948212\n",
      "Generation 375: Best Fitness = 15.377925432948212\n",
      "Generation 376: Best Fitness = 15.377925432948212\n",
      "Generation 377: Best Fitness = 15.377925432948212\n",
      "Generation 378: Best Fitness = 15.377925432948212\n",
      "Generation 379: Best Fitness = 15.377925432948212\n",
      "Generation 380: Best Fitness = 15.377925432948212\n",
      "Generation 381: Best Fitness = 15.377925432948212\n",
      "Generation 382: Best Fitness = 15.377925432948212\n",
      "Generation 383: Best Fitness = 15.377925432948212\n",
      "Generation 384: Best Fitness = 15.377925432948212\n",
      "Generation 385: Best Fitness = 15.377925432948212\n",
      "Generation 386: Best Fitness = 15.377925432948212\n",
      "Generation 387: Best Fitness = 15.377925432948212\n",
      "Generation 388: Best Fitness = 15.377925432948212\n",
      "Generation 389: Best Fitness = 15.377925432948212\n",
      "Generation 390: Best Fitness = 15.377925432948212\n",
      "Generation 391: Best Fitness = 15.377925432948212\n",
      "Generation 392: Best Fitness = 15.377925432948212\n",
      "Generation 393: Best Fitness = 15.377925432948212\n",
      "Generation 394: Best Fitness = 15.377925432948212\n",
      "Generation 395: Best Fitness = 15.377925432948212\n",
      "Generation 396: Best Fitness = 15.377925432948212\n",
      "Generation 397: Best Fitness = 15.377925432948212\n",
      "Generation 398: Best Fitness = 15.377925432948212\n",
      "Generation 399: Best Fitness = 15.377925432948212\n",
      "Generation 400: Best Fitness = 15.377925432948212\n",
      "Generation 401: Best Fitness = 15.377925432948212\n",
      "Generation 402: Best Fitness = 15.377925432948212\n",
      "Generation 403: Best Fitness = 15.377925432948212\n",
      "Generation 404: Best Fitness = 15.377925432948212\n",
      "Generation 405: Best Fitness = 15.377925432948212\n",
      "Generation 406: Best Fitness = 15.377925432948212\n",
      "Generation 407: Best Fitness = 15.377925432948212\n",
      "Generation 408: Best Fitness = 15.377925432948212\n",
      "Generation 409: Best Fitness = 15.377925432948212\n",
      "Generation 410: Best Fitness = 15.377925432948212\n",
      "Generation 411: Best Fitness = 15.377925432948212\n",
      "Generation 412: Best Fitness = 15.377925432948212\n",
      "Generation 413: Best Fitness = 15.377925432948212\n",
      "Generation 414: Best Fitness = 15.377925432948212\n",
      "Generation 415: Best Fitness = 15.377925432948212\n",
      "Generation 416: Best Fitness = 15.377925432948212\n",
      "Generation 417: Best Fitness = 15.377925432948212\n",
      "Generation 418: Best Fitness = 15.377925432948212\n",
      "Generation 419: Best Fitness = 15.377925432948212\n",
      "Generation 420: Best Fitness = 15.377925432948212\n",
      "Generation 421: Best Fitness = 15.377925432948212\n",
      "Generation 422: Best Fitness = 15.377925432948212\n",
      "Generation 423: Best Fitness = 15.377925432948212\n",
      "Generation 424: Best Fitness = 15.377925432948212\n",
      "Generation 425: Best Fitness = 15.377925432948212\n",
      "Generation 426: Best Fitness = 15.377925432948212\n",
      "Generation 427: Best Fitness = 15.377925432948212\n",
      "Generation 428: Best Fitness = 15.377925432948212\n",
      "Generation 429: Best Fitness = 15.377925432948212\n",
      "Generation 430: Best Fitness = 15.377925432948212\n",
      "Generation 431: Best Fitness = 15.377925432948212\n",
      "Generation 432: Best Fitness = 15.377925432948212\n",
      "Generation 433: Best Fitness = 15.377925432948212\n",
      "Generation 434: Best Fitness = 15.377925432948212\n",
      "Generation 435: Best Fitness = 15.377925432948212\n",
      "Generation 436: Best Fitness = 15.377925432948212\n",
      "Generation 437: Best Fitness = 15.377925432948212\n",
      "Generation 438: Best Fitness = 15.377925432948212\n",
      "Generation 439: Best Fitness = 15.377925432948212\n",
      "Generation 440: Best Fitness = 15.377925432948212\n",
      "Generation 441: Best Fitness = 15.377925432948212\n",
      "Generation 442: Best Fitness = 15.377925432948212\n",
      "Generation 443: Best Fitness = 15.377925432948212\n",
      "Generation 444: Best Fitness = 15.377925432948212\n",
      "Generation 445: Best Fitness = 15.377925432948212\n",
      "Generation 446: Best Fitness = 15.377925432948212\n",
      "Generation 447: Best Fitness = 15.377925432948212\n",
      "Generation 448: Best Fitness = 15.377925432948212\n",
      "Generation 449: Best Fitness = 15.377925432948212\n",
      "Generation 450: Best Fitness = 15.377925432948212\n",
      "Generation 451: Best Fitness = 15.377925432948212\n",
      "Generation 452: Best Fitness = 15.377925432948212\n",
      "Generation 453: Best Fitness = 15.377925432948212\n",
      "Generation 454: Best Fitness = 15.377925432948212\n",
      "Generation 455: Best Fitness = 15.377925432948212\n",
      "Generation 456: Best Fitness = 15.377925432948212\n",
      "Generation 457: Best Fitness = 15.377925432948212\n",
      "Generation 458: Best Fitness = 15.377925432948212\n",
      "Generation 459: Best Fitness = 15.377925432948212\n",
      "Generation 460: Best Fitness = 15.377925432948212\n",
      "Generation 461: Best Fitness = 15.377925432948212\n",
      "Generation 462: Best Fitness = 15.377925432948212\n",
      "Generation 463: Best Fitness = 15.377925432948212\n",
      "Generation 464: Best Fitness = 15.377925432948212\n",
      "Generation 465: Best Fitness = 15.377925432948212\n",
      "Generation 466: Best Fitness = 15.377925432948212\n",
      "Generation 467: Best Fitness = 15.377925432948212\n",
      "Generation 468: Best Fitness = 15.377925432948212\n",
      "Generation 469: Best Fitness = 15.377925432948212\n",
      "Generation 470: Best Fitness = 15.377925432948212\n",
      "Generation 471: Best Fitness = 15.377925432948212\n",
      "Generation 472: Best Fitness = 15.377925432948212\n",
      "Generation 473: Best Fitness = 15.377925432948212\n",
      "Generation 474: Best Fitness = 15.377925432948212\n",
      "Generation 475: Best Fitness = 15.377925432948212\n",
      "Generation 476: Best Fitness = 15.377925432948212\n",
      "Generation 477: Best Fitness = 15.377925432948212\n",
      "Generation 478: Best Fitness = 15.377925432948212\n",
      "Generation 479: Best Fitness = 15.377925432948212\n",
      "Generation 480: Best Fitness = 15.377925432948212\n",
      "Generation 481: Best Fitness = 15.377925432948212\n",
      "Generation 482: Best Fitness = 15.377925432948212\n",
      "Generation 483: Best Fitness = 15.377925432948212\n",
      "Generation 484: Best Fitness = 15.377925432948212\n",
      "Generation 485: Best Fitness = 15.377925432948212\n",
      "Generation 486: Best Fitness = 15.377925432948212\n",
      "Generation 487: Best Fitness = 15.377925432948212\n",
      "Generation 488: Best Fitness = 15.377925432948212\n",
      "Generation 489: Best Fitness = 15.377925432948212\n",
      "Generation 490: Best Fitness = 15.377925432948212\n",
      "Generation 491: Best Fitness = 15.377925432948212\n",
      "Generation 492: Best Fitness = 15.377925432948212\n",
      "Generation 493: Best Fitness = 15.377925432948212\n",
      "Generation 494: Best Fitness = 15.377925432948212\n",
      "Generation 495: Best Fitness = 15.377925432948212\n",
      "Generation 496: Best Fitness = 15.377925432948212\n",
      "Generation 497: Best Fitness = 15.377925432948212\n",
      "Generation 498: Best Fitness = 15.377925432948212\n",
      "Generation 499: Best Fitness = 15.377925432948212\n"
     ]
    },
    {
     "data": {
      "image/png": "[encoded data removed]",
      "text/plain": [
       "<Figure size 900x400 with 1 Axes>"
      ]
     },
     "metadata": {},
     "output_type": "display_data"
    },
    {
     "name": "stdout",
     "output_type": "stream",
     "text": [
      "Melhor solução: [2, 0, 0, 4, 3, 2]\n",
      "Detalhes da melhor solução: {'Recompensa': 15.377925432948212, 'capacidade_media': 35.782500908374146, 'capacidade_min': 3.54975023199518, 'capacidades_selecionadas': [24.691904979102656, 139.04379494959525, 4.03184149323067, 3.54975023199518, 16.971567684700503, 26.406146111620625]}\n"
     ]
    }
   ],
   "source": [
    "import random\n",
    "\n",
    "\n",
    "class GeneticAlgorithm:\n",
    "    def __init__(self, env, population_size=100, generations=500, mutation_rate=0.1):\n",
    "        self.env = env\n",
    "        self.population_size = population_size\n",
    "        self.generations = generations\n",
    "        self.mutation_rate = mutation_rate\n",
    "        self.population = [self.random_chromosome() for _ in range(population_size)]\n",
    "\n",
    "    def random_chromosome(self):\n",
    "        return [random.randint(0, self.env.action_space.nvec[i] - 1) for i in range(self.env.num_uavs)]\n",
    "\n",
    "    def evaluate_fitness(self, chromosome):\n",
    "        self.env.reset()\n",
    "        self.env.ultima_acao = chromosome\n",
    "        _, reward, _, info = self.env.step(chromosome)\n",
    "        return reward, info\n",
    "\n",
    "    def select(self):\n",
    "        tournament_size = 5\n",
    "        selected = []\n",
    "        fitness_scores = [self.evaluate_fitness(chromosome) for chromosome in self.population]\n",
    "        for _ in range(self.population_size):\n",
    "            contenders = random.sample(list(enumerate(fitness_scores)), tournament_size)\n",
    "            winner_index, _ = max(contenders, key=lambda item: item[1][0])\n",
    "            selected.append(self.population[winner_index])\n",
    "        return selected\n",
    "\n",
    "    def crossover(self, parent1, parent2):\n",
    "        point = random.randint(1, self.env.num_uavs - 1)\n",
    "        return parent1[:point] + parent2[point:], parent2[:point] + parent1[point:]\n",
    "\n",
    "    def mutate(self, chromosome):\n",
    "        for i in range(len(chromosome)):\n",
    "            if random.random() < self.mutation_rate:\n",
    "                chromosome[i] = random.randint(0, self.env.action_space.nvec[i] - 1)\n",
    "        return chromosome\n",
    "\n",
    "    def run(self):\n",
    "        best_info = None\n",
    "        for generation in range(self.generations):\n",
    "            new_population = []\n",
    "            parents = self.select()\n",
    "            while len(new_population) < self.population_size:\n",
    "                parent1, parent2 = random.sample(parents, 2)\n",
    "                child1, child2 = self.crossover(parent1, parent2)\n",
    "                new_population.extend([self.mutate(child1), self.mutate(child2)])\n",
    "            self.population = new_population[:self.population_size]\n",
    "            fitness_scores = [self.evaluate_fitness(chrom) for chrom in self.population]\n",
    "            best_fitness, best_info = max(fitness_scores, key=lambda x: x[0])\n",
    "            print(f\"Generation {generation}: Best Fitness = {best_fitness}\")\n",
    "        best_solution_index = max(range(len(self.population)), key=lambda i: fitness_scores[i][0])\n",
    "        best_solution = self.population[best_solution_index]\n",
    "        return best_solution, best_info\n",
    "\n",
    "# Inicia o ambiente e o algoritmo genético\n",
    "env = UAVCommunicationEnv()\n",
    "ga = GeneticAlgorithm(env)\n",
    "\n",
    "# Executa o algoritmo e obtém a melhor solução e informações\n",
    "best_solution, best_info = ga.run()\n",
    "\n",
    "# Renderiza a melhor solução\n",
    "env.ultima_acao = best_solution\n",
    "env.render()\n",
    "\n",
    "# Imprime informações detalhadas sobre a melhor solução\n",
    "print(\"Melhor solução:\", best_solution)\n",
    "print(\"Detalhes da melhor solução:\", best_info)\n"
   ]
  }
 ],
 "metadata": {
  "kernelspec": {
   "display_name": "base",
   "language": "python",
   "name": "python3"
  },
  "language_info": {
   "codemirror_mode": {
    "name": "ipython",
    "version": 3
   },
   "file_extension": ".py",
   "mimetype": "text/x-python",
   "name": "python",
   "nbconvert_exporter": "python",
   "pygments_lexer": "ipython3",
   "version": "3.11.7"
  }
 },
 "nbformat": 4,
 "nbformat_minor": 2
}
