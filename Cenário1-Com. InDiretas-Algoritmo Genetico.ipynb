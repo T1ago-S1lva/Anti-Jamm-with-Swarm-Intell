{
 "cells": [
  {
   "cell_type": "code",
   "execution_count": 1,
   "metadata": {},
   "outputs": [
    {
     "name": "stderr",
     "output_type": "stream",
     "text": [
      "c:\\Users\\tass\\anaconda3\\Lib\\site-packages\\plotly\\express\\imshow_utils.py:24: DeprecationWarning:\n",
      "\n",
      "`np.bool8` is a deprecated alias for `np.bool_`.  (Deprecated NumPy 1.24)\n",
      "\n"
     ]
    }
   ],
   "source": [
    "import gym\n",
    "from gym import Env, spaces\n",
    "\n",
    "import numpy as np\n",
    "import seaborn as sns\n",
    "from plotly.offline import iplot\n",
    "import matplotlib.pyplot as plt\n",
    "import plotly.graph_objects as go\n",
    "import plotly.express as px\n",
    "import pandas as pd\n",
    "import random\n",
    "\n"
   ]
  },
  {
   "cell_type": "markdown",
   "metadata": {},
   "source": [
    "Configurar o Enxame\n"
   ]
  },
  {
   "cell_type": "code",
   "execution_count": 2,
   "metadata": {},
   "outputs": [],
   "source": [
    "num_drones = 6\n",
    "limite_y = 80\n",
    "limite_x = 100\n",
    "\n",
    "alcance_comunicacao_jammer = 25\n",
    "alcance_comunicacao_nos=5000\n",
    "B_Hz = 2.4e9  # Largura de banda\n",
    "\n",
    "# Posições estáticas dos drones\n",
    "posicoes = np.array([[16, 30], [18, 48], [44, 15], [23, 73], [45, 73], [50, 50]])\n",
    "\n",
    "posicao_jammer = np.array([33, 58])\n",
    "\n"
   ]
  },
  {
   "cell_type": "markdown",
   "metadata": {},
   "source": [
    "VIZUALIZAÇÃO DAS DIREÇÕES DAS ANTENAS ESCOLHIDAS ALEATORIAMENTE"
   ]
  },
  {
   "cell_type": "code",
   "execution_count": 14,
   "metadata": {},
   "outputs": [
    {
     "data": {
      "application/vnd.plotly.v1+json": {
       "config": {
        "plotlyServerURL": "https://plot.ly"
       },
       "data": [
        {
         "marker": {
          "color": "blue",
          "size": 10
         },
         "mode": "markers+text",
         "showlegend": false,
         "text": "0",
         "textposition": "bottom center",
         "type": "scatter",
         "x": [
          16
         ],
         "y": [
          30
         ]
        },
        {
         "line": {
          "color": "black",
          "width": 1.5
         },
         "mode": "lines",
         "showlegend": false,
         "type": "scatter",
         "x": [
          16,
          16.695865504800327
         ],
         "y": [
          30,
          25.04865965629215
         ]
        },
        {
         "marker": {
          "color": "blue",
          "size": 10
         },
         "mode": "markers+text",
         "showlegend": false,
         "text": "1",
         "textposition": "bottom center",
         "type": "scatter",
         "x": [
          18
         ],
         "y": [
          48
         ]
        },
        {
         "line": {
          "color": "black",
          "width": 1.5
         },
         "mode": "lines",
         "showlegend": false,
         "type": "scatter",
         "x": [
          18,
          16.960441545911202
         ],
         "y": [
          48,
          52.89073800366903
         ]
        },
        {
         "marker": {
          "color": "blue",
          "size": 10
         },
         "mode": "markers+text",
         "showlegend": false,
         "text": "2",
         "textposition": "bottom center",
         "type": "scatter",
         "x": [
          44
         ],
         "y": [
          15
         ]
        },
        {
         "line": {
          "color": "black",
          "width": 1.5
         },
         "mode": "lines",
         "showlegend": false,
         "type": "scatter",
         "x": [
          44,
          41.132117818244765
         ],
         "y": [
          15,
          10.904239778555041
         ]
        },
        {
         "marker": {
          "color": "blue",
          "size": 10
         },
         "mode": "markers+text",
         "showlegend": false,
         "text": "3",
         "textposition": "bottom center",
         "type": "scatter",
         "x": [
          23
         ],
         "y": [
          73
         ]
        },
        {
         "line": {
          "color": "black",
          "width": 1.5
         },
         "mode": "lines",
         "showlegend": false,
         "type": "scatter",
         "x": [
          23,
          26.34565303179429
         ],
         "y": [
          73,
          69.28427587261302
         ]
        },
        {
         "marker": {
          "color": "blue",
          "size": 10
         },
         "mode": "markers+text",
         "showlegend": false,
         "text": "4",
         "textposition": "bottom center",
         "type": "scatter",
         "x": [
          45
         ],
         "y": [
          73
         ]
        },
        {
         "line": {
          "color": "black",
          "width": 1.5
         },
         "mode": "lines",
         "showlegend": false,
         "type": "scatter",
         "x": [
          45,
          40.00304586490452
         ],
         "y": [
          73,
          72.82550251648749
         ]
        },
        {
         "marker": {
          "color": "blue",
          "size": 10
         },
         "mode": "markers+text",
         "showlegend": false,
         "text": "5",
         "textposition": "bottom center",
         "type": "scatter",
         "x": [
          50
         ],
         "y": [
          50
         ]
        },
        {
         "line": {
          "color": "black",
          "width": 1.5
         },
         "mode": "lines",
         "showlegend": false,
         "type": "scatter",
         "x": [
          50,
          47.652642186070544
         ],
         "y": [
          50,
          45.58526203570536
         ]
        },
        {
         "marker": {
          "color": "red",
          "size": 12
         },
         "mode": "markers",
         "name": "Jammer",
         "type": "scatter",
         "x": [
          33
         ],
         "y": [
          58
         ]
        },
        {
         "marker": {
          "color": "blue",
          "size": 10
         },
         "mode": "markers",
         "name": "Drone",
         "type": "scatter",
         "x": [
          null
         ],
         "y": [
          null
         ]
        }
       ],
       "layout": {
        "legend": {
         "itemsizing": "constant",
         "title": {
          "text": "Legenda"
         },
         "traceorder": "normal"
        },
        "template": {
         "data": {
          "bar": [
           {
            "error_x": {
             "color": "#2a3f5f"
            },
            "error_y": {
             "color": "#2a3f5f"
            },
            "marker": {
             "line": {
              "color": "#E5ECF6",
              "width": 0.5
             },
             "pattern": {
              "fillmode": "overlay",
              "size": 10,
              "solidity": 0.2
             }
            },
            "type": "bar"
           }
          ],
          "barpolar": [
           {
            "marker": {
             "line": {
              "color": "#E5ECF6",
              "width": 0.5
             },
             "pattern": {
              "fillmode": "overlay",
              "size": 10,
              "solidity": 0.2
             }
            },
            "type": "barpolar"
           }
          ],
          "carpet": [
           {
            "aaxis": {
             "endlinecolor": "#2a3f5f",
             "gridcolor": "white",
             "linecolor": "white",
             "minorgridcolor": "white",
             "startlinecolor": "#2a3f5f"
            },
            "baxis": {
             "endlinecolor": "#2a3f5f",
             "gridcolor": "white",
             "linecolor": "white",
             "minorgridcolor": "white",
             "startlinecolor": "#2a3f5f"
            },
            "type": "carpet"
           }
          ],
          "choropleth": [
           {
            "colorbar": {
             "outlinewidth": 0,
             "ticks": ""
            },
            "type": "choropleth"
           }
          ],
          "contour": [
           {
            "colorbar": {
             "outlinewidth": 0,
             "ticks": ""
            },
            "colorscale": [
             [
              0,
              "#0d0887"
             ],
             [
              0.1111111111111111,
              "#46039f"
             ],
             [
              0.2222222222222222,
              "#7201a8"
             ],
             [
              0.3333333333333333,
              "#9c179e"
             ],
             [
              0.4444444444444444,
              "#bd3786"
             ],
             [
              0.5555555555555556,
              "#d8576b"
             ],
             [
              0.6666666666666666,
              "#ed7953"
             ],
             [
              0.7777777777777778,
              "#fb9f3a"
             ],
             [
              0.8888888888888888,
              "#fdca26"
             ],
             [
              1,
              "#f0f921"
             ]
            ],
            "type": "contour"
           }
          ],
          "contourcarpet": [
           {
            "colorbar": {
             "outlinewidth": 0,
             "ticks": ""
            },
            "type": "contourcarpet"
           }
          ],
          "heatmap": [
           {
            "colorbar": {
             "outlinewidth": 0,
             "ticks": ""
            },
            "colorscale": [
             [
              0,
              "#0d0887"
             ],
             [
              0.1111111111111111,
              "#46039f"
             ],
             [
              0.2222222222222222,
              "#7201a8"
             ],
             [
              0.3333333333333333,
              "#9c179e"
             ],
             [
              0.4444444444444444,
              "#bd3786"
             ],
             [
              0.5555555555555556,
              "#d8576b"
             ],
             [
              0.6666666666666666,
              "#ed7953"
             ],
             [
              0.7777777777777778,
              "#fb9f3a"
             ],
             [
              0.8888888888888888,
              "#fdca26"
             ],
             [
              1,
              "#f0f921"
             ]
            ],
            "type": "heatmap"
           }
          ],
          "heatmapgl": [
           {
            "colorbar": {
             "outlinewidth": 0,
             "ticks": ""
            },
            "colorscale": [
             [
              0,
              "#0d0887"
             ],
             [
              0.1111111111111111,
              "#46039f"
             ],
             [
              0.2222222222222222,
              "#7201a8"
             ],
             [
              0.3333333333333333,
              "#9c179e"
             ],
             [
              0.4444444444444444,
              "#bd3786"
             ],
             [
              0.5555555555555556,
              "#d8576b"
             ],
             [
              0.6666666666666666,
              "#ed7953"
             ],
             [
              0.7777777777777778,
              "#fb9f3a"
             ],
             [
              0.8888888888888888,
              "#fdca26"
             ],
             [
              1,
              "#f0f921"
             ]
            ],
            "type": "heatmapgl"
           }
          ],
          "histogram": [
           {
            "marker": {
             "pattern": {
              "fillmode": "overlay",
              "size": 10,
              "solidity": 0.2
             }
            },
            "type": "histogram"
           }
          ],
          "histogram2d": [
           {
            "colorbar": {
             "outlinewidth": 0,
             "ticks": ""
            },
            "colorscale": [
             [
              0,
              "#0d0887"
             ],
             [
              0.1111111111111111,
              "#46039f"
             ],
             [
              0.2222222222222222,
              "#7201a8"
             ],
             [
              0.3333333333333333,
              "#9c179e"
             ],
             [
              0.4444444444444444,
              "#bd3786"
             ],
             [
              0.5555555555555556,
              "#d8576b"
             ],
             [
              0.6666666666666666,
              "#ed7953"
             ],
             [
              0.7777777777777778,
              "#fb9f3a"
             ],
             [
              0.8888888888888888,
              "#fdca26"
             ],
             [
              1,
              "#f0f921"
             ]
            ],
            "type": "histogram2d"
           }
          ],
          "histogram2dcontour": [
           {
            "colorbar": {
             "outlinewidth": 0,
             "ticks": ""
            },
            "colorscale": [
             [
              0,
              "#0d0887"
             ],
             [
              0.1111111111111111,
              "#46039f"
             ],
             [
              0.2222222222222222,
              "#7201a8"
             ],
             [
              0.3333333333333333,
              "#9c179e"
             ],
             [
              0.4444444444444444,
              "#bd3786"
             ],
             [
              0.5555555555555556,
              "#d8576b"
             ],
             [
              0.6666666666666666,
              "#ed7953"
             ],
             [
              0.7777777777777778,
              "#fb9f3a"
             ],
             [
              0.8888888888888888,
              "#fdca26"
             ],
             [
              1,
              "#f0f921"
             ]
            ],
            "type": "histogram2dcontour"
           }
          ],
          "mesh3d": [
           {
            "colorbar": {
             "outlinewidth": 0,
             "ticks": ""
            },
            "type": "mesh3d"
           }
          ],
          "parcoords": [
           {
            "line": {
             "colorbar": {
              "outlinewidth": 0,
              "ticks": ""
             }
            },
            "type": "parcoords"
           }
          ],
          "pie": [
           {
            "automargin": true,
            "type": "pie"
           }
          ],
          "scatter": [
           {
            "fillpattern": {
             "fillmode": "overlay",
             "size": 10,
             "solidity": 0.2
            },
            "type": "scatter"
           }
          ],
          "scatter3d": [
           {
            "line": {
             "colorbar": {
              "outlinewidth": 0,
              "ticks": ""
             }
            },
            "marker": {
             "colorbar": {
              "outlinewidth": 0,
              "ticks": ""
             }
            },
            "type": "scatter3d"
           }
          ],
          "scattercarpet": [
           {
            "marker": {
             "colorbar": {
              "outlinewidth": 0,
              "ticks": ""
             }
            },
            "type": "scattercarpet"
           }
          ],
          "scattergeo": [
           {
            "marker": {
             "colorbar": {
              "outlinewidth": 0,
              "ticks": ""
             }
            },
            "type": "scattergeo"
           }
          ],
          "scattergl": [
           {
            "marker": {
             "colorbar": {
              "outlinewidth": 0,
              "ticks": ""
             }
            },
            "type": "scattergl"
           }
          ],
          "scattermapbox": [
           {
            "marker": {
             "colorbar": {
              "outlinewidth": 0,
              "ticks": ""
             }
            },
            "type": "scattermapbox"
           }
          ],
          "scatterpolar": [
           {
            "marker": {
             "colorbar": {
              "outlinewidth": 0,
              "ticks": ""
             }
            },
            "type": "scatterpolar"
           }
          ],
          "scatterpolargl": [
           {
            "marker": {
             "colorbar": {
              "outlinewidth": 0,
              "ticks": ""
             }
            },
            "type": "scatterpolargl"
           }
          ],
          "scatterternary": [
           {
            "marker": {
             "colorbar": {
              "outlinewidth": 0,
              "ticks": ""
             }
            },
            "type": "scatterternary"
           }
          ],
          "surface": [
           {
            "colorbar": {
             "outlinewidth": 0,
             "ticks": ""
            },
            "colorscale": [
             [
              0,
              "#0d0887"
             ],
             [
              0.1111111111111111,
              "#46039f"
             ],
             [
              0.2222222222222222,
              "#7201a8"
             ],
             [
              0.3333333333333333,
              "#9c179e"
             ],
             [
              0.4444444444444444,
              "#bd3786"
             ],
             [
              0.5555555555555556,
              "#d8576b"
             ],
             [
              0.6666666666666666,
              "#ed7953"
             ],
             [
              0.7777777777777778,
              "#fb9f3a"
             ],
             [
              0.8888888888888888,
              "#fdca26"
             ],
             [
              1,
              "#f0f921"
             ]
            ],
            "type": "surface"
           }
          ],
          "table": [
           {
            "cells": {
             "fill": {
              "color": "#EBF0F8"
             },
             "line": {
              "color": "white"
             }
            },
            "header": {
             "fill": {
              "color": "#C8D4E3"
             },
             "line": {
              "color": "white"
             }
            },
            "type": "table"
           }
          ]
         },
         "layout": {
          "annotationdefaults": {
           "arrowcolor": "#2a3f5f",
           "arrowhead": 0,
           "arrowwidth": 1
          },
          "autotypenumbers": "strict",
          "coloraxis": {
           "colorbar": {
            "outlinewidth": 0,
            "ticks": ""
           }
          },
          "colorscale": {
           "diverging": [
            [
             0,
             "#8e0152"
            ],
            [
             0.1,
             "#c51b7d"
            ],
            [
             0.2,
             "#de77ae"
            ],
            [
             0.3,
             "#f1b6da"
            ],
            [
             0.4,
             "#fde0ef"
            ],
            [
             0.5,
             "#f7f7f7"
            ],
            [
             0.6,
             "#e6f5d0"
            ],
            [
             0.7,
             "#b8e186"
            ],
            [
             0.8,
             "#7fbc41"
            ],
            [
             0.9,
             "#4d9221"
            ],
            [
             1,
             "#276419"
            ]
           ],
           "sequential": [
            [
             0,
             "#0d0887"
            ],
            [
             0.1111111111111111,
             "#46039f"
            ],
            [
             0.2222222222222222,
             "#7201a8"
            ],
            [
             0.3333333333333333,
             "#9c179e"
            ],
            [
             0.4444444444444444,
             "#bd3786"
            ],
            [
             0.5555555555555556,
             "#d8576b"
            ],
            [
             0.6666666666666666,
             "#ed7953"
            ],
            [
             0.7777777777777778,
             "#fb9f3a"
            ],
            [
             0.8888888888888888,
             "#fdca26"
            ],
            [
             1,
             "#f0f921"
            ]
           ],
           "sequentialminus": [
            [
             0,
             "#0d0887"
            ],
            [
             0.1111111111111111,
             "#46039f"
            ],
            [
             0.2222222222222222,
             "#7201a8"
            ],
            [
             0.3333333333333333,
             "#9c179e"
            ],
            [
             0.4444444444444444,
             "#bd3786"
            ],
            [
             0.5555555555555556,
             "#d8576b"
            ],
            [
             0.6666666666666666,
             "#ed7953"
            ],
            [
             0.7777777777777778,
             "#fb9f3a"
            ],
            [
             0.8888888888888888,
             "#fdca26"
            ],
            [
             1,
             "#f0f921"
            ]
           ]
          },
          "colorway": [
           "#636efa",
           "#EF553B",
           "#00cc96",
           "#ab63fa",
           "#FFA15A",
           "#19d3f3",
           "#FF6692",
           "#B6E880",
           "#FF97FF",
           "#FECB52"
          ],
          "font": {
           "color": "#2a3f5f"
          },
          "geo": {
           "bgcolor": "white",
           "lakecolor": "white",
           "landcolor": "#E5ECF6",
           "showlakes": true,
           "showland": true,
           "subunitcolor": "white"
          },
          "hoverlabel": {
           "align": "left"
          },
          "hovermode": "closest",
          "mapbox": {
           "style": "light"
          },
          "paper_bgcolor": "white",
          "plot_bgcolor": "#E5ECF6",
          "polar": {
           "angularaxis": {
            "gridcolor": "white",
            "linecolor": "white",
            "ticks": ""
           },
           "bgcolor": "#E5ECF6",
           "radialaxis": {
            "gridcolor": "white",
            "linecolor": "white",
            "ticks": ""
           }
          },
          "scene": {
           "xaxis": {
            "backgroundcolor": "#E5ECF6",
            "gridcolor": "white",
            "gridwidth": 2,
            "linecolor": "white",
            "showbackground": true,
            "ticks": "",
            "zerolinecolor": "white"
           },
           "yaxis": {
            "backgroundcolor": "#E5ECF6",
            "gridcolor": "white",
            "gridwidth": 2,
            "linecolor": "white",
            "showbackground": true,
            "ticks": "",
            "zerolinecolor": "white"
           },
           "zaxis": {
            "backgroundcolor": "#E5ECF6",
            "gridcolor": "white",
            "gridwidth": 2,
            "linecolor": "white",
            "showbackground": true,
            "ticks": "",
            "zerolinecolor": "white"
           }
          },
          "shapedefaults": {
           "line": {
            "color": "#2a3f5f"
           }
          },
          "ternary": {
           "aaxis": {
            "gridcolor": "white",
            "linecolor": "white",
            "ticks": ""
           },
           "baxis": {
            "gridcolor": "white",
            "linecolor": "white",
            "ticks": ""
           },
           "bgcolor": "#E5ECF6",
           "caxis": {
            "gridcolor": "white",
            "linecolor": "white",
            "ticks": ""
           }
          },
          "title": {
           "x": 0.05
          },
          "xaxis": {
           "automargin": true,
           "gridcolor": "white",
           "linecolor": "white",
           "ticks": "",
           "title": {
            "standoff": 15
           },
           "zerolinecolor": "white",
           "zerolinewidth": 2
          },
          "yaxis": {
           "automargin": true,
           "gridcolor": "white",
           "linecolor": "white",
           "ticks": "",
           "title": {
            "standoff": 15
           },
           "zerolinecolor": "white",
           "zerolinewidth": 2
          }
         }
        },
        "title": {
         "text": "Simulação de Modelo de Comunicação Wireless entre Drones"
        },
        "xaxis": {
         "autorange": false,
         "range": [
          0,
          100
         ]
        },
        "yaxis": {
         "autorange": false,
         "range": [
          0,
          80
         ]
        }
       }
      }
     },
     "metadata": {},
     "output_type": "display_data"
    },
    {
     "name": "stdout",
     "output_type": "stream",
     "text": [
      "[278, 102, 235, 312, 182, 242]\n"
     ]
    }
   ],
   "source": [
    "# Função para calcular a distância entre duas posições\n",
    "def distancia(pos1, pos2):\n",
    "    return np.sqrt((pos1[0] - pos2[0])**2 + (pos1[1] - pos2[1])**2)\n",
    "\n",
    "# Função para encontrar vizinhos dentro do alcance de comunicação\n",
    "def encontra_vizinhos(posicoes, alcance_comunicacao_nos):\n",
    "    num_drones = posicoes.shape[0]\n",
    "    vizinhos = {}\n",
    "    for i in range(num_drones):\n",
    "        vizinhos[i] = []\n",
    "        for j in range(num_drones):\n",
    "            if i != j and distancia(posicoes[i], posicoes[j]) <= alcance_comunicacao_nos:\n",
    "                vizinhos[i].append(j)\n",
    "    return vizinhos\n",
    "\n",
    "# Função para verificar quais drones são afetados pelo jammer\n",
    "def verifica_jammer(posicoes, posicao_jammer, alcance_comunicacao_jammer):\n",
    "    afetados_pelo_jammer = []\n",
    "    for i in range(posicoes.shape[0]):\n",
    "        if distancia(posicoes[i], posicao_jammer) <= alcance_comunicacao_jammer:\n",
    "            afetados_pelo_jammer.append(i)\n",
    "    return afetados_pelo_jammer\n",
    "\n",
    "# Gera direções aleatórias para as antenas\n",
    "direcoes_antena = np.random.uniform(0, 360, size=num_drones)\n",
    "direcoes_antena = [278, 102, 235, 312, 182, 242]\n",
    "afetados_pelo_jammer=verifica_jammer(posicoes, posicao_jammer, alcance_comunicacao_jammer)\n",
    "# Comprimento das setas para indicar a direção das antenas\n",
    "comprimento_seta = 5\n",
    "\n",
    "# Criar a figura\n",
    "fig = go.Figure()\n",
    "\n",
    "# Adiciona os drones\n",
    "for i in range(num_drones):\n",
    "    cor = 'blue' if i in afetados_pelo_jammer else 'blue' # type: ignore\n",
    "    fig.add_trace(go.Scatter(\n",
    "        x=[posicoes[i, 0]],\n",
    "        y=[posicoes[i, 1]],\n",
    "        mode='markers+text',\n",
    "        marker=dict(size=10, color=cor),\n",
    "        text=str(i),\n",
    "        textposition=\"bottom center\",\n",
    "        showlegend=False\n",
    "    ))\n",
    "\n",
    "    # Calcular as coordenadas da seta para a direção da antena\n",
    "    direcao_radianos = np.radians(direcoes_antena[i])\n",
    "    dx = comprimento_seta * np.cos(direcao_radianos)\n",
    "    dy = comprimento_seta * np.sin(direcao_radianos)\n",
    "    seta_x = posicoes[i, 0] + dx\n",
    "    seta_y = posicoes[i, 1] + dy\n",
    "    \n",
    "    # Adiciona uma linha para indicar a direção da antena\n",
    "    fig.add_trace(go.Scatter(\n",
    "        x=[posicoes[i, 0], seta_x],\n",
    "        y=[posicoes[i, 1], seta_y],\n",
    "        mode='lines',\n",
    "        line=dict(color='black', width=1.5),\n",
    "        showlegend=False\n",
    "    ))\n",
    "\n",
    "# Adiciona o jammer\n",
    "fig.add_trace(go.Scatter(\n",
    "    x=[posicao_jammer[0]],\n",
    "    y=[posicao_jammer[1]],\n",
    "    mode='markers',\n",
    "    marker=dict(size=12, color='red'),\n",
    "    name='Jammer'\n",
    "))\n",
    "\n",
    "# Adiciona rastros para a legenda\n",
    "fig.add_trace(go.Scatter(x=[None], y=[None], mode='markers', marker=dict(size=10, color='blue'), name=\"Drone\"))\n",
    "# fig.add_trace(go.Scatter(x=[None], y=[None], mode='markers', marker=dict(size=10, color='orange'), name=\"Nó afetado\"))\n",
    "\n",
    "# Configurações do gráfico\n",
    "fig.update_layout(\n",
    "    title=\"Simulação de Modelo de Comunicação Wireless entre Drones\",\n",
    "    xaxis=dict(range=[0, limite_x], autorange=False),\n",
    "    yaxis=dict(range=[0, limite_y], autorange=False),\n",
    "    legend_title_text='Legenda',\n",
    "    legend=dict(traceorder='normal', itemsizing='constant')\n",
    ")\n",
    "\n",
    "fig.show()\n",
    "print(direcoes_antena)"
   ]
  },
  {
   "cell_type": "markdown",
   "metadata": {},
   "source": [
    "CALCULO DE TODOS OS ANGULOS A USAR"
   ]
  },
  {
   "cell_type": "code",
   "execution_count": 4,
   "metadata": {},
   "outputs": [
    {
     "name": "stdout",
     "output_type": "stream",
     "text": [
      "Drones que o drone 0 'vê' e seus ângulos:\n",
      "  Com o drone 1: 166 graus\n",
      "  Com o drone 2: 54 graus\n",
      "  Com o drone 3: 163 graus\n",
      "  Com o drone 4: 138 graus\n",
      "  Com o drone 5: 112 graus\n",
      "Drones que o drone 1 'vê' e seus ângulos:\n",
      "  Com o drone 0: 162 graus\n",
      "  Com o drone 2: 206 graus\n",
      "  Com o drone 3: 337 graus\n",
      "  Com o drone 4: 301 graus\n",
      "  Com o drone 5: 262 graus\n",
      "Drones que o drone 2 'vê' e seus ângulos:\n",
      "  Com o drone 0: 277 graus\n",
      "  Com o drone 1: 253 graus\n",
      "  Com o drone 3: 235 graus\n",
      "  Com o drone 4: 214 graus\n",
      "  Com o drone 5: 205 graus\n",
      "Drones que o drone 3 'vê' e seus ângulos:\n",
      "  Com o drone 0: 309 graus\n",
      "  Com o drone 1: 307 graus\n",
      "  Com o drone 2: 338 graus\n",
      "  Com o drone 4: 48 graus\n",
      "  Com o drone 5: 8 graus\n",
      "Drones que o drone 4 'vê' e seus ângulos:\n",
      "  Com o drone 0: 54 graus\n",
      "  Com o drone 1: 41 graus\n",
      "  Com o drone 2: 87 graus\n",
      "  Com o drone 3: 358 graus\n",
      "  Com o drone 5: 100 graus\n",
      "Drones que o drone 5 'vê' e seus ângulos:\n",
      "  Com o drone 0: 328 graus\n",
      "  Com o drone 1: 302 graus\n",
      "  Com o drone 2: 18 graus\n",
      "  Com o drone 3: 258 graus\n",
      "  Com o drone 4: 220 graus\n"
     ]
    }
   ],
   "source": [
    "import numpy as np\n",
    "\n",
    "# Função para calcular o ângulo entre dois nós em relação à direção da antena\n",
    "def angulo_entre_nos(pos1, direcao_antena, pos2):\n",
    "    # Vetor entre os dois nós\n",
    "    delta_x = pos2[0] - pos1[0]\n",
    "    delta_y = pos2[1] - pos1[1]\n",
    "    \n",
    "    # Direção do vetor em graus\n",
    "    direcao_vetor_rad = np.arctan2(delta_y, delta_x)\n",
    "    direcao_vetor_deg = np.degrees(direcao_vetor_rad)\n",
    "    \n",
    "    # Diferença entre a direção do vetor e a direção da antena\n",
    "    angulo = direcao_vetor_deg - direcao_antena\n",
    "    \n",
    "    # Ajustar para o intervalo de 0 a 360 graus\n",
    "    angulo = angulo % 360  # Usa módulo para garantir que o valor esteja entre 0 e 360\n",
    "    \n",
    "    return angulo\n",
    "\n",
    "# Posições dos drones\n",
    "# posicoes = np.array([[16, 30], [18, 48], [44, 15], [23, 73], [45, 73], [50, 50]])\n",
    "\n",
    "# Direções aleatórias das antenas\n",
    "# direcoes_antena = np.random.uniform(0, 360, size=posicoes.shape[0])\n",
    "\n",
    "# Matriz para armazenar os ângulos\n",
    "angulos_matriz = np.zeros((posicoes.shape[0], posicoes.shape[0]))\n",
    "\n",
    "# Calcular os ângulos para todas as combinações de drones\n",
    "for i in range(posicoes.shape[0]):\n",
    "    for j in range(posicoes.shape[0]):\n",
    "        if i != j:\n",
    "            angulos_matriz[i, j] = angulo_entre_nos(posicoes[i], direcoes_antena[i], posicoes[j])\n",
    "\n",
    "# Apresentar os ângulos entre drones sem valores negativos\n",
    "for i in range(posicoes.shape[0]):\n",
    "    print(f\"Drones que o drone {i} 'vê' e seus ângulos:\")\n",
    "    for j in range(posicoes.shape[0]):\n",
    "        if i != j:\n",
    "            angulo_arredondado = int(round(angulos_matriz[i, j]))  # Arredondar para unidade\n",
    "            print(f\"  Com o drone {j}: {angulo_arredondado} graus\")"
   ]
  },
  {
   "cell_type": "markdown",
   "metadata": {},
   "source": [
    "PARAMETROS \n"
   ]
  },
  {
   "cell_type": "code",
   "execution_count": 22,
   "metadata": {},
   "outputs": [],
   "source": [
    "Ptx_dBm = 30 \n",
    "f = 2.4e9 \n",
    "B_Hz= 2.4e9\n",
    "d0=1\n",
    "gamma=2\n",
    "c=3e8\n",
    "lambda_m=c/f\n",
    "\n",
    "potencia_jammer_dBm =100\n",
    "\n",
    "# Ler o arquivo de ganhos para criar uma tabela de busca\n",
    "ganhos_df = pd.read_csv('ganhos.csv')"
   ]
  },
  {
   "cell_type": "code",
   "execution_count": 23,
   "metadata": {},
   "outputs": [
    {
     "data": {
      "image/png": "[encoded data removed]",
      "text/plain": [
       "<Figure size 640x480 with 1 Axes>"
      ]
     },
     "metadata": {},
     "output_type": "display_data"
    }
   ],
   "source": [
    "angulos = np.deg2rad(ganhos_df['angulo'])  # Converter graus para radianos\n",
    "ganhos = ganhos_df['ganho']\n",
    "\n",
    "# Criar um gráfico polar\n",
    "fig, ax = plt.subplots(subplot_kw={'projection': 'polar'})\n",
    "ax.plot(angulos, ganhos, linestyle='-', linewidth=1, label='Ganho da Antena')\n",
    "\n",
    "# Ajustar o layout\n",
    "ax.set_theta_zero_location('N')  # Configurar a direção Norte como o topo do gráfico\n",
    "ax.set_theta_direction(-1)  # Configurar a direção dos ângulos para sentido horário\n",
    "ax.set_rmax(max(ganhos) + 1)  # Ajustar o raio máximo para melhor visualização\n",
    "ax.set_rticks(np.linspace(min(ganhos), max(ganhos), num=5))  # Definir os ticks para o raio\n",
    "ax.set_rlabel_position(45)  # Posicionar os labels do raio\n",
    "\n",
    "# Configurar os ticks para o ângulo\n",
    "ax.set_xticks(np.deg2rad(np.arange(0, 360, 30)))  # Definir marcas de ângulo a cada 30 graus\n",
    "\n",
    "# Adicionar legenda e título\n",
    "ax.legend()\n",
    "ax.set_title('Ganho da Antena por Ângulo', va='bottom')\n",
    "\n",
    "# Mostrar o gráfico\n",
    "plt.show()"
   ]
  },
  {
   "cell_type": "code",
   "execution_count": 6,
   "metadata": {},
   "outputs": [
    {
     "name": "stdout",
     "output_type": "stream",
     "text": [
      "Ganhos Rx,Tx: -19.07 -18.86\n",
      "  Potencia recebida do drone 0 para o drone 1: -73.13 dBm\n",
      "  Ruido recebido no drone 1 e do jammer: 28.91 dBm\n",
      "  Capacidade do canal 0 para 1: 0.00 bps\n",
      "Ganhos Rx,Tx: 0.5 -12.2\n",
      "  Potencia recebida do drone 0 para o drone 2: -51.78 dBm\n",
      "  Ruido recebido no drone 2 e do jammer: 10.78 dBm\n",
      "  Capacidade do canal 0 para 2: 1.92 bps\n",
      "Ganhos Rx,Tx: -18.89 2.0\n",
      "  Potencia recebida do drone 0 para o drone 3: -59.72 dBm\n",
      "  Ruido recebido no drone 3 e do jammer: 44.69 dBm\n",
      "  Capacidade do canal 0 para 3: 0.00 bps\n",
      "Ganhos Rx,Tx: -17.3 0.5\n",
      "  Potencia recebida do drone 0 para o drone 4: -61.14 dBm\n",
      "  Ruido recebido no drone 4 e do jammer: 37.28 dBm\n",
      "  Capacidade do canal 0 para 4: 0.00 bps\n",
      "Ganhos Rx,Tx: -14.6 6.95\n",
      "  Potencia recebida do drone 0 para o drone 5: -49.62 dBm\n",
      "  Ruido recebido no drone 5 e do jammer: 20.68 dBm\n",
      "  Capacidade do canal 0 para 5: 0.32 bps\n",
      "Ganhos Rx,Tx: -18.86 -19.07\n",
      "  Potencia recebida do drone 1 para o drone 0: -73.13 dBm\n",
      "  Ruido recebido no drone 0 e do jammer: 12.05 dBm\n",
      "  Capacidade do canal 1 para 0: 0.01 bps\n",
      "Ganhos Rx,Tx: -18.62 -17.95\n",
      "  Potencia recebida do drone 1 para o drone 2: -79.08 dBm\n",
      "  Ruido recebido no drone 2 e do jammer: 10.78 dBm\n",
      "  Capacidade do canal 1 para 2: 0.00 bps\n",
      "Ganhos Rx,Tx: 8.41 1.0\n",
      "  Potencia recebida do drone 1 para o drone 3: -28.77 dBm\n",
      "  Ruido recebido no drone 3 e do jammer: 44.69 dBm\n",
      "  Capacidade do canal 1 para 3: 0.16 bps\n",
      "Ganhos Rx,Tx: -2.0 5.7\n",
      "  Potencia recebida do drone 1 para o drone 4: -37.66 dBm\n",
      "  Ruido recebido no drone 4 e do jammer: 37.28 dBm\n",
      "  Capacidade do canal 1 para 4: 0.11 bps\n",
      "Ganhos Rx,Tx: -21.0 -1.5\n",
      "  Potencia recebida do drone 1 para o drone 5: -62.67 dBm\n",
      "  Ruido recebido no drone 5 e do jammer: 20.68 dBm\n",
      "  Capacidade do canal 1 para 5: 0.02 bps\n",
      "Ganhos Rx,Tx: -12.2 0.5\n",
      "  Potencia recebida do drone 2 para o drone 0: -51.78 dBm\n",
      "  Ruido recebido no drone 0 e do jammer: 12.05 dBm\n",
      "  Capacidade do canal 2 para 0: 1.43 bps\n",
      "Ganhos Rx,Tx: -17.95 -18.62\n",
      "  Potencia recebida do drone 2 para o drone 1: -79.08 dBm\n",
      "  Ruido recebido no drone 1 e do jammer: 28.91 dBm\n",
      "  Capacidade do canal 2 para 1: 0.00 bps\n",
      "Ganhos Rx,Tx: -15.55 8.54\n",
      "  Potencia recebida do drone 2 para o drone 3: -52.86 dBm\n",
      "  Ruido recebido no drone 3 e do jammer: 44.69 dBm\n",
      "  Capacidade do canal 2 para 3: 0.00 bps\n",
      "Ganhos Rx,Tx: -18.1 -13.8\n",
      "  Potencia recebida do drone 2 para o drone 4: -77.22 dBm\n",
      "  Ruido recebido no drone 4 e do jammer: 37.28 dBm\n",
      "  Capacidade do canal 2 para 4: 0.00 bps\n",
      "Ganhos Rx,Tx: -18.65 9.25\n",
      "  Potencia recebida do drone 2 para o drone 5: -50.45 dBm\n",
      "  Ruido recebido no drone 5 e do jammer: 20.68 dBm\n",
      "  Capacidade do canal 2 para 5: 0.27 bps\n",
      "Ganhos Rx,Tx: 2.0 -18.89\n",
      "  Potencia recebida do drone 3 para o drone 0: -59.72 dBm\n",
      "  Ruido recebido no drone 0 e do jammer: 12.05 dBm\n",
      "  Capacidade do canal 3 para 0: 0.23 bps\n",
      "Ganhos Rx,Tx: 1.0 8.41\n",
      "  Potencia recebida do drone 3 para o drone 1: -28.77 dBm\n",
      "  Ruido recebido no drone 1 e do jammer: 28.91 dBm\n",
      "  Capacidade do canal 3 para 1: 5.92 bps\n",
      "Ganhos Rx,Tx: 8.54 -15.55\n",
      "  Potencia recebida do drone 3 para o drone 2: -52.86 dBm\n",
      "  Ruido recebido no drone 2 e do jammer: 10.78 dBm\n",
      "  Capacidade do canal 3 para 2: 1.50 bps\n",
      "Ganhos Rx,Tx: 3.5 10.0\n",
      "  Potencia recebida do drone 3 para o drone 4: -23.39 dBm\n",
      "  Ruido recebido no drone 4 e do jammer: 37.28 dBm\n",
      "  Capacidade do canal 3 para 4: 2.96 bps\n",
      "Ganhos Rx,Tx: 9.85 -21.2\n",
      "  Potencia recebida do drone 3 para o drone 5: -52.39 dBm\n",
      "  Ruido recebido no drone 5 e do jammer: 20.68 dBm\n",
      "  Capacidade do canal 3 para 5: 0.17 bps\n",
      "Ganhos Rx,Tx: 0.5 -17.3\n",
      "  Potencia recebida do drone 4 para o drone 0: -61.14 dBm\n",
      "  Ruido recebido no drone 0 e do jammer: 12.05 dBm\n",
      "  Capacidade do canal 4 para 0: 0.17 bps\n",
      "Ganhos Rx,Tx: 5.7 -2.0\n",
      "  Potencia recebida do drone 4 para o drone 1: -37.66 dBm\n",
      "  Ruido recebido no drone 1 e do jammer: 28.91 dBm\n",
      "  Capacidade do canal 4 para 1: 0.76 bps\n",
      "Ganhos Rx,Tx: -13.8 -18.1\n",
      "  Potencia recebida do drone 4 para o drone 2: -77.22 dBm\n",
      "  Ruido recebido no drone 2 e do jammer: 10.78 dBm\n",
      "  Capacidade do canal 4 para 2: 0.01 bps\n",
      "Ganhos Rx,Tx: 10.0 3.5\n",
      "  Potencia recebida do drone 4 para o drone 3: -23.39 dBm\n",
      "  Ruido recebido no drone 3 e do jammer: 44.69 dBm\n",
      "  Capacidade do canal 4 para 3: 0.54 bps\n",
      "Ganhos Rx,Tx: -22.5 -17.5\n",
      "  Potencia recebida do drone 4 para o drone 5: -77.48 dBm\n",
      "  Ruido recebido no drone 5 e do jammer: 20.68 dBm\n",
      "  Capacidade do canal 4 para 5: 0.00 bps\n",
      "Ganhos Rx,Tx: 6.95 -14.6\n",
      "  Potencia recebida do drone 5 para o drone 0: -49.62 dBm\n",
      "  Ruido recebido no drone 0 e do jammer: 12.05 dBm\n",
      "  Capacidade do canal 5 para 0: 2.36 bps\n",
      "Ganhos Rx,Tx: -1.5 -21.0\n",
      "  Potencia recebida do drone 5 para o drone 1: -62.67 dBm\n",
      "  Ruido recebido no drone 1 e do jammer: 28.91 dBm\n",
      "  Capacidade do canal 5 para 1: 0.00 bps\n",
      "Ganhos Rx,Tx: 9.25 -18.65\n",
      "  Potencia recebida do drone 5 para o drone 2: -50.45 dBm\n",
      "  Ruido recebido no drone 2 e do jammer: 10.78 dBm\n",
      "  Capacidade do canal 5 para 2: 2.61 bps\n",
      "Ganhos Rx,Tx: -21.2 9.85\n",
      "  Potencia recebida do drone 5 para o drone 3: -52.39 dBm\n",
      "  Ruido recebido no drone 3 e do jammer: 44.69 dBm\n",
      "  Capacidade do canal 5 para 3: 0.00 bps\n",
      "Ganhos Rx,Tx: -17.5 -22.5\n",
      "  Potencia recebida do drone 5 para o drone 4: -77.48 dBm\n",
      "  Ruido recebido no drone 4 e do jammer: 37.28 dBm\n",
      "  Capacidade do canal 5 para 4: 0.00 bps\n"
     ]
    }
   ],
   "source": [
    "def busca_ganhos(ganhos_df, angulo):\n",
    "    # Arredondar para o ângulo inteiro mais próximo\n",
    "    angulo_ajustado = int(round(angulo))\n",
    "    # if angulo_ajustado not in ganhos_df.index:\n",
    "    #     return None\n",
    "    \n",
    "    # Encontrar o ganho correspondente ao ângulo ajustado\n",
    "    ganho = ganhos_df.loc[ganhos_df['angulo'] == angulo_ajustado, 'ganho'].iloc[0]\n",
    "    \n",
    "    return ganho\n",
    "\n",
    "\n",
    "\n",
    "# Função para calcular os ganhos de transmissão e recepção\n",
    "def calcula_ganhos(posicoes, direcoes_antena, indice_transmissor, indice_receptor, ganhos_df):\n",
    "    # Obter posições e direções\n",
    "    pos1 = posicoes[indice_transmissor]\n",
    "    pos2 = posicoes[indice_receptor]\n",
    "    direcao_antena1 = direcoes_antena[indice_transmissor]\n",
    "    direcao_antena2 = direcoes_antena[indice_receptor]\n",
    "    \n",
    "    # Calcular o ângulo entre os dois nós em relação à direção da antena\n",
    "    angulo_transmissao = angulo_entre_nos(pos1, direcao_antena1, pos2)\n",
    "    angulo_rececao = angulo_entre_nos(pos2, direcao_antena2, pos1)\n",
    "    \n",
    "    # Obter os ganhos para transmissão e recepção\n",
    "    ganho_transmissao = busca_ganhos(ganhos_df, angulo_transmissao)\n",
    "    ganho_rececao = busca_ganhos(ganhos_df, angulo_rececao)\n",
    "    \n",
    "    return ganho_transmissao, ganho_rececao\n",
    "\n",
    "ganho_transmissao, ganho_rececao = calcula_ganhos(posicoes, direcoes_antena, 0, 1, ganhos_df)\n",
    "\n",
    "\n",
    "\n",
    "def calcula_potencia_recebida(Ptx_dBm, ganho_transmissao, ganho_rececao, d,f):\n",
    "    \"\"\"\n",
    "    Calcula a potência do sinal recebido usando a equação de Friis.\n",
    "    \"\"\"\n",
    "    L = (4 * np.pi * d / lambda_m)**2\n",
    "    Prx_dBm = Ptx_dBm + ganho_transmissao + ganho_rececao - 10 * np.log10(L)\n",
    "    return Prx_dBm\n",
    "\n",
    "def calcula_potencia_jammer(pos_drone, direcao_antena_drone, pos_jammer, potencia_jammer_dBm, ganhos_df):\n",
    "    # Calcular a distância entre o drone e o jammer\n",
    "    d = distancia(pos_drone, pos_jammer)\n",
    "    \n",
    "    # Calcular o ângulo entre o drone e o jammer\n",
    "    angulo_entre_drone_e_jammer = angulo_entre_nos(pos_drone, direcao_antena_drone, pos_jammer)\n",
    "    \n",
    "    # Obter o ganho do drone em direção ao jammer\n",
    "    ganho_drone_para_jammer = busca_ganhos(ganhos_df, angulo_entre_drone_e_jammer)\n",
    "    \n",
    "    # Calcular a potência do ruído recebido usando a equação de Friis\n",
    "    L = (4 * np.pi * d / lambda_m) ** 2  # Perda de propagação\n",
    "    potencia_jammer_recebida_dBm = potencia_jammer_dBm + ganho_drone_para_jammer - 10 * np.log10(L)\n",
    "    \n",
    "    return potencia_jammer_recebida_dBm\n",
    "\n",
    "def calcula_capacidade(potencia_sinal_dBm, potencia_ruido_dBm):\n",
    "    \"\"\"\n",
    "    Calcula a capacidade do canal em bits por segundo usando a fórmula de Shannon-Hartley.\n",
    "    \"\"\"\n",
    "    # Converter potência em dBm para Watts\n",
    "    potencia_sinal_W = 10 ** (potencia_sinal_dBm / 10) / 1000  # Potência do sinal em Watts\n",
    "    potencia_ruido_W = 10 ** (potencia_ruido_dBm / 10) / 1000  # Potência do ruído em Watts\n",
    "    \n",
    "    # Calcular a razão sinal-ruído (SNR)\n",
    "    snr = potencia_sinal_W / potencia_ruido_W\n",
    "    \n",
    "    # Calcular a capacidade do canal em bits por segundo (bps)\n",
    "    capacidade = B_Hz * np.log2(1 + snr)\n",
    "    \n",
    "    return capacidade/1e3\n",
    "\n",
    "# -------------------------------------------------------------------------------------------------------------\n",
    "# -------------------------------------------------------------------------------------------------------------\n",
    "for i in range(posicoes.shape[0]):\n",
    "    for j in range(posicoes.shape[0]):\n",
    "        if i != j:\n",
    "            # Calcular a distância entre os dois drones\n",
    "            d = distancia(posicoes[i], posicoes[j])\n",
    "            \n",
    "            # Calcular os ganhos de transmissão e recepção\n",
    "            ganho_transmissao, ganho_rececao = calcula_ganhos(posicoes, direcoes_antena, i, j, ganhos_df)\n",
    "            # print(posicoes)\n",
    "            print('Ganhos Rx,Tx:',ganho_transmissao, ganho_rececao)\n",
    "            # Calcular a potência do sinal recebido usando a equação de Friis\n",
    "            potencia_recebida = calcula_potencia_recebida(Ptx_dBm, ganho_transmissao, ganho_rececao, d, lambda_m)\n",
    "            potencia_ruido = calcula_potencia_jammer(posicoes[j], direcoes_antena[j], posicao_jammer, potencia_jammer_dBm, ganhos_df)\n",
    "            capacidade_canal=calcula_capacidade(potencia_recebida,potencia_ruido)\n",
    "            # Imprimir a combinação de nós e a potência do sinal recebido\n",
    "            print(f\"  Potencia recebida do drone {i} para o drone {j}: {potencia_recebida:.2f} dBm\")\n",
    "            print(f\"  Ruido recebido no drone {j} e do jammer: {potencia_ruido:.2f} dBm\")\n",
    "            print(f\"  Capacidade do canal {i} para {j}: {capacidade_canal:.2f} bps\")\n",
    "\n"
   ]
  },
  {
   "cell_type": "markdown",
   "metadata": {},
   "source": [
    "CRIAR O ENVIRONMENT"
   ]
  },
  {
   "cell_type": "code",
   "execution_count": 7,
   "metadata": {},
   "outputs": [],
   "source": [
    "class UAVCommunicationEnv(gym.Env):\n",
    "    metadata = {'render.modes': ['human']}\n",
    "\n",
    "    def __init__(self, num_uavs=6, area_size=(100, 100)):\n",
    "        super().__init__()\n",
    "        self.num_uavs = num_uavs\n",
    "        self.area_size = area_size\n",
    "        self.posicoes = posicoes\n",
    "        self.posicao_jammer = posicao_jammer\n",
    "        self.ultimo_info = {}\n",
    "\n",
    "        # Define o espaço de ação como direções para cada drone\n",
    "        self.action_space = spaces.MultiDiscrete([360] * num_uavs)\n",
    "        self.observation_space = spaces.MultiDiscrete([360] * num_uavs)\n",
    "        self.direcoes_antena = np.random.uniform(0, 360, size=num_uavs)\n",
    "        \n",
    "        \n",
    "    def step(self, action):\n",
    "        self.direcoes_antena = np.array(action)\n",
    "        total_capacidades = 0\n",
    "        capacidade_media=0\n",
    "        capacidades_por_link = []\n",
    "        \n",
    "        # assert len(action) == self.num_uavs\n",
    "\n",
    "        # Iterar por todos os drones para calcular a capacidade entre eles\n",
    "        for i in range(self.posicoes.shape[0]):\n",
    "            for j in range(self.posicoes.shape[0]):\n",
    "                if i != j:\n",
    "                    # Calcular a distância entre os dois drones\n",
    "                    d = distancia(posicoes[i], posicoes[j])\n",
    "                    # Calcular os ganhos de transmissão e recepção\n",
    "                    ganho_transmissao, ganho_rececao = calcula_ganhos(posicoes, self.direcoes_antena, i, j, ganhos_df)\n",
    "                    # Calcular a potência do sinal recebido usando a equação de Friis\n",
    "                    potencia_recebida = calcula_potencia_recebida(Ptx_dBm, ganho_transmissao, ganho_rececao, d, lambda_m)\n",
    "                    potencia_ruido = calcula_potencia_jammer(posicoes[j], self.direcoes_antena[j], posicao_jammer, potencia_jammer_dBm, ganhos_df)\n",
    "                    capacidade_canal=calcula_capacidade(potencia_recebida,potencia_ruido)\n",
    "                    capacidades_por_link.append(capacidade_canal)\n",
    "                    total_capacidades += capacidade_canal\n",
    "\n",
    "        # Recompensa é a soma das capacidades de todos os links\n",
    "        capacidade_media=np.mean(capacidades_por_link)\n",
    "        recompensa = capacidade_media\n",
    "        capacidades_por_link = [round(capacidade, 2) for capacidade in capacidades_por_link]\n",
    "        capacidade_media = round(capacidade_media, 2)\n",
    "        \n",
    "        # done = False  # Por padrão, o episódio não termina\n",
    "\n",
    "        # Informação adicional a ser retornada\n",
    "        info = {\n",
    "            'Capacidade média [Kbps]': capacidade_media,\n",
    "            'capacidades_por_link[Kbps]': capacidades_por_link\n",
    "        }\n",
    "\n",
    "        # Retorna a observação, recompensa, indicador de fim de episódio e informações adicionais\n",
    "        return np.array(self.direcoes_antena), recompensa, done, info\n",
    "    \n",
    "    def render(self, mode='human'):\n",
    "        sns.set(style=\"whitegrid\")\n",
    "        fig, ax = plt.subplots(figsize=(9, 4))\n",
    "\n",
    "        # Desenha os drones no gráfico\n",
    "        for i, pos in enumerate(self.posicoes):\n",
    "            ax.scatter(pos[0], pos[1], color='blue', s=100, label='Drone' if i == 0 else \"\")\n",
    "            ax.text(pos[0], pos[1] - 2, f'{i}', horizontalalignment='center', color='white', fontweight='bold')\n",
    "\n",
    "        # Desenha as setas para a direção das antenas\n",
    "        comprimento_seta = 5  # Comprimento das setas\n",
    "        for i, direcao in enumerate(self.direcoes_antena):\n",
    "            direcao_rad = np.radians(direcao)  # Converte para radianos\n",
    "            dx = comprimento_seta * np.cos(direcao_rad)  # Deslocamento em x\n",
    "            dy = comprimento_seta * np.sin(direcao_rad)  # Deslocamento em y\n",
    "            \n",
    "            ax.arrow(\n",
    "                self.posicoes[i][0], self.posicoes[i][1], \n",
    "                dx, dy, \n",
    "                head_width=2, head_length=2, fc='b', ec='b'\n",
    "            )  # Seta azul para indicar a direção da antena\n",
    "\n",
    "        # Desenha o jammer\n",
    "        ax.scatter(self.posicao_jammer[0], self.posicao_jammer[1], color='red', s=100, marker='o', label='Jammer')\n",
    "\n",
    "        # Configurações finais do gráfico\n",
    "        ax.set_xlabel('X')\n",
    "        ax.set_ylabel('Y')\n",
    "        ax.set_xlim(0, self.area_size[0])\n",
    "        ax.set_ylim(0, self.area_size[1])\n",
    "        plt.title('Direções das Antenas UAV')\n",
    "        ax.legend(loc='center left', bbox_to_anchor=(1, 0.5), fontsize='small')\n",
    "\n",
    "        plt.show()\n",
    "        \n",
    "    def reset(self):\n",
    "        self.direcoes_antena = np.random.uniform(0, 360, size=self.num_uavs)\n",
    "        assert len(self.direcoes_antena) == self.num_uavs, \"Número incorreto de direções\"\n",
    "        obs = np.array(self.direcoes_antena)\n",
    "        return obs, {}"
   ]
  },
  {
   "cell_type": "markdown",
   "metadata": {},
   "source": [
    "TESTAR"
   ]
  },
  {
   "cell_type": "code",
   "execution_count": 24,
   "metadata": {},
   "outputs": [
    {
     "data": {
      "image/png": "[encoded data removed]",
      "text/plain": [
       "<Figure size 900x400 with 1 Axes>"
      ]
     },
     "metadata": {},
     "output_type": "display_data"
    },
    {
     "name": "stdout",
     "output_type": "stream",
     "text": [
      "[210 337 342  78 357  78]\n",
      "{'Capacidade média [Kbps]': 0.29, 'capacidades_por_link[Kbps]': [0.0, 0.15, 0.01, 0.0, 0.02, 0.27, 1.91, 0.0, 0.05, 0.11, 0.12, 0.02, 0.0, 0.0, 0.0, 0.1, 0.0, 0.01, 0.13, 0.01, 0.01, 0.0, 0.0, 0.07, 1.81, 0.19, 0.01, 0.02, 0.01, 3.7]}\n"
     ]
    }
   ],
   "source": [
    "env = UAVCommunicationEnv()\n",
    "\n",
    "state = env.reset()\n",
    "done = False\n",
    "while not done:\n",
    "    action = env.action_space.sample()  # Exemplo: escolha uma ação aleatoriamente\n",
    "    state, reward, done, info = env.step(action)\n",
    "    env.render()  # Chame render a cada passo para visualizar\n",
    "    \n",
    "    print(state)\n",
    "    print(info)\n",
    "    done=True"
   ]
  },
  {
   "cell_type": "markdown",
   "metadata": {},
   "source": [
    "ALGORITMO GENETICO\n",
    "\n",
    "1.Tamanho da População:\n",
    "\n",
    "    Maior: Uma população maior oferece uma diversidade genética mais ampla, o que pode ajudar a evitar mínimos locais, mas também aumenta o custo computacional.\n",
    "    Menor: Uma população menor pode levar a uma convergência mais rápida, mas pode ficar presa em mínimos locais.\n",
    "\n",
    "2.Tamanho da População:\n",
    "\n",
    "    Maior: Uma população maior oferece uma diversidade genética mais ampla, o que pode ajudar a evitar mínimos locais, mas também aumenta o custo computacional.\n",
    "    Menor: Uma população menor pode levar a uma convergência mais rápida, mas pode ficar presa em mínimos locais.\n",
    "\n",
    "3.Taxa de Cruzamento:\n",
    "\n",
    "    Alta: Promove a combinação de características de diferentes indivíduos, potencialmente levando a uma melhoria mais rápida.\n",
    "    Baixa: Reduz a probabilidade de alterar boas soluções, mas pode limitar a capacidade do algoritmo de explorar novas e potencialmente melhores áreas do espaço de busca.\n",
    "\n",
    "4.Número de Gerações:\n",
    "\n",
    "    Maior número de gerações: Permite mais iterações do processo de seleção, cruzamento e mutação, dando mais tempo para a população evoluir.\n",
    "    Menor número de gerações: Pode ser suficiente se a convergência for rápida, mas corre o risco de não permitir desenvolvimento suficiente, especialmente com uma taxa de mutação baixa."
   ]
  },
  {
   "cell_type": "code",
   "execution_count": 38,
   "metadata": {},
   "outputs": [],
   "source": [
    "import random\n",
    "import numpy as np\n",
    "\n",
    "# Classe do Algoritmo Genético\n",
    "class GeneticAlgorithm:\n",
    "    def __init__(self, env, population_size=50, generations=1000, mutation_rate=0.15, crossover_rate=0.7):\n",
    "        self.env = env  # O ambiente do UAV\n",
    "        self.population_size = population_size  # Tamanho da população\n",
    "        self.generations = generations  # Número de gerações\n",
    "        self.mutation_rate = mutation_rate  # Taxa de mutação\n",
    "        self.crossover_rate = crossover_rate  # Taxa de cruzamento\n",
    "        # Criação de população inicial com valores aleatórios\n",
    "        self.population = [self.random_chromosome() for _ in range(population_size)]\n",
    "        \n",
    "        # Verificar tamanho da população\n",
    "        assert len(self.population) == self.population_size, \"Tamanho da população incorreto\"\n",
    "        for chrom in self.population:\n",
    "            assert len(chrom) == self.env.num_uavs, \"Número de genes no cromossomo está errado\"\n",
    "\n",
    "\n",
    "    # Cria um cromossomo aleatório (direções das antenas para cada drone)\n",
    "    def random_chromosome(self):\n",
    "        return np.random.uniform(0, 360, size=self.env.num_uavs)\n",
    "\n",
    "    # Avalia a aptidão de um cromossomo\n",
    "    def evaluate_fitness(self, chromosome):\n",
    "        try:\n",
    "            obs, _ = self.env.reset()\n",
    "            action = np.array(chromosome)\n",
    "            obs, reward, _, info = self.env.step(action)  # Certifique-se de que a ação é válida\n",
    "            return reward, info\n",
    "        except Exception as e:\n",
    "            print(f\"Erro ao avaliar aptidão: {e}\")\n",
    "            return 0, {}\n",
    "\n",
    "    # Seleção por torneio\n",
    "    def select(self):\n",
    "        tournament_size = 5\n",
    "        selected = []\n",
    "        fitness_scores = [self.evaluate_fitness(chrom) for chrom in self.population]\n",
    "        assert len(fitness_scores) >= tournament_size, \"Tamanho do torneio é muito grande para a população\"\n",
    "        \n",
    "        for _ in range(self.population_size):\n",
    "            contenders = random.sample(list(enumerate(fitness_scores)), tournament_size)\n",
    "            winner_index, _ = max(contenders, key=lambda item: item[1])\n",
    "            selected.append(self.population[winner_index])\n",
    "        return selected\n",
    "\n",
    "    # Cruzamento (crossover) entre dois pais\n",
    "    def crossover(self, parent1, parent2):\n",
    "        if random.random() < self.crossover_rate:\n",
    "            # Ponto de cruzamento\n",
    "            point = random.randint(1, self.env.num_uavs - 1)\n",
    "            # Mistura os genes dos pais para criar filhos\n",
    "            child1 = np.concatenate([parent1[:point], parent2[point:]])\n",
    "            child2 = np.concatenate([parent2[:point], parent1[point:]])\n",
    "            return child1, child2\n",
    "        else:\n",
    "            return parent1, parent2\n",
    "\n",
    "    # Aplica mutação a um cromossomo\n",
    "    def mutate(self, chromosome):\n",
    "        for i in range(len(chromosome)):\n",
    "            if random.random() < self.mutation_rate:\n",
    "                chromosome[i] = random.uniform(0, 360)\n",
    "        return chromosome\n",
    "\n",
    "    # Executa o algoritmo genético\n",
    "    def run(self):\n",
    "        best_info = None\n",
    "        for generation in range(self.generations):\n",
    "            new_population = []\n",
    "            parents = self.select()  # Seleciona os melhores pais\n",
    "            \n",
    "            while len(new_population) < self.population_size:\n",
    "                parent1, parent2 = random.sample(parents, 2)\n",
    "                child1, child2 = self.crossover(parent1, parent2)\n",
    "                new_population.extend([self.mutate(child1), self.mutate(child2)])  # Adiciona filhos\n",
    "            \n",
    "            self.population = new_population[:self.population_size]  # Atualiza a população\n",
    "            # Calcula a aptidão de todos os cromossomos na população\n",
    "            fitness_scores = [self.evaluate_fitness(chrom) for chrom in self.population]\n",
    "            best_fitness, best_info = max(fitness_scores, key=lambda x: x[0])\n",
    "            \n",
    "            print(f\"Generation {generation}: Best Fitness = {best_fitness:.2f}\")\n",
    "        \n",
    "        # Retorna a melhor solução encontrada\n",
    "        best_solution_index = max(range(len(self.population)), key=lambda i: fitness_scores[i][0])\n",
    "        best_solution = self.population[best_solution_index]\n",
    "        return best_solution, best_info\n",
    "    \n",
    "    def reset(self):\n",
    "        self.direcoes_antena = np.random.uniform(0, 360, size=self.num_uavs)\n",
    "        assert len(self.direcoes_antena) == self.num_uavs, \"Direções das antenas estão incorretas\"\n",
    "        obs = np.array(self.direcoes_antena)\n",
    "        return obs, {}\n"
   ]
  },
  {
   "cell_type": "code",
   "execution_count": 39,
   "metadata": {},
   "outputs": [
    {
     "name": "stdout",
     "output_type": "stream",
     "text": [
      "Erro ao avaliar aptidão: single positional indexer is out-of-bounds\n",
      "Erro ao avaliar aptidão: single positional indexer is out-of-bounds\n",
      "Erro ao avaliar aptidão: single positional indexer is out-of-bounds\n",
      "Erro ao avaliar aptidão: single positional indexer is out-of-bounds\n",
      "Erro ao avaliar aptidão: single positional indexer is out-of-bounds\n",
      "Generation 0: Best Fitness = 93.16\n",
      "Erro ao avaliar aptidão: single positional indexer is out-of-bounds\n",
      "Erro ao avaliar aptidão: single positional indexer is out-of-bounds\n",
      "Erro ao avaliar aptidão: single positional indexer is out-of-bounds\n",
      "Erro ao avaliar aptidão: single positional indexer is out-of-bounds\n",
      "Erro ao avaliar aptidão: single positional indexer is out-of-bounds\n",
      "Erro ao avaliar aptidão: single positional indexer is out-of-bounds\n",
      "Erro ao avaliar aptidão: single positional indexer is out-of-bounds\n",
      "Erro ao avaliar aptidão: single positional indexer is out-of-bounds\n",
      "Generation 1: Best Fitness = 124.24\n",
      "Erro ao avaliar aptidão: single positional indexer is out-of-bounds\n",
      "Erro ao avaliar aptidão: single positional indexer is out-of-bounds\n",
      "Erro ao avaliar aptidão: single positional indexer is out-of-bounds\n",
      "Erro ao avaliar aptidão: single positional indexer is out-of-bounds\n",
      "Erro ao avaliar aptidão: single positional indexer is out-of-bounds\n",
      "Erro ao avaliar aptidão: single positional indexer is out-of-bounds\n",
      "Erro ao avaliar aptidão: single positional indexer is out-of-bounds\n",
      "Erro ao avaliar aptidão: single positional indexer is out-of-bounds\n",
      "Erro ao avaliar aptidão: single positional indexer is out-of-bounds\n",
      "Generation 2: Best Fitness = 124.24\n",
      "Erro ao avaliar aptidão: single positional indexer is out-of-bounds\n",
      "Erro ao avaliar aptidão: single positional indexer is out-of-bounds\n",
      "Generation 3: Best Fitness = 120.85\n",
      "Erro ao avaliar aptidão: single positional indexer is out-of-bounds\n",
      "Erro ao avaliar aptidão: single positional indexer is out-of-bounds\n",
      "Generation 4: Best Fitness = 119.50\n",
      "Erro ao avaliar aptidão: single positional indexer is out-of-bounds\n",
      "Erro ao avaliar aptidão: single positional indexer is out-of-bounds\n",
      "Generation 5: Best Fitness = 120.31\n",
      "Erro ao avaliar aptidão: single positional indexer is out-of-bounds\n",
      "Erro ao avaliar aptidão: single positional indexer is out-of-bounds\n",
      "Erro ao avaliar aptidão: single positional indexer is out-of-bounds\n",
      "Erro ao avaliar aptidão: single positional indexer is out-of-bounds\n",
      "Generation 6: Best Fitness = 126.33\n",
      "Erro ao avaliar aptidão: single positional indexer is out-of-bounds\n",
      "Erro ao avaliar aptidão: single positional indexer is out-of-bounds\n",
      "Erro ao avaliar aptidão: single positional indexer is out-of-bounds\n",
      "Erro ao avaliar aptidão: single positional indexer is out-of-bounds\n",
      "Generation 7: Best Fitness = 158.06\n",
      "Erro ao avaliar aptidão: single positional indexer is out-of-bounds\n",
      "Generation 8: Best Fitness = 178.79\n",
      "Generation 9: Best Fitness = 173.03\n",
      "Generation 10: Best Fitness = 184.93\n",
      "Erro ao avaliar aptidão: single positional indexer is out-of-bounds\n",
      "Generation 11: Best Fitness = 203.69\n",
      "Erro ao avaliar aptidão: single positional indexer is out-of-bounds\n",
      "Generation 12: Best Fitness = 203.75\n",
      "Generation 13: Best Fitness = 184.99\n",
      "Generation 14: Best Fitness = 190.44\n",
      "Generation 15: Best Fitness = 185.95\n",
      "Generation 16: Best Fitness = 190.50\n",
      "Erro ao avaliar aptidão: single positional indexer is out-of-bounds\n",
      "Erro ao avaliar aptidão: single positional indexer is out-of-bounds\n",
      "Generation 17: Best Fitness = 203.75\n",
      "Erro ao avaliar aptidão: single positional indexer is out-of-bounds\n",
      "Erro ao avaliar aptidão: single positional indexer is out-of-bounds\n",
      "Generation 18: Best Fitness = 203.24\n",
      "Erro ao avaliar aptidão: single positional indexer is out-of-bounds\n",
      "Generation 19: Best Fitness = 196.57\n",
      "Erro ao avaliar aptidão: single positional indexer is out-of-bounds\n",
      "Generation 20: Best Fitness = 203.75\n",
      "Erro ao avaliar aptidão: single positional indexer is out-of-bounds\n",
      "Generation 21: Best Fitness = 203.75\n",
      "Erro ao avaliar aptidão: single positional indexer is out-of-bounds\n",
      "Generation 22: Best Fitness = 203.75\n",
      "Generation 23: Best Fitness = 204.41\n",
      "Generation 24: Best Fitness = 209.12\n",
      "Generation 25: Best Fitness = 204.60\n",
      "Generation 26: Best Fitness = 204.60\n",
      "Erro ao avaliar aptidão: single positional indexer is out-of-bounds\n",
      "Erro ao avaliar aptidão: single positional indexer is out-of-bounds\n",
      "Generation 27: Best Fitness = 204.51\n",
      "Erro ao avaliar aptidão: single positional indexer is out-of-bounds\n",
      "Erro ao avaliar aptidão: single positional indexer is out-of-bounds\n",
      "Erro ao avaliar aptidão: single positional indexer is out-of-bounds\n",
      "Generation 28: Best Fitness = 204.51\n",
      "Erro ao avaliar aptidão: single positional indexer is out-of-bounds\n",
      "Erro ao avaliar aptidão: single positional indexer is out-of-bounds\n",
      "Erro ao avaliar aptidão: single positional indexer is out-of-bounds\n",
      "Erro ao avaliar aptidão: single positional indexer is out-of-bounds\n",
      "Erro ao avaliar aptidão: single positional indexer is out-of-bounds\n",
      "Erro ao avaliar aptidão: single positional indexer is out-of-bounds\n",
      "Erro ao avaliar aptidão: single positional indexer is out-of-bounds\n",
      "Generation 29: Best Fitness = 210.92\n",
      "Erro ao avaliar aptidão: single positional indexer is out-of-bounds\n",
      "Erro ao avaliar aptidão: single positional indexer is out-of-bounds\n",
      "Erro ao avaliar aptidão: single positional indexer is out-of-bounds\n",
      "Erro ao avaliar aptidão: single positional indexer is out-of-bounds\n",
      "Erro ao avaliar aptidão: single positional indexer is out-of-bounds\n",
      "Erro ao avaliar aptidão: single positional indexer is out-of-bounds\n",
      "Erro ao avaliar aptidão: single positional indexer is out-of-bounds\n",
      "Generation 30: Best Fitness = 210.92\n",
      "Erro ao avaliar aptidão: single positional indexer is out-of-bounds\n",
      "Generation 31: Best Fitness = 210.92\n",
      "Generation 32: Best Fitness = 210.87\n",
      "Generation 33: Best Fitness = 210.87\n",
      "Erro ao avaliar aptidão: single positional indexer is out-of-bounds\n",
      "Generation 34: Best Fitness = 210.87\n",
      "Erro ao avaliar aptidão: single positional indexer is out-of-bounds\n",
      "Generation 35: Best Fitness = 210.87\n",
      "Generation 36: Best Fitness = 211.16\n",
      "Generation 37: Best Fitness = 210.87\n",
      "Erro ao avaliar aptidão: single positional indexer is out-of-bounds\n",
      "Erro ao avaliar aptidão: single positional indexer is out-of-bounds\n",
      "Erro ao avaliar aptidão: single positional indexer is out-of-bounds\n",
      "Erro ao avaliar aptidão: single positional indexer is out-of-bounds\n",
      "Generation 38: Best Fitness = 210.87\n",
      "Erro ao avaliar aptidão: single positional indexer is out-of-bounds\n",
      "Erro ao avaliar aptidão: single positional indexer is out-of-bounds\n",
      "Erro ao avaliar aptidão: single positional indexer is out-of-bounds\n",
      "Erro ao avaliar aptidão: single positional indexer is out-of-bounds\n",
      "Generation 39: Best Fitness = 210.87\n",
      "Generation 40: Best Fitness = 210.87\n",
      "Generation 41: Best Fitness = 210.87\n",
      "Generation 42: Best Fitness = 210.87\n",
      "Generation 43: Best Fitness = 210.89\n",
      "Erro ao avaliar aptidão: single positional indexer is out-of-bounds\n",
      "Generation 44: Best Fitness = 210.16\n",
      "Erro ao avaliar aptidão: single positional indexer is out-of-bounds\n",
      "Erro ao avaliar aptidão: single positional indexer is out-of-bounds\n",
      "Erro ao avaliar aptidão: single positional indexer is out-of-bounds\n",
      "Generation 45: Best Fitness = 210.66\n",
      "Erro ao avaliar aptidão: single positional indexer is out-of-bounds\n",
      "Erro ao avaliar aptidão: single positional indexer is out-of-bounds\n",
      "Generation 46: Best Fitness = 210.66\n",
      "Generation 47: Best Fitness = 208.31\n",
      "Erro ao avaliar aptidão: single positional indexer is out-of-bounds\n",
      "Erro ao avaliar aptidão: single positional indexer is out-of-bounds\n",
      "Erro ao avaliar aptidão: single positional indexer is out-of-bounds\n",
      "Erro ao avaliar aptidão: single positional indexer is out-of-bounds\n",
      "Generation 48: Best Fitness = 208.31\n",
      "Erro ao avaliar aptidão: single positional indexer is out-of-bounds\n",
      "Erro ao avaliar aptidão: single positional indexer is out-of-bounds\n",
      "Erro ao avaliar aptidão: single positional indexer is out-of-bounds\n",
      "Erro ao avaliar aptidão: single positional indexer is out-of-bounds\n",
      "Generation 49: Best Fitness = 208.26\n",
      "Generation 50: Best Fitness = 202.08\n",
      "Generation 51: Best Fitness = 203.40\n",
      "Erro ao avaliar aptidão: single positional indexer is out-of-bounds\n",
      "Erro ao avaliar aptidão: single positional indexer is out-of-bounds\n",
      "Erro ao avaliar aptidão: single positional indexer is out-of-bounds\n",
      "Generation 52: Best Fitness = 205.21\n",
      "Erro ao avaliar aptidão: single positional indexer is out-of-bounds\n",
      "Erro ao avaliar aptidão: single positional indexer is out-of-bounds\n",
      "Erro ao avaliar aptidão: single positional indexer is out-of-bounds\n",
      "Erro ao avaliar aptidão: single positional indexer is out-of-bounds\n",
      "Generation 53: Best Fitness = 189.39\n",
      "Erro ao avaliar aptidão: single positional indexer is out-of-bounds\n",
      "Erro ao avaliar aptidão: single positional indexer is out-of-bounds\n",
      "Generation 54: Best Fitness = 191.55\n",
      "Erro ao avaliar aptidão: single positional indexer is out-of-bounds\n",
      "Erro ao avaliar aptidão: single positional indexer is out-of-bounds\n",
      "Erro ao avaliar aptidão: single positional indexer is out-of-bounds\n",
      "Erro ao avaliar aptidão: single positional indexer is out-of-bounds\n",
      "Erro ao avaliar aptidão: single positional indexer is out-of-bounds\n",
      "Generation 55: Best Fitness = 192.11\n",
      "Erro ao avaliar aptidão: single positional indexer is out-of-bounds\n",
      "Erro ao avaliar aptidão: single positional indexer is out-of-bounds\n",
      "Erro ao avaliar aptidão: single positional indexer is out-of-bounds\n",
      "Erro ao avaliar aptidão: single positional indexer is out-of-bounds\n",
      "Generation 56: Best Fitness = 187.67\n",
      "Generation 57: Best Fitness = 188.07\n",
      "Generation 58: Best Fitness = 191.55\n",
      "Generation 59: Best Fitness = 186.62\n",
      "Generation 60: Best Fitness = 186.66\n",
      "Erro ao avaliar aptidão: single positional indexer is out-of-bounds\n",
      "Generation 61: Best Fitness = 186.04\n",
      "Erro ao avaliar aptidão: single positional indexer is out-of-bounds\n",
      "Generation 62: Best Fitness = 192.18\n",
      "Generation 63: Best Fitness = 193.06\n",
      "Generation 64: Best Fitness = 187.43\n",
      "Generation 65: Best Fitness = 188.43\n",
      "Generation 66: Best Fitness = 196.36\n",
      "Generation 67: Best Fitness = 196.36\n",
      "Erro ao avaliar aptidão: single positional indexer is out-of-bounds\n",
      "Erro ao avaliar aptidão: single positional indexer is out-of-bounds\n",
      "Erro ao avaliar aptidão: single positional indexer is out-of-bounds\n",
      "Erro ao avaliar aptidão: single positional indexer is out-of-bounds\n",
      "Erro ao avaliar aptidão: single positional indexer is out-of-bounds\n",
      "Generation 68: Best Fitness = 195.90\n",
      "Erro ao avaliar aptidão: single positional indexer is out-of-bounds\n",
      "Erro ao avaliar aptidão: single positional indexer is out-of-bounds\n",
      "Erro ao avaliar aptidão: single positional indexer is out-of-bounds\n",
      "Erro ao avaliar aptidão: single positional indexer is out-of-bounds\n",
      "Erro ao avaliar aptidão: single positional indexer is out-of-bounds\n",
      "Generation 69: Best Fitness = 195.59\n",
      "Generation 70: Best Fitness = 190.96\n",
      "Erro ao avaliar aptidão: single positional indexer is out-of-bounds\n",
      "Erro ao avaliar aptidão: single positional indexer is out-of-bounds\n",
      "Erro ao avaliar aptidão: single positional indexer is out-of-bounds\n",
      "Erro ao avaliar aptidão: single positional indexer is out-of-bounds\n",
      "Erro ao avaliar aptidão: single positional indexer is out-of-bounds\n",
      "Erro ao avaliar aptidão: single positional indexer is out-of-bounds\n",
      "Generation 71: Best Fitness = 191.76\n",
      "Erro ao avaliar aptidão: single positional indexer is out-of-bounds\n",
      "Erro ao avaliar aptidão: single positional indexer is out-of-bounds\n",
      "Erro ao avaliar aptidão: single positional indexer is out-of-bounds\n",
      "Erro ao avaliar aptidão: single positional indexer is out-of-bounds\n",
      "Erro ao avaliar aptidão: single positional indexer is out-of-bounds\n",
      "Erro ao avaliar aptidão: single positional indexer is out-of-bounds\n",
      "Generation 72: Best Fitness = 189.70\n",
      "Generation 73: Best Fitness = 227.04\n",
      "Erro ao avaliar aptidão: single positional indexer is out-of-bounds\n",
      "Generation 74: Best Fitness = 227.84\n",
      "Erro ao avaliar aptidão: single positional indexer is out-of-bounds\n",
      "Generation 75: Best Fitness = 224.82\n",
      "Generation 76: Best Fitness = 224.01\n",
      "Generation 77: Best Fitness = 230.25\n",
      "Erro ao avaliar aptidão: single positional indexer is out-of-bounds\n",
      "Erro ao avaliar aptidão: single positional indexer is out-of-bounds\n",
      "Generation 78: Best Fitness = 230.25\n",
      "Erro ao avaliar aptidão: single positional indexer is out-of-bounds\n",
      "Erro ao avaliar aptidão: single positional indexer is out-of-bounds\n",
      "Erro ao avaliar aptidão: single positional indexer is out-of-bounds\n",
      "Generation 79: Best Fitness = 231.38\n",
      "Erro ao avaliar aptidão: single positional indexer is out-of-bounds\n",
      "Generation 80: Best Fitness = 231.38\n",
      "Erro ao avaliar aptidão: single positional indexer is out-of-bounds\n",
      "Generation 81: Best Fitness = 231.38\n",
      "Erro ao avaliar aptidão: single positional indexer is out-of-bounds\n",
      "Erro ao avaliar aptidão: single positional indexer is out-of-bounds\n",
      "Generation 82: Best Fitness = 230.81\n",
      "Erro ao avaliar aptidão: single positional indexer is out-of-bounds\n",
      "Generation 83: Best Fitness = 231.38\n",
      "Generation 84: Best Fitness = 231.38\n",
      "Erro ao avaliar aptidão: single positional indexer is out-of-bounds\n",
      "Generation 85: Best Fitness = 231.51\n",
      "Erro ao avaliar aptidão: single positional indexer is out-of-bounds\n",
      "Erro ao avaliar aptidão: single positional indexer is out-of-bounds\n",
      "Generation 86: Best Fitness = 232.40\n",
      "Erro ao avaliar aptidão: single positional indexer is out-of-bounds\n",
      "Generation 87: Best Fitness = 230.84\n",
      "Generation 88: Best Fitness = 232.20\n",
      "Generation 89: Best Fitness = 232.09\n",
      "Generation 90: Best Fitness = 232.20\n",
      "Erro ao avaliar aptidão: single positional indexer is out-of-bounds\n",
      "Generation 91: Best Fitness = 230.84\n",
      "Erro ao avaliar aptidão: single positional indexer is out-of-bounds\n",
      "Generation 92: Best Fitness = 231.80\n",
      "Generation 93: Best Fitness = 238.58\n",
      "Generation 94: Best Fitness = 245.17\n",
      "Erro ao avaliar aptidão: single positional indexer is out-of-bounds\n",
      "Erro ao avaliar aptidão: single positional indexer is out-of-bounds\n",
      "Erro ao avaliar aptidão: single positional indexer is out-of-bounds\n",
      "Erro ao avaliar aptidão: single positional indexer is out-of-bounds\n",
      "Erro ao avaliar aptidão: single positional indexer is out-of-bounds\n",
      "Generation 95: Best Fitness = 247.76\n",
      "Erro ao avaliar aptidão: single positional indexer is out-of-bounds\n",
      "Erro ao avaliar aptidão: single positional indexer is out-of-bounds\n",
      "Erro ao avaliar aptidão: single positional indexer is out-of-bounds\n",
      "Erro ao avaliar aptidão: single positional indexer is out-of-bounds\n",
      "Erro ao avaliar aptidão: single positional indexer is out-of-bounds\n",
      "Generation 96: Best Fitness = 246.55\n",
      "Erro ao avaliar aptidão: single positional indexer is out-of-bounds\n",
      "Erro ao avaliar aptidão: single positional indexer is out-of-bounds\n",
      "Erro ao avaliar aptidão: single positional indexer is out-of-bounds\n",
      "Generation 97: Best Fitness = 246.55\n",
      "Erro ao avaliar aptidão: single positional indexer is out-of-bounds\n",
      "Erro ao avaliar aptidão: single positional indexer is out-of-bounds\n",
      "Erro ao avaliar aptidão: single positional indexer is out-of-bounds\n",
      "Generation 98: Best Fitness = 239.54\n",
      "Erro ao avaliar aptidão: single positional indexer is out-of-bounds\n",
      "Generation 99: Best Fitness = 239.33\n",
      "Erro ao avaliar aptidão: single positional indexer is out-of-bounds\n",
      "Erro ao avaliar aptidão: single positional indexer is out-of-bounds\n",
      "Generation 100: Best Fitness = 239.33\n",
      "Erro ao avaliar aptidão: single positional indexer is out-of-bounds\n",
      "Generation 101: Best Fitness = 239.51\n",
      "Generation 102: Best Fitness = 240.36\n",
      "Generation 103: Best Fitness = 240.36\n",
      "Generation 104: Best Fitness = 239.08\n",
      "Generation 105: Best Fitness = 240.50\n",
      "Generation 106: Best Fitness = 240.92\n",
      "Generation 107: Best Fitness = 239.08\n",
      "Generation 108: Best Fitness = 241.55\n",
      "Generation 109: Best Fitness = 239.08\n",
      "Generation 110: Best Fitness = 239.08\n",
      "Generation 111: Best Fitness = 241.82\n",
      "Erro ao avaliar aptidão: single positional indexer is out-of-bounds\n",
      "Erro ao avaliar aptidão: single positional indexer is out-of-bounds\n",
      "Generation 112: Best Fitness = 239.65\n",
      "Erro ao avaliar aptidão: single positional indexer is out-of-bounds\n",
      "Erro ao avaliar aptidão: single positional indexer is out-of-bounds\n",
      "Generation 113: Best Fitness = 239.65\n",
      "Erro ao avaliar aptidão: single positional indexer is out-of-bounds\n",
      "Generation 114: Best Fitness = 241.00\n",
      "Erro ao avaliar aptidão: single positional indexer is out-of-bounds\n",
      "Generation 115: Best Fitness = 242.13\n",
      "Erro ao avaliar aptidão: single positional indexer is out-of-bounds\n",
      "Erro ao avaliar aptidão: single positional indexer is out-of-bounds\n",
      "Generation 116: Best Fitness = 243.11\n",
      "Erro ao avaliar aptidão: single positional indexer is out-of-bounds\n",
      "Erro ao avaliar aptidão: single positional indexer is out-of-bounds\n",
      "Erro ao avaliar aptidão: single positional indexer is out-of-bounds\n",
      "Generation 117: Best Fitness = 241.80\n",
      "Erro ao avaliar aptidão: single positional indexer is out-of-bounds\n",
      "Generation 118: Best Fitness = 241.75\n",
      "Erro ao avaliar aptidão: single positional indexer is out-of-bounds\n",
      "Erro ao avaliar aptidão: single positional indexer is out-of-bounds\n",
      "Generation 119: Best Fitness = 241.75\n",
      "Erro ao avaliar aptidão: single positional indexer is out-of-bounds\n",
      "Erro ao avaliar aptidão: single positional indexer is out-of-bounds\n",
      "Generation 120: Best Fitness = 243.11\n",
      "Erro ao avaliar aptidão: single positional indexer is out-of-bounds\n",
      "Generation 121: Best Fitness = 241.76\n",
      "Erro ao avaliar aptidão: single positional indexer is out-of-bounds\n",
      "Erro ao avaliar aptidão: single positional indexer is out-of-bounds\n",
      "Generation 122: Best Fitness = 241.69\n",
      "Erro ao avaliar aptidão: single positional indexer is out-of-bounds\n",
      "Generation 123: Best Fitness = 241.69\n",
      "Generation 124: Best Fitness = 241.74\n",
      "Generation 125: Best Fitness = 242.36\n",
      "Generation 126: Best Fitness = 242.46\n",
      "Generation 127: Best Fitness = 230.03\n",
      "Erro ao avaliar aptidão: single positional indexer is out-of-bounds\n",
      "Erro ao avaliar aptidão: single positional indexer is out-of-bounds\n",
      "Erro ao avaliar aptidão: single positional indexer is out-of-bounds\n",
      "Erro ao avaliar aptidão: single positional indexer is out-of-bounds\n",
      "Erro ao avaliar aptidão: single positional indexer is out-of-bounds\n",
      "Erro ao avaliar aptidão: single positional indexer is out-of-bounds\n",
      "Erro ao avaliar aptidão: single positional indexer is out-of-bounds\n",
      "Erro ao avaliar aptidão: single positional indexer is out-of-bounds\n",
      "Generation 128: Best Fitness = 243.26\n",
      "Erro ao avaliar aptidão: single positional indexer is out-of-bounds\n",
      "Erro ao avaliar aptidão: single positional indexer is out-of-bounds\n",
      "Erro ao avaliar aptidão: single positional indexer is out-of-bounds\n",
      "Erro ao avaliar aptidão: single positional indexer is out-of-bounds\n",
      "Erro ao avaliar aptidão: single positional indexer is out-of-bounds\n",
      "Erro ao avaliar aptidão: single positional indexer is out-of-bounds\n",
      "Erro ao avaliar aptidão: single positional indexer is out-of-bounds\n",
      "Erro ao avaliar aptidão: single positional indexer is out-of-bounds\n",
      "Generation 129: Best Fitness = 247.41\n",
      "Generation 130: Best Fitness = 248.30\n",
      "Generation 131: Best Fitness = 248.30\n",
      "Erro ao avaliar aptidão: single positional indexer is out-of-bounds\n",
      "Erro ao avaliar aptidão: single positional indexer is out-of-bounds\n",
      "Erro ao avaliar aptidão: single positional indexer is out-of-bounds\n",
      "Erro ao avaliar aptidão: single positional indexer is out-of-bounds\n",
      "Erro ao avaliar aptidão: single positional indexer is out-of-bounds\n",
      "Erro ao avaliar aptidão: single positional indexer is out-of-bounds\n",
      "Erro ao avaliar aptidão: single positional indexer is out-of-bounds\n",
      "Generation 132: Best Fitness = 248.47\n",
      "Erro ao avaliar aptidão: single positional indexer is out-of-bounds\n",
      "Erro ao avaliar aptidão: single positional indexer is out-of-bounds\n",
      "Erro ao avaliar aptidão: single positional indexer is out-of-bounds\n",
      "Erro ao avaliar aptidão: single positional indexer is out-of-bounds\n",
      "Erro ao avaliar aptidão: single positional indexer is out-of-bounds\n",
      "Erro ao avaliar aptidão: single positional indexer is out-of-bounds\n",
      "Erro ao avaliar aptidão: single positional indexer is out-of-bounds\n",
      "Generation 133: Best Fitness = 243.20\n",
      "Erro ao avaliar aptidão: single positional indexer is out-of-bounds\n",
      "Generation 134: Best Fitness = 246.81\n",
      "Erro ao avaliar aptidão: single positional indexer is out-of-bounds\n",
      "Generation 135: Best Fitness = 248.52\n",
      "Generation 136: Best Fitness = 248.52\n",
      "Generation 137: Best Fitness = 250.66\n",
      "Generation 138: Best Fitness = 248.52\n",
      "Generation 139: Best Fitness = 248.52\n",
      "Erro ao avaliar aptidão: single positional indexer is out-of-bounds\n",
      "Generation 140: Best Fitness = 250.69\n",
      "Erro ao avaliar aptidão: single positional indexer is out-of-bounds\n",
      "Erro ao avaliar aptidão: single positional indexer is out-of-bounds\n",
      "Erro ao avaliar aptidão: single positional indexer is out-of-bounds\n",
      "Generation 141: Best Fitness = 250.69\n",
      "Erro ao avaliar aptidão: single positional indexer is out-of-bounds\n",
      "Erro ao avaliar aptidão: single positional indexer is out-of-bounds\n",
      "Generation 142: Best Fitness = 249.33\n",
      "Erro ao avaliar aptidão: single positional indexer is out-of-bounds\n",
      "Generation 143: Best Fitness = 247.72\n",
      "Erro ao avaliar aptidão: single positional indexer is out-of-bounds\n",
      "Generation 144: Best Fitness = 247.72\n",
      "Generation 145: Best Fitness = 247.72\n",
      "Generation 146: Best Fitness = 247.72\n",
      "Generation 147: Best Fitness = 253.64\n",
      "Erro ao avaliar aptidão: single positional indexer is out-of-bounds\n",
      "Generation 148: Best Fitness = 254.74\n",
      "Erro ao avaliar aptidão: single positional indexer is out-of-bounds\n",
      "Generation 149: Best Fitness = 255.46\n",
      "Generation 150: Best Fitness = 255.46\n",
      "Generation 151: Best Fitness = 256.44\n",
      "Generation 152: Best Fitness = 253.54\n",
      "Erro ao avaliar aptidão: single positional indexer is out-of-bounds\n",
      "Generation 153: Best Fitness = 253.58\n",
      "Erro ao avaliar aptidão: single positional indexer is out-of-bounds\n",
      "Generation 154: Best Fitness = 256.56\n",
      "Generation 155: Best Fitness = 257.36\n",
      "Erro ao avaliar aptidão: single positional indexer is out-of-bounds\n",
      "Generation 156: Best Fitness = 257.36\n",
      "Erro ao avaliar aptidão: single positional indexer is out-of-bounds\n",
      "Erro ao avaliar aptidão: single positional indexer is out-of-bounds\n",
      "Generation 157: Best Fitness = 257.60\n",
      "Erro ao avaliar aptidão: single positional indexer is out-of-bounds\n",
      "Erro ao avaliar aptidão: single positional indexer is out-of-bounds\n",
      "Erro ao avaliar aptidão: single positional indexer is out-of-bounds\n",
      "Generation 158: Best Fitness = 257.60\n",
      "Erro ao avaliar aptidão: single positional indexer is out-of-bounds\n",
      "Erro ao avaliar aptidão: single positional indexer is out-of-bounds\n",
      "Generation 159: Best Fitness = 258.85\n",
      "Erro ao avaliar aptidão: single positional indexer is out-of-bounds\n",
      "Generation 160: Best Fitness = 258.85\n",
      "Erro ao avaliar aptidão: single positional indexer is out-of-bounds\n",
      "Erro ao avaliar aptidão: single positional indexer is out-of-bounds\n",
      "Generation 161: Best Fitness = 258.85\n",
      "Erro ao avaliar aptidão: single positional indexer is out-of-bounds\n",
      "Generation 162: Best Fitness = 260.11\n",
      "Generation 163: Best Fitness = 260.11\n",
      "Erro ao avaliar aptidão: single positional indexer is out-of-bounds\n",
      "Erro ao avaliar aptidão: single positional indexer is out-of-bounds\n",
      "Generation 164: Best Fitness = 260.11\n",
      "Erro ao avaliar aptidão: single positional indexer is out-of-bounds\n",
      "Erro ao avaliar aptidão: single positional indexer is out-of-bounds\n",
      "Generation 165: Best Fitness = 260.11\n",
      "Erro ao avaliar aptidão: single positional indexer is out-of-bounds\n",
      "Generation 166: Best Fitness = 260.43\n",
      "Erro ao avaliar aptidão: single positional indexer is out-of-bounds\n",
      "Generation 167: Best Fitness = 260.50\n",
      "Generation 168: Best Fitness = 260.24\n",
      "Generation 169: Best Fitness = 260.24\n",
      "Generation 170: Best Fitness = 260.43\n",
      "Generation 171: Best Fitness = 260.24\n",
      "Generation 172: Best Fitness = 260.24\n",
      "Generation 173: Best Fitness = 260.24\n",
      "Generation 174: Best Fitness = 260.24\n",
      "Generation 175: Best Fitness = 260.24\n",
      "Erro ao avaliar aptidão: single positional indexer is out-of-bounds\n",
      "Generation 176: Best Fitness = 258.14\n",
      "Erro ao avaliar aptidão: single positional indexer is out-of-bounds\n",
      "Generation 177: Best Fitness = 247.34\n",
      "Generation 178: Best Fitness = 247.34\n",
      "Erro ao avaliar aptidão: single positional indexer is out-of-bounds\n",
      "Erro ao avaliar aptidão: single positional indexer is out-of-bounds\n",
      "Generation 179: Best Fitness = 247.34\n",
      "Erro ao avaliar aptidão: single positional indexer is out-of-bounds\n",
      "Erro ao avaliar aptidão: single positional indexer is out-of-bounds\n",
      "Generation 180: Best Fitness = 247.34\n",
      "Generation 181: Best Fitness = 247.34\n",
      "Erro ao avaliar aptidão: single positional indexer is out-of-bounds\n",
      "Generation 182: Best Fitness = 247.34\n",
      "Erro ao avaliar aptidão: single positional indexer is out-of-bounds\n",
      "Erro ao avaliar aptidão: single positional indexer is out-of-bounds\n",
      "Erro ao avaliar aptidão: single positional indexer is out-of-bounds\n",
      "Erro ao avaliar aptidão: single positional indexer is out-of-bounds\n",
      "Erro ao avaliar aptidão: single positional indexer is out-of-bounds\n",
      "Erro ao avaliar aptidão: single positional indexer is out-of-bounds\n",
      "Generation 183: Best Fitness = 247.34\n",
      "Erro ao avaliar aptidão: single positional indexer is out-of-bounds\n",
      "Erro ao avaliar aptidão: single positional indexer is out-of-bounds\n",
      "Erro ao avaliar aptidão: single positional indexer is out-of-bounds\n",
      "Erro ao avaliar aptidão: single positional indexer is out-of-bounds\n",
      "Erro ao avaliar aptidão: single positional indexer is out-of-bounds\n",
      "Generation 184: Best Fitness = 245.18\n",
      "Erro ao avaliar aptidão: single positional indexer is out-of-bounds\n",
      "Erro ao avaliar aptidão: single positional indexer is out-of-bounds\n",
      "Erro ao avaliar aptidão: single positional indexer is out-of-bounds\n",
      "Erro ao avaliar aptidão: single positional indexer is out-of-bounds\n",
      "Erro ao avaliar aptidão: single positional indexer is out-of-bounds\n",
      "Generation 185: Best Fitness = 247.34\n",
      "Erro ao avaliar aptidão: single positional indexer is out-of-bounds\n",
      "Erro ao avaliar aptidão: single positional indexer is out-of-bounds\n",
      "Erro ao avaliar aptidão: single positional indexer is out-of-bounds\n",
      "Erro ao avaliar aptidão: single positional indexer is out-of-bounds\n",
      "Erro ao avaliar aptidão: single positional indexer is out-of-bounds\n",
      "Erro ao avaliar aptidão: single positional indexer is out-of-bounds\n",
      "Generation 186: Best Fitness = 257.33\n",
      "Erro ao avaliar aptidão: single positional indexer is out-of-bounds\n",
      "Generation 187: Best Fitness = 257.33\n",
      "Generation 188: Best Fitness = 258.87\n",
      "Generation 189: Best Fitness = 257.34\n",
      "Erro ao avaliar aptidão: single positional indexer is out-of-bounds\n",
      "Erro ao avaliar aptidão: single positional indexer is out-of-bounds\n",
      "Erro ao avaliar aptidão: single positional indexer is out-of-bounds\n",
      "Generation 190: Best Fitness = 257.40\n",
      "Erro ao avaliar aptidão: single positional indexer is out-of-bounds\n",
      "Erro ao avaliar aptidão: single positional indexer is out-of-bounds\n",
      "Erro ao avaliar aptidão: single positional indexer is out-of-bounds\n",
      "Erro ao avaliar aptidão: single positional indexer is out-of-bounds\n",
      "Generation 191: Best Fitness = 257.53\n",
      "Erro ao avaliar aptidão: single positional indexer is out-of-bounds\n",
      "Erro ao avaliar aptidão: single positional indexer is out-of-bounds\n",
      "Erro ao avaliar aptidão: single positional indexer is out-of-bounds\n",
      "Erro ao avaliar aptidão: single positional indexer is out-of-bounds\n",
      "Erro ao avaliar aptidão: single positional indexer is out-of-bounds\n",
      "Erro ao avaliar aptidão: single positional indexer is out-of-bounds\n",
      "Generation 192: Best Fitness = 260.28\n",
      "Erro ao avaliar aptidão: single positional indexer is out-of-bounds\n",
      "Erro ao avaliar aptidão: single positional indexer is out-of-bounds\n",
      "Erro ao avaliar aptidão: single positional indexer is out-of-bounds\n",
      "Erro ao avaliar aptidão: single positional indexer is out-of-bounds\n",
      "Erro ao avaliar aptidão: single positional indexer is out-of-bounds\n",
      "Generation 193: Best Fitness = 260.28\n",
      "Erro ao avaliar aptidão: single positional indexer is out-of-bounds\n",
      "Generation 194: Best Fitness = 260.28\n",
      "Erro ao avaliar aptidão: single positional indexer is out-of-bounds\n",
      "Erro ao avaliar aptidão: single positional indexer is out-of-bounds\n",
      "Generation 195: Best Fitness = 260.28\n",
      "Erro ao avaliar aptidão: single positional indexer is out-of-bounds\n",
      "Generation 196: Best Fitness = 260.29\n",
      "Generation 197: Best Fitness = 260.28\n",
      "Generation 198: Best Fitness = 260.28\n",
      "Erro ao avaliar aptidão: single positional indexer is out-of-bounds\n",
      "Erro ao avaliar aptidão: single positional indexer is out-of-bounds\n",
      "Generation 199: Best Fitness = 260.28\n",
      "Erro ao avaliar aptidão: single positional indexer is out-of-bounds\n",
      "Erro ao avaliar aptidão: single positional indexer is out-of-bounds\n",
      "Generation 200: Best Fitness = 260.28\n",
      "Erro ao avaliar aptidão: single positional indexer is out-of-bounds\n",
      "Generation 201: Best Fitness = 260.28\n",
      "Erro ao avaliar aptidão: single positional indexer is out-of-bounds\n",
      "Erro ao avaliar aptidão: single positional indexer is out-of-bounds\n",
      "Generation 202: Best Fitness = 260.28\n",
      "Erro ao avaliar aptidão: single positional indexer is out-of-bounds\n",
      "Generation 203: Best Fitness = 260.30\n",
      "Generation 204: Best Fitness = 260.46\n"
     ]
    }
   ],
   "source": [
    "# Criação do ambiente\n",
    "env = UAVCommunicationEnv()\n",
    "\n",
    "# Criação do algoritmo genético\n",
    "ga = GeneticAlgorithm(env)\n",
    "\n",
    "# Executar o algoritmo genético\n",
    "best_solution = ga.run()\n",
    "\n",
    "# Renderizar a melhor solução\n",
    "env.ultima_acao = best_solution\n",
    "env.render()\n",
    "\n",
    "print(\"Melhor solução:\", best_solution)\n"
   ]
  }
 ],
 "metadata": {
  "kernelspec": {
   "display_name": "base",
   "language": "python",
   "name": "python3"
  },
  "language_info": {
   "codemirror_mode": {
    "name": "ipython",
    "version": 3
   },
   "file_extension": ".py",
   "mimetype": "text/x-python",
   "name": "python",
   "nbconvert_exporter": "python",
   "pygments_lexer": "ipython3",
   "version": "3.11.7"
  }
 },
 "nbformat": 4,
 "nbformat_minor": 2
}
