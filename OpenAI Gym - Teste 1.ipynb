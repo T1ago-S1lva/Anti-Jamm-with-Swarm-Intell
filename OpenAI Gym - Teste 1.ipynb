{
 "cells": [
  {
   "cell_type": "code",
   "execution_count": 183,
   "metadata": {},
   "outputs": [],
   "source": [
    "import gym\n",
    "from gym import Env, spaces\n",
    "\n",
    "import numpy as np\n",
    "import seaborn as sns\n",
    "from plotly.offline import iplot\n",
    "import matplotlib.pyplot as plt\n",
    "import plotly.graph_objects as go\n",
    "import plotly.express as px"
   ]
  },
  {
   "cell_type": "markdown",
   "metadata": {},
   "source": [
    "Configurar o Enxame\n"
   ]
  },
  {
   "cell_type": "code",
   "execution_count": 184,
   "metadata": {},
   "outputs": [],
   "source": [
    "num_drones = 6\n",
    "limite_y = 80\n",
    "limite_x = 100\n",
    "\n",
    "alcance_comunicacao_jammer = 25\n",
    "alcance_comunicacao_nos=500\n",
    "B_Hz = 2.4e9  # Largura de banda\n",
    "\n",
    "# Posições estáticas dos drones\n",
    "posicoes = np.array([[16, 30], [18, 48], [44, 15], [23, 73], [45, 73], [50, 50]])\n",
    "\n",
    "posicao_jammer = np.array([38,50])\n",
    "\n"
   ]
  },
  {
   "cell_type": "markdown",
   "metadata": {},
   "source": [
    "ENCONTRAR VIZINHOS E NOS AFETADOS"
   ]
  },
  {
   "cell_type": "code",
   "execution_count": 185,
   "metadata": {},
   "outputs": [
    {
     "name": "stdout",
     "output_type": "stream",
     "text": [
      "Nos Vizinhos: {0: [1, 2, 3, 4, 5], 1: [0, 2, 3, 4, 5], 2: [0, 1, 3, 4, 5], 3: [0, 1, 2, 4, 5], 4: [0, 1, 2, 3, 5], 5: [0, 1, 2, 3, 4]}\n",
      "Nos Afetados Jammer: [1, 4, 5]\n"
     ]
    }
   ],
   "source": [
    "def distancia(pos1, pos2):\n",
    "    return np.sqrt((pos1[0] - pos2[0])**2 + (pos1[1] - pos2[1])**2)\n",
    "# Preparando a figura\n",
    "\n",
    "def encontra_vizinhos(posicoes, alcance_comunicacao_nos):\n",
    "    num_drones = posicoes.shape[0]\n",
    "    vizinhos = {}\n",
    "    for i in range(num_drones):\n",
    "        vizinhos[i] = []\n",
    "        for j in range(num_drones):\n",
    "            if i != j and distancia(posicoes[i], posicoes[j]) <= alcance_comunicacao_nos:\n",
    "                vizinhos[i].append(j)\n",
    "    return vizinhos\n",
    "\n",
    "def verifica_jammer(posicoes, posicao_jammer, alcance_comunicacao_jammer):\n",
    "    afetados_pelo_jammer = []\n",
    "    for i in range(posicoes.shape[0]):\n",
    "        if distancia(posicoes[i], posicao_jammer) <= alcance_comunicacao_jammer:\n",
    "            afetados_pelo_jammer.append(i)\n",
    "    return afetados_pelo_jammer\n",
    "\n",
    "vizinhos = encontra_vizinhos(posicoes, alcance_comunicacao_nos)\n",
    "afetados_pelo_jammer = verifica_jammer(posicoes, posicao_jammer, alcance_comunicacao_jammer)\n",
    "\n",
    "print('Nos Vizinhos:', vizinhos)\n",
    "print('Nos Afetados Jammer:', afetados_pelo_jammer)"
   ]
  },
  {
   "cell_type": "markdown",
   "metadata": {},
   "source": [
    "CALCULA AS POTENCIAS DE RECEÇÃO"
   ]
  },
  {
   "cell_type": "code",
   "execution_count": 186,
   "metadata": {},
   "outputs": [
    {
     "name": "stdout",
     "output_type": "stream",
     "text": [
      "resultadosPRX {'Drone 0 para Vizinho 1': -35.20473545739759, 'Drone 0 para Vizinho 2': -40.084908682649896, 'Drone 0 para Vizinho 3': -42.82895910119353, 'Drone 0 para Vizinho 4': -44.34351982030488, 'Drone 0 para Vizinho 5': -41.9660929468175, 'Drone 1 para Vizinho 0': -35.20473545739759, 'Drone 1 para Vizinho 2': -42.513444117519214, 'Drone 1 para Vizinho 3': -38.17513058670936, 'Drone 1 para Vizinho 4': -41.36218366377206, 'Drone 1 para Vizinho 5': -40.16592816687337, 'Drone 2 para Vizinho 0': -40.084908682649896, 'Drone 2 para Vizinho 1': -42.513444117519214, 'Drone 2 para Vizinho 3': -45.84954363134672, 'Drone 2 para Vizinho 4': -45.315847705880756, 'Drone 2 para Vizinho 5': -41.053147886011615, 'Drone 3 para Vizinho 0': -42.82895910119353, 'Drone 3 para Vizinho 1': -38.17513058670936, 'Drone 3 para Vizinho 2': -45.84954363134672, 'Drone 3 para Vizinho 4': -36.894450636724926, 'Drone 3 para Vizinho 5': -41.0428034313733, 'Drone 4 para Vizinho 0': -44.34351982030488, 'Drone 4 para Vizinho 1': -41.36218366377206, 'Drone 4 para Vizinho 2': -45.315847705880756, 'Drone 4 para Vizinho 3': -36.894450636724926, 'Drone 4 para Vizinho 5': -37.48109466756509, 'Drone 5 para Vizinho 0': -41.9660929468175, 'Drone 5 para Vizinho 1': -40.16592816687337, 'Drone 5 para Vizinho 2': -41.053147886011615, 'Drone 5 para Vizinho 3': -41.0428034313733, 'Drone 5 para Vizinho 4': -37.48109466756509}\n",
      "Drone 0 para Vizinho 1: Prx = -35.20 dBm\n",
      "Drone 0 para Vizinho 2: Prx = -40.08 dBm\n",
      "Drone 0 para Vizinho 3: Prx = -42.83 dBm\n",
      "Drone 0 para Vizinho 4: Prx = -44.34 dBm\n",
      "Drone 0 para Vizinho 5: Prx = -41.97 dBm\n",
      "Drone 1 para Vizinho 0: Prx = -35.20 dBm\n",
      "Drone 1 para Vizinho 2: Prx = -42.51 dBm\n",
      "Drone 1 para Vizinho 3: Prx = -38.18 dBm\n",
      "Drone 1 para Vizinho 4: Prx = -41.36 dBm\n",
      "Drone 1 para Vizinho 5: Prx = -40.17 dBm\n",
      "Drone 2 para Vizinho 0: Prx = -40.08 dBm\n",
      "Drone 2 para Vizinho 1: Prx = -42.51 dBm\n",
      "Drone 2 para Vizinho 3: Prx = -45.85 dBm\n",
      "Drone 2 para Vizinho 4: Prx = -45.32 dBm\n",
      "Drone 2 para Vizinho 5: Prx = -41.05 dBm\n",
      "Drone 3 para Vizinho 0: Prx = -42.83 dBm\n",
      "Drone 3 para Vizinho 1: Prx = -38.18 dBm\n",
      "Drone 3 para Vizinho 2: Prx = -45.85 dBm\n",
      "Drone 3 para Vizinho 4: Prx = -36.89 dBm\n",
      "Drone 3 para Vizinho 5: Prx = -41.04 dBm\n",
      "Drone 4 para Vizinho 0: Prx = -44.34 dBm\n",
      "Drone 4 para Vizinho 1: Prx = -41.36 dBm\n",
      "Drone 4 para Vizinho 2: Prx = -45.32 dBm\n",
      "Drone 4 para Vizinho 3: Prx = -36.89 dBm\n",
      "Drone 4 para Vizinho 5: Prx = -37.48 dBm\n",
      "Drone 5 para Vizinho 0: Prx = -41.97 dBm\n",
      "Drone 5 para Vizinho 1: Prx = -40.17 dBm\n",
      "Drone 5 para Vizinho 2: Prx = -41.05 dBm\n",
      "Drone 5 para Vizinho 3: Prx = -41.04 dBm\n",
      "Drone 5 para Vizinho 4: Prx = -37.48 dBm\n"
     ]
    }
   ],
   "source": [
    "Ptx_dBm = 30 \n",
    "Gtx_dBi = Grx_dBi =0       \n",
    "f = 2.4e9 \n",
    "d0=1\n",
    "gamma=2\n",
    "\n",
    "\n",
    "def calcular_Prx_dB(Ptx_dBm, Gtx_dBi, Grx_dBi, d,d0,gamma, f):\n",
    "    \"\"\"\n",
    "    Calcula a potência do sinal recebido usando a equação de Friis.\n",
    "    \"\"\"\n",
    "    c = 3e8  # Velocidade da luz em m/s\n",
    "    lambda_m = c / f  # Comprimento de onda\n",
    "    L = (4 * np.pi * d / lambda_m)**2\n",
    "    Prx_dBm = Ptx_dBm + Gtx_dBi + Grx_dBi - 10 * np.log10(L)\n",
    "    return Prx_dBm\n",
    "\n",
    "\n",
    "def calcular_potencia_recebida_vizinhos(vizinhos, posicoes):\n",
    "    prx_resultados = {}\n",
    "    for drone, seus_vizinhos in vizinhos.items():\n",
    "        for vizinho in seus_vizinhos:\n",
    "            d = distancia(posicoes[drone], posicoes[vizinho])\n",
    "            prx = calcular_Prx_dB(Ptx_dBm, Gtx_dBi, Grx_dBi, d,d0,gamma, f)\n",
    "            prx_resultados[f\"Drone {drone} para Vizinho {vizinho}\"] = prx\n",
    "    return prx_resultados\n",
    "\n",
    "prx_resultados = calcular_potencia_recebida_vizinhos(vizinhos, posicoes)\n",
    "print('resultadosPRX',prx_resultados)\n",
    "\n",
    "# Exibir os resultados\n",
    "for chave, prx in prx_resultados.items():\n",
    "    print(f\"{chave}: Prx = {prx:.2f} dBm\")\n",
    "    \n",
    "    \n",
    "\n",
    "\n"
   ]
  },
  {
   "cell_type": "markdown",
   "metadata": {},
   "source": [
    "CALCULAR AS CAPACIDADES\n",
    "\n",
    "Considero o ruido apenas o efeito dos outros drones que não estão a comunicar diretamente com o meu nó \n",
    "\n",
    "Atribuí um peso de apenas 30% da potencia de receção caso o drone estivesse a apontar diretamente"
   ]
  },
  {
   "cell_type": "code",
   "execution_count": 187,
   "metadata": {},
   "outputs": [
    {
     "name": "stdout",
     "output_type": "stream",
     "text": [
      "Capacidade do canal entre Drone 0 e Drone 1: 2119.18 Mbps\n",
      "Capacidade do canal entre Drone 0 e Drone 2: 656.21 Mbps\n",
      "Capacidade do canal entre Drone 0 e Drone 3: 542.87 Mbps\n",
      "Capacidade do canal entre Drone 0 e Drone 4: 410.01 Mbps\n",
      "Capacidade do canal entre Drone 0 e Drone 5: 619.23 Mbps\n",
      "Capacidade do canal entre Drone 1 e Drone 0: 2119.18 Mbps\n",
      "Capacidade do canal entre Drone 1 e Drone 2: 490.31 Mbps\n",
      "Capacidade do canal entre Drone 1 e Drone 3: 1457.07 Mbps\n",
      "Capacidade do canal entre Drone 1 e Drone 4: 926.65 Mbps\n",
      "Capacidade do canal entre Drone 1 e Drone 5: 1062.16 Mbps\n",
      "Capacidade do canal entre Drone 2 e Drone 0: 656.21 Mbps\n",
      "Capacidade do canal entre Drone 2 e Drone 1: 490.31 Mbps\n",
      "Capacidade do canal entre Drone 2 e Drone 3: 194.53 Mbps\n",
      "Capacidade do canal entre Drone 2 e Drone 4: 220.73 Mbps\n",
      "Capacidade do canal entre Drone 2 e Drone 5: 512.18 Mbps\n",
      "Capacidade do canal entre Drone 3 e Drone 0: 542.87 Mbps\n",
      "Capacidade do canal entre Drone 3 e Drone 1: 1457.07 Mbps\n",
      "Capacidade do canal entre Drone 3 e Drone 2: 194.53 Mbps\n",
      "Capacidade do canal entre Drone 3 e Drone 4: 1382.81 Mbps\n",
      "Capacidade do canal entre Drone 3 e Drone 5: 689.36 Mbps\n",
      "Capacidade do canal entre Drone 4 e Drone 0: 410.01 Mbps\n",
      "Capacidade do canal entre Drone 4 e Drone 1: 926.65 Mbps\n",
      "Capacidade do canal entre Drone 4 e Drone 2: 220.73 Mbps\n",
      "Capacidade do canal entre Drone 4 e Drone 3: 1382.81 Mbps\n",
      "Capacidade do canal entre Drone 4 e Drone 5: 1247.70 Mbps\n",
      "Capacidade do canal entre Drone 5 e Drone 0: 619.23 Mbps\n",
      "Capacidade do canal entre Drone 5 e Drone 1: 1062.16 Mbps\n",
      "Capacidade do canal entre Drone 5 e Drone 2: 512.18 Mbps\n",
      "Capacidade do canal entre Drone 5 e Drone 3: 689.36 Mbps\n",
      "Capacidade do canal entre Drone 5 e Drone 4: 1247.70 Mbps\n",
      "O bottleneck da rota é: 194.53 Mbps\n",
      "{(0, 1): 2119.1829042363706, (0, 2): 656.208300704843, (0, 3): 542.8673036395667, (0, 4): 410.01176246169297, (0, 5): 619.225828009921, (1, 0): 2119.1829042363706, (1, 2): 490.3087364198001, (1, 3): 1457.0660884262666, (1, 4): 926.645522222283, (1, 5): 1062.1643755176983, (2, 0): 656.208300704843, (2, 1): 490.3087364198001, (2, 3): 194.52638636699825, (2, 4): 220.7281127874874, (2, 5): 512.1773812560887, (3, 0): 542.8673036395667, (3, 1): 1457.0660884262666, (3, 2): 194.52638636699825, (3, 4): 1382.8127032426964, (3, 5): 689.3613629053883, (4, 0): 410.01176246169297, (4, 1): 926.645522222283, (4, 2): 220.7281127874874, (4, 3): 1382.8127032426964, (4, 5): 1247.696179429817, (5, 0): 619.225828009921, (5, 1): 1062.1643755176983, (5, 2): 512.1773812560887, (5, 3): 689.3613629053883, (5, 4): 1247.696179429817}\n"
     ]
    }
   ],
   "source": [
    "def calcular_capacidade_canal(Prx_dBm, B_Hz, N_dBm):\n",
    "    \"\"\"\n",
    "    Calcula a capacidade do canal usando o teorema de Shannon-Hartley.\n",
    "\n",
    "    :param Prx_dBm: Potência do sinal recebido em dBm.\n",
    "    :param B_Hz: Largura de banda do canal em Hertz.\n",
    "    :param N_dBm: Potência do ruído em dBm.\n",
    "    :return: Capacidade do canal em bits por segundo.\n",
    "    \"\"\"\n",
    "    # Convertendo potências de dBm para Watts\n",
    "    Prx_W = 10**((Prx_dBm - 30) / 10)\n",
    "    N_W = 10**((N_dBm - 30) / 10)\n",
    "\n",
    "    # Calculando a razão sinal-ruído (SNR)\n",
    "    SNR = Prx_W / N_W\n",
    "\n",
    "    # Calculando a capacidade do canal\n",
    "    C_bps = B_Hz * np.log2(1 + SNR)\n",
    "    return C_bps\n",
    "\n",
    "\n",
    "\n",
    "def calcular_potencia_ruido(prx_resultados, rota_atual, B_Hz):\n",
    "    # Inicializa a potência total de ruído em Watts\n",
    "    potencia_ruido_total_W = 0\n",
    "\n",
    "    # Determina os drones envolvidos na comunicação atual\n",
    "    drones_envolvidos = rota_atual\n",
    "\n",
    "    # Itera sobre todos os resultados de Prx para calcular o ruído\n",
    "    for link, Prx_dBm in prx_resultados.items():\n",
    "        partes = link.split()\n",
    "        transmissor = int(partes[1])\n",
    "        receptor = int(partes[4])\n",
    "\n",
    "        # Verifica se o drone não está envolvido na comunicação atual\n",
    "        if transmissor not in drones_envolvidos and receptor not in drones_envolvidos:\n",
    "            # Converte a potência de dBm para Watts e aplica o fator de redução de 10%\n",
    "            Prx_W = 10 ** ((Prx_dBm - 30) / 10) * 0.3\n",
    "            potencia_ruido_total_W += Prx_W\n",
    "\n",
    "    # Converte a potência total de ruído de volta para dBm se houver ruído calculado\n",
    "    if potencia_ruido_total_W > 0:\n",
    "        N_dBm = 10 * np.log10(potencia_ruido_total_W) + 30\n",
    "    else:\n",
    "        # Assume um valor padrão de ruído se não houver outros drones contribuindo\n",
    "        N_dBm = -100  # Um valor padrão de ruído em dBm\n",
    "\n",
    "    return N_dBm\n",
    "\n",
    "def calcular_capacidades_canais(prx_resultados, posicoes, B_Hz):\n",
    "    # Armazena as capacidades de canal para cada link na rota\n",
    "    capacidades = []\n",
    "\n",
    "    for drone, seus_vizinhos in vizinhos.items():\n",
    "        for vizinho in seus_vizinhos:\n",
    "        # Certifique-se de que o formato da chave aqui corresponda ao formato usado ao preencher prx_resultados\n",
    "            chave_prx = f'Drone {drone} para Vizinho {vizinho}'\n",
    "        # Verifica se a chave existe no dicionário para evitar KeyError\n",
    "            if chave_prx in prx_resultados:\n",
    "                Prx_dBm = prx_resultados[chave_prx]\n",
    "                # print(Prx_dBm)\n",
    "                # Calcular a potência do ruído dos outros drones\n",
    "            N_dBm = calcular_potencia_ruido(prx_resultados, [drone, vizinho], B_Hz)\n",
    "\n",
    "                # Se a potência do ruído não puder ser calculada, assuma um valor padrão\n",
    "            if N_dBm is None:\n",
    "                N_dBm = -100  # valor padrão em dBm para a potência de ruído\n",
    "\n",
    "                # Calcular a capacidade do canal\n",
    "            capacidade_bps = calcular_capacidade_canal(Prx_dBm, B_Hz, N_dBm)\n",
    "            capacidade_bps=capacidade_bps / 1e6\n",
    "            capacidades.append((drone, vizinho, capacidade_bps))\n",
    "\n",
    "    return capacidades\n",
    "\n",
    "\n",
    "\n",
    "capacidades = calcular_capacidades_canais(prx_resultados, posicoes, B_Hz)\n",
    "\n",
    "bottleneck_bps = float('inf')\n",
    "\n",
    "# Identificar a capacidade mais baixa ao longo da rota\n",
    "for transmissor, receptor, capacidade_bps in capacidades:\n",
    "    print(f\"Capacidade do canal entre Drone {transmissor} e Drone {receptor}: {capacidade_bps:.2f} Mbps\")\n",
    "    if capacidade_bps < bottleneck_bps:\n",
    "        bottleneck_bps = capacidade_bps\n",
    "\n",
    "# Verifica se um bottleneck foi encontrado\n",
    "if bottleneck_bps < float('inf'):\n",
    "    print(f\"O bottleneck da rota é: {bottleneck_bps:.2f} Mbps\")\n",
    "else:\n",
    "    print(\"Não foi possível determinar o bottleneck.\")\n",
    "\n",
    "\n",
    "capacidade_dict = {(transmissor, receptor): capacidade_bps for transmissor, receptor, capacidade_bps in capacidades}\n",
    "\n",
    "print(capacidade_dict)"
   ]
  },
  {
   "cell_type": "markdown",
   "metadata": {},
   "source": [
    "DIREÇÕES AFETADAS PELO JAMMER"
   ]
  },
  {
   "cell_type": "code",
   "execution_count": 188,
   "metadata": {},
   "outputs": [
    {
     "name": "stdout",
     "output_type": "stream",
     "text": [
      "Direção do feixe do jammer para o nó 1: 185.71 graus\n",
      "Direção do feixe do jammer para o nó 4: 73.07 graus\n",
      "Direção do feixe do jammer para o nó 5: 0.00 graus\n"
     ]
    }
   ],
   "source": [
    "def calcular_direcao_feixe_jammer(posicao_jammer, posicoes, afetados_pelo_jammer):\n",
    "    direcoes = {}\n",
    "    for i in afetados_pelo_jammer:\n",
    "        dx = posicoes[i][0] - posicao_jammer[0]\n",
    "        dy = posicoes[i][1] - posicao_jammer[1]\n",
    "        angulo_radianos = np.arctan2(dy, dx)\n",
    "        angulo_graus = np.degrees(angulo_radianos)\n",
    "        # Normaliza o ângulo para o intervalo de 0 a 360 graus\n",
    "        angulo_graus = (angulo_graus + 360) % 360\n",
    "        direcoes[i] = angulo_graus\n",
    "    return direcoes\n",
    "\n",
    "# Calcula a direção do feixe do jammer para os nós afetados\n",
    "direcoes_feixe_jammer = calcular_direcao_feixe_jammer(posicao_jammer, posicoes, afetados_pelo_jammer)\n",
    "\n",
    "# Exibe os resultados\n",
    "for no, direcao in direcoes_feixe_jammer.items():\n",
    "    print(f\"Direção do feixe do jammer para o nó {no}: {direcao:.2f} graus\")"
   ]
  },
  {
   "cell_type": "markdown",
   "metadata": {},
   "source": [
    "INTERVALO ANGULAR CRITICO"
   ]
  },
  {
   "cell_type": "code",
   "execution_count": 189,
   "metadata": {},
   "outputs": [
    {
     "name": "stdout",
     "output_type": "stream",
     "text": [
      "Angulo crítico para o nó 1: 155.71° a 215.71°\n",
      "Angulo crítico para o nó 4: 43.07° a 103.07°\n",
      "Angulo crítico para o nó 5: 330.00° a 30.00°\n"
     ]
    }
   ],
   "source": [
    "def calcular_intervalo_angular_critico(posicao_jammer, posicoes, afetados_pelo_jammer):\n",
    "    intervalos = {}\n",
    "    for i in afetados_pelo_jammer:\n",
    "        dx = posicoes[i][0] - posicao_jammer[0]\n",
    "        dy = posicoes[i][1] - posicao_jammer[1]\n",
    "        angulo_radianos = np.arctan2(dy, dx)\n",
    "        angulo_graus = np.degrees(angulo_radianos)\n",
    "\n",
    "        # Normaliza o ângulo para o intervalo de 0 a 360 graus\n",
    "        angulo_graus = (angulo_graus + 360) % 360\n",
    "        intervalo_min = (angulo_graus - 30 + 360) % 360  # Subtrai 30 graus e normaliza\n",
    "        intervalo_max = (angulo_graus + 30) % 360  # Adiciona 30 graus e normaliza\n",
    "\n",
    "        intervalos[i] = (intervalo_min, intervalo_max)\n",
    "    return intervalos\n",
    "\n",
    "# Calcula o intervalo angular crítico para os nós afetados\n",
    "intervalos_angular_critico = calcular_intervalo_angular_critico(posicao_jammer, posicoes, afetados_pelo_jammer)\n",
    "\n",
    "# Exibe os resultados\n",
    "for no, intervalo in intervalos_angular_critico.items():\n",
    "    print(f\"Angulo crítico para o nó {no}: {intervalo[0]:.2f}° a {intervalo[1]:.2f}°\")\n"
   ]
  },
  {
   "cell_type": "markdown",
   "metadata": {},
   "source": [
    "VIZUALIZAR O ENXAME"
   ]
  },
  {
   "cell_type": "code",
   "execution_count": 190,
   "metadata": {},
   "outputs": [
    {
     "data": {
      "application/vnd.plotly.v1+json": {
       "config": {
        "plotlyServerURL": "https://plot.ly"
       },
       "data": [
        {
         "marker": {
          "color": "blue",
          "size": 10
         },
         "mode": "markers+text",
         "showlegend": false,
         "text": "0",
         "textposition": "bottom center",
         "type": "scatter",
         "x": [
          16
         ],
         "y": [
          30
         ]
        },
        {
         "marker": {
          "color": "orange",
          "size": 10
         },
         "mode": "markers+text",
         "showlegend": false,
         "text": "1",
         "textposition": "bottom center",
         "type": "scatter",
         "x": [
          18
         ],
         "y": [
          48
         ]
        },
        {
         "marker": {
          "color": "blue",
          "size": 10
         },
         "mode": "markers+text",
         "showlegend": false,
         "text": "2",
         "textposition": "bottom center",
         "type": "scatter",
         "x": [
          44
         ],
         "y": [
          15
         ]
        },
        {
         "marker": {
          "color": "blue",
          "size": 10
         },
         "mode": "markers+text",
         "showlegend": false,
         "text": "3",
         "textposition": "bottom center",
         "type": "scatter",
         "x": [
          23
         ],
         "y": [
          73
         ]
        },
        {
         "marker": {
          "color": "orange",
          "size": 10
         },
         "mode": "markers+text",
         "showlegend": false,
         "text": "4",
         "textposition": "bottom center",
         "type": "scatter",
         "x": [
          45
         ],
         "y": [
          73
         ]
        },
        {
         "marker": {
          "color": "orange",
          "size": 10
         },
         "mode": "markers+text",
         "showlegend": false,
         "text": "5",
         "textposition": "bottom center",
         "type": "scatter",
         "x": [
          50
         ],
         "y": [
          50
         ]
        },
        {
         "marker": {
          "color": "red",
          "size": 12
         },
         "mode": "markers",
         "name": "Jammer",
         "type": "scatter",
         "x": [
          38
         ],
         "y": [
          50
         ]
        },
        {
         "marker": {
          "color": "blue",
          "size": 10
         },
         "mode": "markers",
         "name": "Nó não afetado",
         "type": "scatter",
         "x": [
          null
         ],
         "y": [
          null
         ]
        },
        {
         "marker": {
          "color": "orange",
          "size": 10
         },
         "mode": "markers",
         "name": "Nó afetado",
         "type": "scatter",
         "x": [
          null
         ],
         "y": [
          null
         ]
        }
       ],
       "layout": {
        "legend": {
         "itemsizing": "constant",
         "title": {
          "text": "Legenda"
         },
         "traceorder": "normal"
        },
        "template": {
         "data": {
          "bar": [
           {
            "error_x": {
             "color": "#2a3f5f"
            },
            "error_y": {
             "color": "#2a3f5f"
            },
            "marker": {
             "line": {
              "color": "#E5ECF6",
              "width": 0.5
             },
             "pattern": {
              "fillmode": "overlay",
              "size": 10,
              "solidity": 0.2
             }
            },
            "type": "bar"
           }
          ],
          "barpolar": [
           {
            "marker": {
             "line": {
              "color": "#E5ECF6",
              "width": 0.5
             },
             "pattern": {
              "fillmode": "overlay",
              "size": 10,
              "solidity": 0.2
             }
            },
            "type": "barpolar"
           }
          ],
          "carpet": [
           {
            "aaxis": {
             "endlinecolor": "#2a3f5f",
             "gridcolor": "white",
             "linecolor": "white",
             "minorgridcolor": "white",
             "startlinecolor": "#2a3f5f"
            },
            "baxis": {
             "endlinecolor": "#2a3f5f",
             "gridcolor": "white",
             "linecolor": "white",
             "minorgridcolor": "white",
             "startlinecolor": "#2a3f5f"
            },
            "type": "carpet"
           }
          ],
          "choropleth": [
           {
            "colorbar": {
             "outlinewidth": 0,
             "ticks": ""
            },
            "type": "choropleth"
           }
          ],
          "contour": [
           {
            "colorbar": {
             "outlinewidth": 0,
             "ticks": ""
            },
            "colorscale": [
             [
              0,
              "#0d0887"
             ],
             [
              0.1111111111111111,
              "#46039f"
             ],
             [
              0.2222222222222222,
              "#7201a8"
             ],
             [
              0.3333333333333333,
              "#9c179e"
             ],
             [
              0.4444444444444444,
              "#bd3786"
             ],
             [
              0.5555555555555556,
              "#d8576b"
             ],
             [
              0.6666666666666666,
              "#ed7953"
             ],
             [
              0.7777777777777778,
              "#fb9f3a"
             ],
             [
              0.8888888888888888,
              "#fdca26"
             ],
             [
              1,
              "#f0f921"
             ]
            ],
            "type": "contour"
           }
          ],
          "contourcarpet": [
           {
            "colorbar": {
             "outlinewidth": 0,
             "ticks": ""
            },
            "type": "contourcarpet"
           }
          ],
          "heatmap": [
           {
            "colorbar": {
             "outlinewidth": 0,
             "ticks": ""
            },
            "colorscale": [
             [
              0,
              "#0d0887"
             ],
             [
              0.1111111111111111,
              "#46039f"
             ],
             [
              0.2222222222222222,
              "#7201a8"
             ],
             [
              0.3333333333333333,
              "#9c179e"
             ],
             [
              0.4444444444444444,
              "#bd3786"
             ],
             [
              0.5555555555555556,
              "#d8576b"
             ],
             [
              0.6666666666666666,
              "#ed7953"
             ],
             [
              0.7777777777777778,
              "#fb9f3a"
             ],
             [
              0.8888888888888888,
              "#fdca26"
             ],
             [
              1,
              "#f0f921"
             ]
            ],
            "type": "heatmap"
           }
          ],
          "heatmapgl": [
           {
            "colorbar": {
             "outlinewidth": 0,
             "ticks": ""
            },
            "colorscale": [
             [
              0,
              "#0d0887"
             ],
             [
              0.1111111111111111,
              "#46039f"
             ],
             [
              0.2222222222222222,
              "#7201a8"
             ],
             [
              0.3333333333333333,
              "#9c179e"
             ],
             [
              0.4444444444444444,
              "#bd3786"
             ],
             [
              0.5555555555555556,
              "#d8576b"
             ],
             [
              0.6666666666666666,
              "#ed7953"
             ],
             [
              0.7777777777777778,
              "#fb9f3a"
             ],
             [
              0.8888888888888888,
              "#fdca26"
             ],
             [
              1,
              "#f0f921"
             ]
            ],
            "type": "heatmapgl"
           }
          ],
          "histogram": [
           {
            "marker": {
             "pattern": {
              "fillmode": "overlay",
              "size": 10,
              "solidity": 0.2
             }
            },
            "type": "histogram"
           }
          ],
          "histogram2d": [
           {
            "colorbar": {
             "outlinewidth": 0,
             "ticks": ""
            },
            "colorscale": [
             [
              0,
              "#0d0887"
             ],
             [
              0.1111111111111111,
              "#46039f"
             ],
             [
              0.2222222222222222,
              "#7201a8"
             ],
             [
              0.3333333333333333,
              "#9c179e"
             ],
             [
              0.4444444444444444,
              "#bd3786"
             ],
             [
              0.5555555555555556,
              "#d8576b"
             ],
             [
              0.6666666666666666,
              "#ed7953"
             ],
             [
              0.7777777777777778,
              "#fb9f3a"
             ],
             [
              0.8888888888888888,
              "#fdca26"
             ],
             [
              1,
              "#f0f921"
             ]
            ],
            "type": "histogram2d"
           }
          ],
          "histogram2dcontour": [
           {
            "colorbar": {
             "outlinewidth": 0,
             "ticks": ""
            },
            "colorscale": [
             [
              0,
              "#0d0887"
             ],
             [
              0.1111111111111111,
              "#46039f"
             ],
             [
              0.2222222222222222,
              "#7201a8"
             ],
             [
              0.3333333333333333,
              "#9c179e"
             ],
             [
              0.4444444444444444,
              "#bd3786"
             ],
             [
              0.5555555555555556,
              "#d8576b"
             ],
             [
              0.6666666666666666,
              "#ed7953"
             ],
             [
              0.7777777777777778,
              "#fb9f3a"
             ],
             [
              0.8888888888888888,
              "#fdca26"
             ],
             [
              1,
              "#f0f921"
             ]
            ],
            "type": "histogram2dcontour"
           }
          ],
          "mesh3d": [
           {
            "colorbar": {
             "outlinewidth": 0,
             "ticks": ""
            },
            "type": "mesh3d"
           }
          ],
          "parcoords": [
           {
            "line": {
             "colorbar": {
              "outlinewidth": 0,
              "ticks": ""
             }
            },
            "type": "parcoords"
           }
          ],
          "pie": [
           {
            "automargin": true,
            "type": "pie"
           }
          ],
          "scatter": [
           {
            "fillpattern": {
             "fillmode": "overlay",
             "size": 10,
             "solidity": 0.2
            },
            "type": "scatter"
           }
          ],
          "scatter3d": [
           {
            "line": {
             "colorbar": {
              "outlinewidth": 0,
              "ticks": ""
             }
            },
            "marker": {
             "colorbar": {
              "outlinewidth": 0,
              "ticks": ""
             }
            },
            "type": "scatter3d"
           }
          ],
          "scattercarpet": [
           {
            "marker": {
             "colorbar": {
              "outlinewidth": 0,
              "ticks": ""
             }
            },
            "type": "scattercarpet"
           }
          ],
          "scattergeo": [
           {
            "marker": {
             "colorbar": {
              "outlinewidth": 0,
              "ticks": ""
             }
            },
            "type": "scattergeo"
           }
          ],
          "scattergl": [
           {
            "marker": {
             "colorbar": {
              "outlinewidth": 0,
              "ticks": ""
             }
            },
            "type": "scattergl"
           }
          ],
          "scattermapbox": [
           {
            "marker": {
             "colorbar": {
              "outlinewidth": 0,
              "ticks": ""
             }
            },
            "type": "scattermapbox"
           }
          ],
          "scatterpolar": [
           {
            "marker": {
             "colorbar": {
              "outlinewidth": 0,
              "ticks": ""
             }
            },
            "type": "scatterpolar"
           }
          ],
          "scatterpolargl": [
           {
            "marker": {
             "colorbar": {
              "outlinewidth": 0,
              "ticks": ""
             }
            },
            "type": "scatterpolargl"
           }
          ],
          "scatterternary": [
           {
            "marker": {
             "colorbar": {
              "outlinewidth": 0,
              "ticks": ""
             }
            },
            "type": "scatterternary"
           }
          ],
          "surface": [
           {
            "colorbar": {
             "outlinewidth": 0,
             "ticks": ""
            },
            "colorscale": [
             [
              0,
              "#0d0887"
             ],
             [
              0.1111111111111111,
              "#46039f"
             ],
             [
              0.2222222222222222,
              "#7201a8"
             ],
             [
              0.3333333333333333,
              "#9c179e"
             ],
             [
              0.4444444444444444,
              "#bd3786"
             ],
             [
              0.5555555555555556,
              "#d8576b"
             ],
             [
              0.6666666666666666,
              "#ed7953"
             ],
             [
              0.7777777777777778,
              "#fb9f3a"
             ],
             [
              0.8888888888888888,
              "#fdca26"
             ],
             [
              1,
              "#f0f921"
             ]
            ],
            "type": "surface"
           }
          ],
          "table": [
           {
            "cells": {
             "fill": {
              "color": "#EBF0F8"
             },
             "line": {
              "color": "white"
             }
            },
            "header": {
             "fill": {
              "color": "#C8D4E3"
             },
             "line": {
              "color": "white"
             }
            },
            "type": "table"
           }
          ]
         },
         "layout": {
          "annotationdefaults": {
           "arrowcolor": "#2a3f5f",
           "arrowhead": 0,
           "arrowwidth": 1
          },
          "autotypenumbers": "strict",
          "coloraxis": {
           "colorbar": {
            "outlinewidth": 0,
            "ticks": ""
           }
          },
          "colorscale": {
           "diverging": [
            [
             0,
             "#8e0152"
            ],
            [
             0.1,
             "#c51b7d"
            ],
            [
             0.2,
             "#de77ae"
            ],
            [
             0.3,
             "#f1b6da"
            ],
            [
             0.4,
             "#fde0ef"
            ],
            [
             0.5,
             "#f7f7f7"
            ],
            [
             0.6,
             "#e6f5d0"
            ],
            [
             0.7,
             "#b8e186"
            ],
            [
             0.8,
             "#7fbc41"
            ],
            [
             0.9,
             "#4d9221"
            ],
            [
             1,
             "#276419"
            ]
           ],
           "sequential": [
            [
             0,
             "#0d0887"
            ],
            [
             0.1111111111111111,
             "#46039f"
            ],
            [
             0.2222222222222222,
             "#7201a8"
            ],
            [
             0.3333333333333333,
             "#9c179e"
            ],
            [
             0.4444444444444444,
             "#bd3786"
            ],
            [
             0.5555555555555556,
             "#d8576b"
            ],
            [
             0.6666666666666666,
             "#ed7953"
            ],
            [
             0.7777777777777778,
             "#fb9f3a"
            ],
            [
             0.8888888888888888,
             "#fdca26"
            ],
            [
             1,
             "#f0f921"
            ]
           ],
           "sequentialminus": [
            [
             0,
             "#0d0887"
            ],
            [
             0.1111111111111111,
             "#46039f"
            ],
            [
             0.2222222222222222,
             "#7201a8"
            ],
            [
             0.3333333333333333,
             "#9c179e"
            ],
            [
             0.4444444444444444,
             "#bd3786"
            ],
            [
             0.5555555555555556,
             "#d8576b"
            ],
            [
             0.6666666666666666,
             "#ed7953"
            ],
            [
             0.7777777777777778,
             "#fb9f3a"
            ],
            [
             0.8888888888888888,
             "#fdca26"
            ],
            [
             1,
             "#f0f921"
            ]
           ]
          },
          "colorway": [
           "#636efa",
           "#EF553B",
           "#00cc96",
           "#ab63fa",
           "#FFA15A",
           "#19d3f3",
           "#FF6692",
           "#B6E880",
           "#FF97FF",
           "#FECB52"
          ],
          "font": {
           "color": "#2a3f5f"
          },
          "geo": {
           "bgcolor": "white",
           "lakecolor": "white",
           "landcolor": "#E5ECF6",
           "showlakes": true,
           "showland": true,
           "subunitcolor": "white"
          },
          "hoverlabel": {
           "align": "left"
          },
          "hovermode": "closest",
          "mapbox": {
           "style": "light"
          },
          "paper_bgcolor": "white",
          "plot_bgcolor": "#E5ECF6",
          "polar": {
           "angularaxis": {
            "gridcolor": "white",
            "linecolor": "white",
            "ticks": ""
           },
           "bgcolor": "#E5ECF6",
           "radialaxis": {
            "gridcolor": "white",
            "linecolor": "white",
            "ticks": ""
           }
          },
          "scene": {
           "xaxis": {
            "backgroundcolor": "#E5ECF6",
            "gridcolor": "white",
            "gridwidth": 2,
            "linecolor": "white",
            "showbackground": true,
            "ticks": "",
            "zerolinecolor": "white"
           },
           "yaxis": {
            "backgroundcolor": "#E5ECF6",
            "gridcolor": "white",
            "gridwidth": 2,
            "linecolor": "white",
            "showbackground": true,
            "ticks": "",
            "zerolinecolor": "white"
           },
           "zaxis": {
            "backgroundcolor": "#E5ECF6",
            "gridcolor": "white",
            "gridwidth": 2,
            "linecolor": "white",
            "showbackground": true,
            "ticks": "",
            "zerolinecolor": "white"
           }
          },
          "shapedefaults": {
           "line": {
            "color": "#2a3f5f"
           }
          },
          "ternary": {
           "aaxis": {
            "gridcolor": "white",
            "linecolor": "white",
            "ticks": ""
           },
           "baxis": {
            "gridcolor": "white",
            "linecolor": "white",
            "ticks": ""
           },
           "bgcolor": "#E5ECF6",
           "caxis": {
            "gridcolor": "white",
            "linecolor": "white",
            "ticks": ""
           }
          },
          "title": {
           "x": 0.05
          },
          "xaxis": {
           "automargin": true,
           "gridcolor": "white",
           "linecolor": "white",
           "ticks": "",
           "title": {
            "standoff": 15
           },
           "zerolinecolor": "white",
           "zerolinewidth": 2
          },
          "yaxis": {
           "automargin": true,
           "gridcolor": "white",
           "linecolor": "white",
           "ticks": "",
           "title": {
            "standoff": 15
           },
           "zerolinecolor": "white",
           "zerolinewidth": 2
          }
         }
        },
        "title": {
         "text": "Simulação de Modelo de Comunicação Wireless entre Drones"
        },
        "xaxis": {
         "autorange": false,
         "range": [
          0,
          100
         ]
        },
        "yaxis": {
         "autorange": false,
         "range": [
          0,
          80
         ]
        }
       }
      }
     },
     "metadata": {},
     "output_type": "display_data"
    }
   ],
   "source": [
    "fig = go.Figure()\n",
    "\n",
    "# Adiciona os drones\n",
    "for i in range(num_drones):\n",
    "    fig.add_trace(go.Scatter(\n",
    "        x=[posicoes[i, 0]],\n",
    "        y=[posicoes[i, 1]],\n",
    "        mode='markers+text',\n",
    "        marker=dict(size=10, color='orange' if i in afetados_pelo_jammer else 'blue'),\n",
    "        text=str(i),\n",
    "        textposition=\"bottom center\",\n",
    "        showlegend=False  # Oculta esses rastros da legenda\n",
    "    ))\n",
    "\n",
    "# Adiciona o jammer\n",
    "fig.add_trace(go.Scatter(\n",
    "    x=[posicao_jammer[0]],\n",
    "    y=[posicao_jammer[1]],\n",
    "    mode='markers',\n",
    "    marker=dict(size=12, color='red'),\n",
    "    name='Jammer'\n",
    "))\n",
    "\n",
    "# Adiciona rastros para a legenda\n",
    "fig.add_trace(go.Scatter(x=[None], y=[None], mode='markers', marker=dict(size=10, color='blue'), name=\"Nó não afetado\"))\n",
    "fig.add_trace(go.Scatter(x=[None], y=[None], mode='markers', marker=dict(size=10, color='orange'), name=\"Nó afetado\"))\n",
    "# O Jammer já está adicionado com a legenda correta\n",
    "\n",
    "# Configurações do gráfico\n",
    "fig.update_layout(\n",
    "    title=\"Simulação de Modelo de Comunicação Wireless entre Drones\",\n",
    "    xaxis=dict(range=[0, limite_x], autorange=False),\n",
    "    yaxis=dict(range=[0, limite_y], autorange=False),\n",
    "    legend_title_text='Legenda',\n",
    "    legend=dict(traceorder='normal', itemsizing='constant')\n",
    ")\n",
    "\n",
    "fig.show()"
   ]
  },
  {
   "cell_type": "markdown",
   "metadata": {},
   "source": [
    "OPEN AI GYM"
   ]
  },
  {
   "cell_type": "code",
   "execution_count": 191,
   "metadata": {},
   "outputs": [],
   "source": [
    "class UAVCommunicationEnv(gym.Env):\n",
    "    metadata = {'render.modes': ['human']}\n",
    "\n",
    "    def __init__(self, num_uavs=6, area_size=(100, 100)):\n",
    "        super(UAVCommunicationEnv, self).__init__()\n",
    "        self.num_uavs = num_uavs\n",
    "        self.area_size = area_size\n",
    "        self.posicoes = posicoes\n",
    "        self.posicao_jammer = posicao_jammer\n",
    "        self.afetados_pelo_jammer=afetados_pelo_jammer\n",
    "        self.prx_resultados=prx_resultados\n",
    "        self.B_Hz = B_Hz  # Largura de banda\n",
    "        self.capacidade_bps = capacidade_dict\n",
    "        \n",
    "\n",
    "        self.action_space = spaces.MultiDiscrete([num_uavs] * num_uavs)\n",
    "        \n",
    "        # O estado agora inclui somente as direções de comunicação (índices dos UAVs-alvo)\n",
    "        self.observation_space = spaces.Discrete(num_uavs ** num_uavs)\n",
    "        \n",
    "        self.ultima_acao = np.zeros(num_uavs, dtype=int)  # Inicializa com todos os UAVs não comunicando\n",
    "\n",
    "    def step(self, action):\n",
    "        # Ajuste de ação para garantir que nenhum drone esteja se comunicando consigo mesmo\n",
    "        for i in range(self.num_uavs):\n",
    "            while action[i] == i:\n",
    "                action[i] = np.random.choice([x for x in range(self.num_uavs) if x != i])\n",
    "\n",
    "        self.ultima_acao = action\n",
    "\n",
    "        # Inicializar variáveis para armazenar a capacidade média e a capacidade mínima\n",
    "        capacidade_media = 0\n",
    "        capacidade_min = float('inf')  # Inicia com um valor muito alto para encontrar o mínimo\n",
    "\n",
    "        # Lista para coletar todas as capacidades dos links definidos pela ultima_acao\n",
    "        capacidades_selecionadas = []\n",
    "\n",
    "        for i, destino in enumerate(action):\n",
    "            # A chave é uma tupla de (transmissor, receptor)\n",
    "            chave = (i, destino)\n",
    "            \n",
    "            # Verifica se a chave existe no dicionário de capacidades\n",
    "            if chave in self.capacidade_bps:\n",
    "                capacidade = self.capacidade_bps[chave]\n",
    "                capacidades_selecionadas.append(capacidade)\n",
    "            else:\n",
    "                # Trata casos onde a chave não existe\n",
    "                capacidades_selecionadas.append(0)\n",
    "\n",
    "        # Calcular a capacidade média e mínima se houver capacidades válidas na lista\n",
    "        if capacidades_selecionadas:\n",
    "            capacidade_media = np.mean(capacidades_selecionadas)\n",
    "            capacidade_min = np.min(capacidades_selecionadas)\n",
    "\n",
    "        # Calcular a recompensa baseada na capacidade média e mínima dos links selecionados\n",
    "        recompensa = 0.5 * capacidade_media + 0.5 * capacidade_min\n",
    "\n",
    "        done = False\n",
    "        info = {\n",
    "            'capacidade_media': capacidade_media,\n",
    "            'capacidade_min': capacidade_min,\n",
    "            'capacidades_selecionadas': capacidades_selecionadas  # Opcional: para debug ou informação adicional\n",
    "        }\n",
    "\n",
    "        return self.ultima_acao, recompensa, done, info\n",
    "\n",
    "    \n",
    "    \n",
    "    def render(self, mode='human'):\n",
    "            \n",
    "        sns.set(style=\"whitegrid\")\n",
    "        fig, ax = plt.subplots(figsize=(9, 4))\n",
    "\n",
    "        # Marca para garantir que os labels da legenda sejam adicionados apenas uma vez\n",
    "        label_afetado_added = False\n",
    "        label_nao_afetado_added = False\n",
    "\n",
    "        for i, pos in enumerate(self.posicoes):\n",
    "            if i in self.afetados_pelo_jammer:\n",
    "                if not label_afetado_added:\n",
    "                    ax.scatter(pos[0], pos[1], color='orange', s=100, label='Drone Afetado', alpha=0.7)\n",
    "                    label_afetado_added = True\n",
    "                else:\n",
    "                    ax.scatter(pos[0], pos[1], color='orange', s=100, alpha=0.7)\n",
    "            else:\n",
    "                if not label_nao_afetado_added:\n",
    "                    ax.scatter(pos[0], pos[1], color='blue', s=100, label='Drone Não Afetado', alpha=0.7)\n",
    "                    label_nao_afetado_added = True\n",
    "                else:\n",
    "                    ax.scatter(pos[0], pos[1], color='blue', s=100, alpha=0.7)\n",
    "            ax.text(pos[0], pos[1] - 2, f'{i}', horizontalalignment='center')\n",
    "            \n",
    "        ax.legend()\n",
    "        # Desenha as linhas de comunicação e setas\n",
    "        for i, destino in enumerate(self.ultima_acao):\n",
    "            if destino != i:\n",
    "                pos_inicio = self.posicoes[i]\n",
    "                pos_final = self.posicoes[destino]\n",
    "                ax.plot([pos_inicio[0], pos_final[0]], [pos_inicio[1], pos_final[1]], 'b--', alpha=0.5)  # Linha tracejada\n",
    "                # Calcula a direção para a seta\n",
    "                direcao = pos_final - pos_inicio\n",
    "                direcao_norm = direcao / np.linalg.norm(direcao)\n",
    "                # Define o comprimento da seta\n",
    "                comprimento_seta = 5\n",
    "                ponto_final_seta = pos_inicio + direcao_norm * comprimento_seta\n",
    "                # Desenha a seta\n",
    "                ax.arrow(pos_inicio[0], pos_inicio[1], ponto_final_seta[0] - pos_inicio[0], ponto_final_seta[1] - pos_inicio[1], \n",
    "                        head_width=2, head_length=2, fc='b', ec='b')\n",
    "\n",
    "        # Desenha o jammer\n",
    "        ax.scatter(self.posicao_jammer[0], self.posicao_jammer[1], color='red', s=100, marker='o', label='Jammer')\n",
    "        \n",
    "        # Configurações finais do gráfico\n",
    "        ax.set_xlabel('X')\n",
    "        ax.set_ylabel('Y')\n",
    "        ax.set_xlim(0, self.area_size[0])\n",
    "        ax.set_ylim(0, self.area_size[1])\n",
    "        ax.legend()\n",
    "        plt.title('Comunicação UAV com Jammer')\n",
    "        plt.show()\n",
    "\n",
    "    \n"
   ]
  },
  {
   "cell_type": "code",
   "execution_count": 192,
   "metadata": {},
   "outputs": [
    {
     "data": {
      "image/png": "[encoded data removed]",
      "text/plain": [
       "<Figure size 900x400 with 1 Axes>"
      ]
     },
     "metadata": {},
     "output_type": "display_data"
    },
    {
     "name": "stdout",
     "output_type": "stream",
     "text": [
      "[3 2 4 0 3 4]\n",
      "{'capacidade_media': 737.880056526489, 'capacidade_min': 220.7281127874874, 'capacidades_selecionadas': [542.8673036395667, 490.3087364198001, 220.7281127874874, 542.8673036395667, 1382.8127032426964, 1247.696179429817]}\n"
     ]
    }
   ],
   "source": [
    "env = UAVCommunicationEnv()\n",
    "\n",
    "state = env.reset()\n",
    "done = False\n",
    "while not done:\n",
    "    action = env.action_space.sample()  # Exemplo: escolha uma ação aleatoriamente\n",
    "    state, reward, done, info = env.step(action)\n",
    "    env.render()  # Chame render a cada passo para visualizar\n",
    "    print(state)\n",
    "    print(info)\n",
    "    done=True\n"
   ]
  }
 ],
 "metadata": {
  "kernelspec": {
   "display_name": "base",
   "language": "python",
   "name": "python3"
  },
  "language_info": {
   "codemirror_mode": {
    "name": "ipython",
    "version": 3
   },
   "file_extension": ".py",
   "mimetype": "text/x-python",
   "name": "python",
   "nbconvert_exporter": "python",
   "pygments_lexer": "ipython3",
   "version": "3.11.7"
  }
 },
 "nbformat": 4,
 "nbformat_minor": 2
}
